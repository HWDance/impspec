{
 "cells": [
  {
   "cell_type": "code",
   "execution_count": null,
   "id": "aad20233-4451-4598-954f-1d39f26f4c7f",
   "metadata": {},
   "outputs": [
    {
     "name": "stderr",
     "output_type": "stream",
     "text": [
      "/nfs/ghome/live/danceh/Causal-GP/causal-KL-GP/src/dgps.py:28: UserWarning: The use of `x.T` on tensors of dimension other than 2 to reverse their shape is deprecated and it will throw an error in a future release. Consider `x.mT` to transpose batches of matrices or `x.permute(*torch.arange(x.ndim - 1, -1, -1))` to reverse the dimensions of a tensor. (Triggered internally at /home/conda/feedstock_root/build_artifacts/libtorch_1724888750493/work/aten/src/ATen/native/TensorShape.cpp:3697.)\n",
      "  VdoZ = (f_x(doZ,coefs_v)).T[:,:,None] @ torch.ones(mc_samples_EYdoZ).view(1,mc_samples_EYdoZ) + noise_distribution.sample((mc_samples_EYdoZ,ntest)).T\n"
     ]
    },
    {
     "name": "stdout",
     "output_type": "stream",
     "text": [
      "iter 0 P(Y|V) loss:  tensor(79.0267)\n",
      "iter 100 P(Y|V) loss:  tensor(-23.9146)\n",
      "iter 200 P(Y|V) loss:  tensor(-24.0154)\n",
      "iter 300 P(Y|V) loss:  tensor(-24.0235)\n",
      "iter 400 P(Y|V) loss:  tensor(-24.0239)\n",
      "iter 500 P(Y|V) loss:  tensor(-24.0240)\n",
      "iter 600 P(Y|V) loss:  tensor(-24.0240)\n",
      "iter 700 P(Y|V) loss:  tensor(-24.0240)\n",
      "iter 800 P(Y|V) loss:  tensor(-24.0239)\n",
      "iter 900 P(Y|V) loss:  tensor(-24.0240)\n"
     ]
    }
   ],
   "source": [
    "# imports\n",
    "import torch\n",
    "import sys\n",
    "from pathlib import Path\n",
    "\n",
    "path = Path.cwd().parents[1]\n",
    "if str(path) not in sys.path:\n",
    "    sys.path.append(str(path))\n",
    "\n",
    "from src.baselineGP import *\n",
    "from src.kernels import *\n",
    "from src.dgps import *\n",
    "\n",
    "seed = 0\n",
    "n = 500\n",
    "ntest = 100 \n",
    "d = 5\n",
    "noise = 0.5 \n",
    "niter = 1000\n",
    "learn_rate = 0.1\n",
    "error_samples = 10**2\n",
    "gp_samples = 10**2\n",
    "kernel = \"gaussian\"\n",
    "\n",
    "# main\n",
    "    \n",
    "torch.manual_seed(seed)\n",
    "\n",
    "\"\"\" Fixed configs \"\"\"\n",
    "Kernel = GaussianKernel\n",
    "single_kernel = False\n",
    "quantiles = torch.linspace(0,1,101)\n",
    "reg = 1e-3\n",
    "force_PD = True\n",
    "\n",
    "if kernel == \"gaussian\":\n",
    "    Kernel = GaussianKernel\n",
    "else:\n",
    "    Kernel = GammaExponentialKernel\n",
    "\n",
    "\"\"\" Draw data \"\"\"\n",
    "Z, V, Y, doZ, YdoZ, EYdoZ = Abelation(n, ntest, d, noise, doZlower = 0, doZupper = 1, mc_samples_EYdoZ = 10**4, seed = seed) \n",
    "\n",
    "\"\"\" Initialise model \"\"\"\n",
    "model = baselineGP(Kernel_A = Kernel, \n",
    "               Kernel_V = Kernel, \n",
    "               dim_A = Z.size()[1], \n",
    "               dim_V = V.size()[1], \n",
    "               single_kernel = single_kernel)\n",
    "\n",
    "\"\"\" Train model \"\"\"\n",
    "model.train(Y,Z,V,niter,learn_rate, force_PD = force_PD, reg = reg)\n",
    "\n",
    "\"\"\" Get Posterior mean \"\"\"\n",
    "EYdoZ_samples, EVdoZ_samples = model.marginal_post_sample(Y,V,Z,doZ, \n",
    "                                                        reg = reg, \n",
    "                                                        error_samples = error_samples, \n",
    "                                                        gp_samples = gp_samples)\n",
    "\n",
    "\"\"\" Compute out of sample metrics \"\"\"\n",
    "upper_quantiles = 1-(1-quantiles)/2\n",
    "lower_quantiles = (1-quantiles)/2\n",
    "u = (upper_quantiles*(gp_samples-1)).int()\n",
    "l = (lower_quantiles*(gp_samples-1)).int()\n",
    "EY_u = EYdoZ_samples.sort(1)[0][:,u]\n",
    "EY_l = EYdoZ_samples.sort(1)[0][:,l]\n",
    "\n",
    "posterior_fraction = ((EY_u>=EYdoZ)*(EY_l<=EYdoZ)).float()   \n",
    "rmse = ((EYdoZ - EYdoZ_samples.mean(1).reshape(ntest,1))**2).mean()**0.5"
   ]
  }
 ],
 "metadata": {
  "kernelspec": {
   "display_name": "Python 3 (ipykernel)",
   "language": "python",
   "name": "python3"
  },
  "language_info": {
   "codemirror_mode": {
    "name": "ipython",
    "version": 3
   },
   "file_extension": ".py",
   "mimetype": "text/x-python",
   "name": "python",
   "nbconvert_exporter": "python",
   "pygments_lexer": "ipython3",
   "version": "3.12.5"
  }
 },
 "nbformat": 4,
 "nbformat_minor": 5
}
