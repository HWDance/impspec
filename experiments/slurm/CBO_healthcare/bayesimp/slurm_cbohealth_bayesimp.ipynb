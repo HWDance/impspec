{
 "cells": [
  {
   "cell_type": "code",
   "execution_count": 1,
   "id": "46268684-f281-4b9c-90f1-392537f18dbf",
   "metadata": {},
   "outputs": [],
   "source": [
    "# Imports\n",
    "import torch\n",
    "import os \n",
    "import sys\n",
    "from dask_jobqueue import SLURMCluster\n",
    "from distributed import Client\n",
    "from pathlib import Path\n",
    "\n",
    "import do_cbohealth_bayesimp as file"
   ]
  },
  {
   "cell_type": "code",
   "execution_count": 2,
   "id": "a8c24b2e-ac59-421b-ac72-e790d04a8471",
   "metadata": {},
   "outputs": [],
   "source": [
    "# Args setup\n",
    "ntrial = 50\n",
    "n = 100\n",
    "ntest = 100\n",
    "niter = 1000\n",
    "optimise_mu = [False, True]\n",
    "exact = [True, True]\n",
    "mc_samples = 100"
   ]
  },
  {
   "cell_type": "code",
   "execution_count": 3,
   "id": "fb863671-3c55-4e69-9537-cf846582a6da",
   "metadata": {},
   "outputs": [
    {
     "name": "stderr",
     "output_type": "stream",
     "text": [
      "/nfs/ghome/live/danceh/.local/mambaforge/envs/causalgp/lib/python3.12/site-packages/distributed/node.py:187: UserWarning: Port 11111 is already in use.\n",
      "Perhaps you already have a cluster running?\n",
      "Hosting the HTTP server on port 45509 instead\n",
      "  warnings.warn(\n"
     ]
    }
   ],
   "source": [
    "# Cluster creation\n",
    "cluster = SLURMCluster(\n",
    "    n_workers=0,\n",
    "    memory=\"32GB\",\n",
    "    processes=1,\n",
    "    cores=1,\n",
    "    scheduler_options={\n",
    "        \"dashboard_address\": \":11111\",\n",
    "        \"allowed_failures\": 10\n",
    "    },\n",
    "    job_cpu=1,\n",
    "    walltime=\"3:0:0\",\n",
    "    job_extra_directives = [\"-p medium,fast,cpu\"],\n",
    ")\n",
    "cluster.adapt(minimum=0, maximum=200)\n",
    "client = Client(cluster)"
   ]
  },
  {
   "cell_type": "code",
   "execution_count": 4,
   "id": "c50cdf79-4a43-4cdc-8918-e82792b554b4",
   "metadata": {},
   "outputs": [],
   "source": [
    "# Submitting jobs\n",
    "futures = []\n",
    "for i in range(len(optimise_mu)):           \n",
    "    for seed in range(ntrial):\n",
    "            f = client.submit(file.main,\n",
    "                             seed,\n",
    "                             n,ntest,\n",
    "                             optimise_mu = optimise_mu[i], \n",
    "                             exact = exact[i],\n",
    "                             mc_samples = mc_samples)\n",
    "            futures += [f]"
   ]
  },
  {
   "cell_type": "code",
   "execution_count": 5,
   "id": "a248d795-5e4d-4ac4-8a21-5f84775f9ef2",
   "metadata": {},
   "outputs": [],
   "source": [
    "# Check on futures\n",
    "#futures"
   ]
  },
  {
   "cell_type": "code",
   "execution_count": 6,
   "id": "f18c8218-4374-4884-83fa-f4a28f8cbbbf",
   "metadata": {},
   "outputs": [
    {
     "name": "stderr",
     "output_type": "stream",
     "text": [
      "/nfs/ghome/live/danceh/Causal-GP/causal-KL-GP/src/CBO.py:8: SyntaxWarning: invalid escape sequence '\\h'\n",
      "  \"\"\"\n",
      "/nfs/ghome/live/danceh/Causal-GP/causal-KL-GP/src/CBO.py:23: SyntaxWarning: invalid escape sequence '\\h'\n",
      "  \"\"\"\n"
     ]
    },
    {
     "ename": "ValueError",
     "evalue": "Expected value argument (Tensor of shape (100,)) to be within the support (Real()) of the distribution Normal(loc: 0.0, scale: 1.0), but found invalid values:\ntensor([-1.7483, -1.3583, -1.1455, -1.0065, -0.9065, -0.8300, -0.7690, -0.7190,\n        -0.6771, -0.6412, -0.6101, -0.5829, -0.5589, -0.5375, -0.5183, -0.5011,\n        -0.4855, -0.4714, -0.4586, -0.4469, -0.4363, -0.4267, -0.4179, -0.4099,\n        -0.4028, -0.3963, -0.3905, -0.3853, -0.3808, -0.3768, -0.3734, -0.3705,\n        -0.3682, -0.3664, -0.3651, -0.3644, -0.3641, -0.3644, -0.3651, -0.3664,\n        -0.3682, -0.3705, -0.3734, -0.3768, -0.3808, -0.3853, -0.3905, -0.3963,\n        -0.4028, -0.4099, -0.4179, -0.4267, -0.4363, -0.4469, -0.4586, -0.4714,\n        -0.4855, -0.5011, -0.5183, -0.5375, -0.5589, -0.5829, -0.6101, -0.6412,\n        -0.6771, -0.7190, -0.7690, -0.8300, -0.9065, -1.0065, -1.1455, -1.3583,\n        -1.7483, -2.9176,     nan,     nan,     nan,     nan,     nan,     nan,\n            nan,     nan,     nan,     nan,     nan,     nan,     nan,     nan,\n            nan,     nan,     nan,     nan,     nan,     nan,     nan,     nan,\n            nan,     nan,     nan,     nan])",
     "output_type": "error",
     "traceback": [
      "\u001b[0;31m---------------------------------------------------------------------------\u001b[0m",
      "\u001b[0;31mValueError\u001b[0m                                Traceback (most recent call last)",
      "Cell \u001b[0;32mIn[6], line 2\u001b[0m\n\u001b[1;32m      1\u001b[0m \u001b[38;5;66;03m# Getting results\u001b[39;00m\n\u001b[0;32m----> 2\u001b[0m results \u001b[38;5;241m=\u001b[39m \u001b[43mclient\u001b[49m\u001b[38;5;241;43m.\u001b[39;49m\u001b[43mgather\u001b[49m\u001b[43m(\u001b[49m\u001b[43mfutures\u001b[49m\u001b[43m)\u001b[49m\n",
      "File \u001b[0;32m~/.local/mambaforge/envs/causalgp/lib/python3.12/site-packages/distributed/client.py:2556\u001b[0m, in \u001b[0;36mClient.gather\u001b[0;34m(self, futures, errors, direct, asynchronous)\u001b[0m\n\u001b[1;32m   2553\u001b[0m     local_worker \u001b[38;5;241m=\u001b[39m \u001b[38;5;28;01mNone\u001b[39;00m\n\u001b[1;32m   2555\u001b[0m \u001b[38;5;28;01mwith\u001b[39;00m shorten_traceback():\n\u001b[0;32m-> 2556\u001b[0m     \u001b[38;5;28;01mreturn\u001b[39;00m \u001b[38;5;28;43mself\u001b[39;49m\u001b[38;5;241;43m.\u001b[39;49m\u001b[43msync\u001b[49m\u001b[43m(\u001b[49m\n\u001b[1;32m   2557\u001b[0m \u001b[43m        \u001b[49m\u001b[38;5;28;43mself\u001b[39;49m\u001b[38;5;241;43m.\u001b[39;49m\u001b[43m_gather\u001b[49m\u001b[43m,\u001b[49m\n\u001b[1;32m   2558\u001b[0m \u001b[43m        \u001b[49m\u001b[43mfutures\u001b[49m\u001b[43m,\u001b[49m\n\u001b[1;32m   2559\u001b[0m \u001b[43m        \u001b[49m\u001b[43merrors\u001b[49m\u001b[38;5;241;43m=\u001b[39;49m\u001b[43merrors\u001b[49m\u001b[43m,\u001b[49m\n\u001b[1;32m   2560\u001b[0m \u001b[43m        \u001b[49m\u001b[43mdirect\u001b[49m\u001b[38;5;241;43m=\u001b[39;49m\u001b[43mdirect\u001b[49m\u001b[43m,\u001b[49m\n\u001b[1;32m   2561\u001b[0m \u001b[43m        \u001b[49m\u001b[43mlocal_worker\u001b[49m\u001b[38;5;241;43m=\u001b[39;49m\u001b[43mlocal_worker\u001b[49m\u001b[43m,\u001b[49m\n\u001b[1;32m   2562\u001b[0m \u001b[43m        \u001b[49m\u001b[43masynchronous\u001b[49m\u001b[38;5;241;43m=\u001b[39;49m\u001b[43masynchronous\u001b[49m\u001b[43m,\u001b[49m\n\u001b[1;32m   2563\u001b[0m \u001b[43m    \u001b[49m\u001b[43m)\u001b[49m\n",
      "File \u001b[0;32m~/Causal-GP/causal-KL-GP/experiments/slurm/CBO_healthcare/bayesimp/do_cbohealth_bayesimp.py:118\u001b[0m, in \u001b[0;36mmain\u001b[0;34m()\u001b[0m\n\u001b[1;32m    115\u001b[0m doXtrain, EYdoXtrain \u001b[38;5;241m=\u001b[39m doX[start]\u001b[38;5;241m.\u001b[39mreshape(\u001b[38;5;241m1\u001b[39m,\u001b[38;5;241m1\u001b[39m), EYdoX[start]\u001b[38;5;241m.\u001b[39mreshape(\u001b[38;5;241m1\u001b[39m,\u001b[38;5;241m1\u001b[39m)\n\u001b[1;32m    117\u001b[0m \u001b[38;5;66;03m# Run CBO iters\u001b[39;00m\n\u001b[0;32m--> 118\u001b[0m doXeval, EYdoXeval \u001b[38;5;241m=\u001b[39m causal_bayesian_optimization(X_train \u001b[38;5;241m=\u001b[39m doXtrain, \n\u001b[1;32m    119\u001b[0m                                                     y_train \u001b[38;5;241m=\u001b[39m EYdoXtrain, \n\u001b[1;32m    120\u001b[0m                                                     kernel \u001b[38;5;241m=\u001b[39m cbo_kernel, \n\u001b[1;32m    121\u001b[0m                                                     mean \u001b[38;5;241m=\u001b[39m mean,\n\u001b[1;32m    122\u001b[0m                                                     X_test \u001b[38;5;241m=\u001b[39m doX, \n\u001b[1;32m    123\u001b[0m                                                     Y_test \u001b[38;5;241m=\u001b[39m EYdoX, \n\u001b[1;32m    124\u001b[0m                                                     n_iter \u001b[38;5;241m=\u001b[39m n_iter, \n\u001b[1;32m    125\u001b[0m                                                     update_hyperparameters \u001b[38;5;241m=\u001b[39m update_hyperparameters,\n\u001b[1;32m    126\u001b[0m                                                     xi \u001b[38;5;241m=\u001b[39m xi, \n\u001b[1;32m    127\u001b[0m                                                     print_ \u001b[38;5;241m=\u001b[39m \u001b[38;5;28;01mFalse\u001b[39;00m, \n\u001b[1;32m    128\u001b[0m                                                     minimise \u001b[38;5;241m=\u001b[39m \u001b[38;5;28;01mTrue\u001b[39;00m,\n\u001b[1;32m    129\u001b[0m                                                     noise_init \u001b[38;5;241m=\u001b[39m noise_init,\n\u001b[1;32m    130\u001b[0m                                                     reg \u001b[38;5;241m=\u001b[39m cbo_reg)\n\u001b[1;32m    132\u001b[0m \u001b[38;5;28;01mreturn\u001b[39;00m {\u001b[38;5;124m\"\u001b[39m\u001b[38;5;124mname\u001b[39m\u001b[38;5;124m\"\u001b[39m : \u001b[38;5;124m\"\u001b[39m\u001b[38;5;124mbayesimp_optmu=\u001b[39m\u001b[38;5;132;01m{0}\u001b[39;00m\u001b[38;5;124m_exact=\u001b[39m\u001b[38;5;132;01m{1}\u001b[39;00m\u001b[38;5;124m\"\u001b[39m\u001b[38;5;241m.\u001b[39mformat(optimise_mu, exact),\n\u001b[1;32m    133\u001b[0m         \u001b[38;5;124m\"\u001b[39m\u001b[38;5;124mdoXeval\u001b[39m\u001b[38;5;124m\"\u001b[39m : doXeval, \n\u001b[1;32m    134\u001b[0m        \u001b[38;5;124m\"\u001b[39m\u001b[38;5;124mEYdoXeval\u001b[39m\u001b[38;5;124m\"\u001b[39m : EYdoXeval,\n\u001b[1;32m    135\u001b[0m        }\n",
      "File \u001b[0;32m~/Causal-GP/causal-KL-GP/src/CBO.py:92\u001b[0m, in \u001b[0;36mcausal_bayesian_optimization\u001b[0;34m()\u001b[0m\n\u001b[1;32m     89\u001b[0m sigma_s \u001b[38;5;241m=\u001b[39m torch\u001b[38;5;241m.\u001b[39msqrt(torch\u001b[38;5;241m.\u001b[39mdiag(cov_s))\n\u001b[1;32m     91\u001b[0m \u001b[38;5;66;03m# Calculate the Expected Improvement\u001b[39;00m\n\u001b[0;32m---> 92\u001b[0m ei \u001b[38;5;241m=\u001b[39m expected_improvement(mu_s[:,\u001b[38;5;241m0\u001b[39m], sigma_s, y_best, xi \u001b[38;5;241m=\u001b[39m xi, minimise \u001b[38;5;241m=\u001b[39m minimise)\n\u001b[1;32m     94\u001b[0m \u001b[38;5;66;03m# Find the next best point\u001b[39;00m\n\u001b[1;32m     95\u001b[0m next_index \u001b[38;5;241m=\u001b[39m torch\u001b[38;5;241m.\u001b[39margmax(ei)\n",
      "File \u001b[0;32m~/Causal-GP/causal-KL-GP/src/CBO.py:52\u001b[0m, in \u001b[0;36mexpected_improvement\u001b[0;34m()\u001b[0m\n\u001b[1;32m     50\u001b[0m \u001b[38;5;28;01mif\u001b[39;00m minimise:\n\u001b[1;32m     51\u001b[0m     Z \u001b[38;5;241m=\u001b[39m \u001b[38;5;241m-\u001b[39m(mu \u001b[38;5;241m-\u001b[39m y_best \u001b[38;5;241m-\u001b[39m xi) \u001b[38;5;241m/\u001b[39m sigma\n\u001b[0;32m---> 52\u001b[0m     ei \u001b[38;5;241m=\u001b[39m \u001b[38;5;241m-\u001b[39m(mu \u001b[38;5;241m-\u001b[39m y_best \u001b[38;5;241m-\u001b[39m xi) \u001b[38;5;241m*\u001b[39m torch\u001b[38;5;241m.\u001b[39mdistributions\u001b[38;5;241m.\u001b[39mNormal(\u001b[38;5;241m0\u001b[39m, \u001b[38;5;241m1\u001b[39m)\u001b[38;5;241m.\u001b[39mcdf(Z) \u001b[38;5;241m+\u001b[39m sigma \u001b[38;5;241m*\u001b[39m torch\u001b[38;5;241m.\u001b[39mdistributions\u001b[38;5;241m.\u001b[39mNormal(\u001b[38;5;241m0\u001b[39m, \u001b[38;5;241m1\u001b[39m)\u001b[38;5;241m.\u001b[39mlog_prob(Z)\u001b[38;5;241m.\u001b[39mexp()\n\u001b[1;32m     54\u001b[0m \u001b[38;5;28;01melse\u001b[39;00m:\n\u001b[1;32m     55\u001b[0m     Z \u001b[38;5;241m=\u001b[39m (mu \u001b[38;5;241m-\u001b[39m y_best \u001b[38;5;241m-\u001b[39m xi) \u001b[38;5;241m/\u001b[39m sigma\n",
      "File \u001b[0;32m~/.local/mambaforge/envs/causalgp/lib/python3.12/site-packages/torch/distributions/normal.py:94\u001b[0m, in \u001b[0;36mcdf\u001b[0;34m()\u001b[0m\n\u001b[1;32m     92\u001b[0m \u001b[38;5;28;01mdef\u001b[39;00m \u001b[38;5;21mcdf\u001b[39m(\u001b[38;5;28mself\u001b[39m, value):\n\u001b[1;32m     93\u001b[0m     \u001b[38;5;28;01mif\u001b[39;00m \u001b[38;5;28mself\u001b[39m\u001b[38;5;241m.\u001b[39m_validate_args:\n\u001b[0;32m---> 94\u001b[0m         \u001b[38;5;28mself\u001b[39m\u001b[38;5;241m.\u001b[39m_validate_sample(value)\n\u001b[1;32m     95\u001b[0m     \u001b[38;5;28;01mreturn\u001b[39;00m \u001b[38;5;241m0.5\u001b[39m \u001b[38;5;241m*\u001b[39m (\n\u001b[1;32m     96\u001b[0m         \u001b[38;5;241m1\u001b[39m \u001b[38;5;241m+\u001b[39m torch\u001b[38;5;241m.\u001b[39merf((value \u001b[38;5;241m-\u001b[39m \u001b[38;5;28mself\u001b[39m\u001b[38;5;241m.\u001b[39mloc) \u001b[38;5;241m*\u001b[39m \u001b[38;5;28mself\u001b[39m\u001b[38;5;241m.\u001b[39mscale\u001b[38;5;241m.\u001b[39mreciprocal() \u001b[38;5;241m/\u001b[39m math\u001b[38;5;241m.\u001b[39msqrt(\u001b[38;5;241m2\u001b[39m))\n\u001b[1;32m     97\u001b[0m     )\n",
      "File \u001b[0;32m~/.local/mambaforge/envs/causalgp/lib/python3.12/site-packages/torch/distributions/distribution.py:315\u001b[0m, in \u001b[0;36m_validate_sample\u001b[0;34m()\u001b[0m\n\u001b[1;32m    313\u001b[0m valid \u001b[38;5;241m=\u001b[39m support\u001b[38;5;241m.\u001b[39mcheck(value)\n\u001b[1;32m    314\u001b[0m \u001b[38;5;28;01mif\u001b[39;00m \u001b[38;5;129;01mnot\u001b[39;00m valid\u001b[38;5;241m.\u001b[39mall():\n\u001b[0;32m--> 315\u001b[0m     \u001b[38;5;28;01mraise\u001b[39;00m \u001b[38;5;167;01mValueError\u001b[39;00m(\n\u001b[1;32m    316\u001b[0m         \u001b[38;5;124m\"\u001b[39m\u001b[38;5;124mExpected value argument \u001b[39m\u001b[38;5;124m\"\u001b[39m\n\u001b[1;32m    317\u001b[0m         \u001b[38;5;124mf\u001b[39m\u001b[38;5;124m\"\u001b[39m\u001b[38;5;124m(\u001b[39m\u001b[38;5;132;01m{\u001b[39;00m\u001b[38;5;28mtype\u001b[39m(value)\u001b[38;5;241m.\u001b[39m\u001b[38;5;18m__name__\u001b[39m\u001b[38;5;132;01m}\u001b[39;00m\u001b[38;5;124m of shape \u001b[39m\u001b[38;5;132;01m{\u001b[39;00m\u001b[38;5;28mtuple\u001b[39m(value\u001b[38;5;241m.\u001b[39mshape)\u001b[38;5;132;01m}\u001b[39;00m\u001b[38;5;124m) \u001b[39m\u001b[38;5;124m\"\u001b[39m\n\u001b[1;32m    318\u001b[0m         \u001b[38;5;124mf\u001b[39m\u001b[38;5;124m\"\u001b[39m\u001b[38;5;124mto be within the support (\u001b[39m\u001b[38;5;132;01m{\u001b[39;00m\u001b[38;5;28mrepr\u001b[39m(support)\u001b[38;5;132;01m}\u001b[39;00m\u001b[38;5;124m) \u001b[39m\u001b[38;5;124m\"\u001b[39m\n\u001b[1;32m    319\u001b[0m         \u001b[38;5;124mf\u001b[39m\u001b[38;5;124m\"\u001b[39m\u001b[38;5;124mof the distribution \u001b[39m\u001b[38;5;132;01m{\u001b[39;00m\u001b[38;5;28mrepr\u001b[39m(\u001b[38;5;28mself\u001b[39m)\u001b[38;5;132;01m}\u001b[39;00m\u001b[38;5;124m, \u001b[39m\u001b[38;5;124m\"\u001b[39m\n\u001b[1;32m    320\u001b[0m         \u001b[38;5;124mf\u001b[39m\u001b[38;5;124m\"\u001b[39m\u001b[38;5;124mbut found invalid values:\u001b[39m\u001b[38;5;130;01m\\n\u001b[39;00m\u001b[38;5;132;01m{\u001b[39;00mvalue\u001b[38;5;132;01m}\u001b[39;00m\u001b[38;5;124m\"\u001b[39m\n\u001b[1;32m    321\u001b[0m     )\n",
      "\u001b[0;31mValueError\u001b[0m: Expected value argument (Tensor of shape (100,)) to be within the support (Real()) of the distribution Normal(loc: 0.0, scale: 1.0), but found invalid values:\ntensor([-1.7483, -1.3583, -1.1455, -1.0065, -0.9065, -0.8300, -0.7690, -0.7190,\n        -0.6771, -0.6412, -0.6101, -0.5829, -0.5589, -0.5375, -0.5183, -0.5011,\n        -0.4855, -0.4714, -0.4586, -0.4469, -0.4363, -0.4267, -0.4179, -0.4099,\n        -0.4028, -0.3963, -0.3905, -0.3853, -0.3808, -0.3768, -0.3734, -0.3705,\n        -0.3682, -0.3664, -0.3651, -0.3644, -0.3641, -0.3644, -0.3651, -0.3664,\n        -0.3682, -0.3705, -0.3734, -0.3768, -0.3808, -0.3853, -0.3905, -0.3963,\n        -0.4028, -0.4099, -0.4179, -0.4267, -0.4363, -0.4469, -0.4586, -0.4714,\n        -0.4855, -0.5011, -0.5183, -0.5375, -0.5589, -0.5829, -0.6101, -0.6412,\n        -0.6771, -0.7190, -0.7690, -0.8300, -0.9065, -1.0065, -1.1455, -1.3583,\n        -1.7483, -2.9176,     nan,     nan,     nan,     nan,     nan,     nan,\n            nan,     nan,     nan,     nan,     nan,     nan,     nan,     nan,\n            nan,     nan,     nan,     nan,     nan,     nan,     nan,     nan,\n            nan,     nan,     nan,     nan])"
     ]
    }
   ],
   "source": [
    "# Getting results\n",
    "results = client.gather(futures)"
   ]
  },
  {
   "cell_type": "code",
   "execution_count": null,
   "id": "555c9e87-bb97-4c84-83ef-ba7d92cb0b9e",
   "metadata": {},
   "outputs": [],
   "source": [
    "# Closing client\n",
    "client.close()\n",
    "cluster.close()"
   ]
  },
  {
   "cell_type": "code",
   "execution_count": null,
   "id": "7a3ac498-c027-4afe-8149-cf049bc4a696",
   "metadata": {},
   "outputs": [],
   "source": [
    "# Saving results\n",
    "torch.save(obj = results,\n",
    "           f = \"cbohealth_bayesimp_ntrial={0}_n={1}_d={2}_noise={3}.pt\".format(ntrial,n,d,noise))"
   ]
  }
 ],
 "metadata": {
  "kernelspec": {
   "display_name": "Python 3 (ipykernel)",
   "language": "python",
   "name": "python3"
  },
  "language_info": {
   "codemirror_mode": {
    "name": "ipython",
    "version": 3
   },
   "file_extension": ".py",
   "mimetype": "text/x-python",
   "name": "python",
   "nbconvert_exporter": "python",
   "pygments_lexer": "ipython3",
   "version": "3.12.5"
  }
 },
 "nbformat": 4,
 "nbformat_minor": 5
}
