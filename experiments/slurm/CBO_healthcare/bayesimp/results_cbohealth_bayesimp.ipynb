{
 "cells": [
  {
   "cell_type": "code",
   "execution_count": 1,
   "id": "f03bd068-139d-4009-a0d6-caf8b01b99cd",
   "metadata": {},
   "outputs": [],
   "source": [
    "import torch\n",
    "import matplotlib.pyplot as plt"
   ]
  },
  {
   "cell_type": "code",
   "execution_count": 6,
   "id": "dc2c531c-a2f6-4e59-82f1-ef4220763ddb",
   "metadata": {},
   "outputs": [],
   "source": [
    "# Imports\n",
    "trials = 50\n",
    "n=100\n",
    "results = torch.load(\"cbohealth_bayesimp_ntrial={0}_n={1}.pt\".format(trials,n), \n",
    "                     weights_only = True)\n",
    "\n",
    "# Getting dimensions and names\n",
    "n_result = len(results)\n",
    "n_model = int(n_result/trials)\n",
    "\n",
    "names = []\n",
    "for i in range(n_result):\n",
    "    if results[i]['name'] not in names:\n",
    "        names.append(results[i]['name'])"
   ]
  },
  {
   "cell_type": "code",
   "execution_count": 7,
   "id": "5e85868e-3d7a-4655-98e1-bb01c52fe526",
   "metadata": {},
   "outputs": [],
   "source": [
    "EYdoX_eval = torch.zeros((len(results[0]['EYdoXeval']), trials, n_model))\n",
    "for m in range(n_model):\n",
    "    for t in range(trials):\n",
    "        EYdoX_eval[:,t,m] = results[trials*m + t]['EYdoXeval'][:,0]\n",
    "\n",
    "doX_eval = torch.zeros((len(results[0]['doXeval']), trials, n_model))\n",
    "for m in range(n_model):\n",
    "    for t in range(trials):\n",
    "        doX_eval[:,t,m] = results[trials*m + t]['doXeval'][:,0]"
   ]
  },
  {
   "cell_type": "code",
   "execution_count": 8,
   "id": "72c58a6d-688d-42a7-9b79-d30c492fd1c4",
   "metadata": {},
   "outputs": [],
   "source": [
    "# Getting best values\n",
    "iters = len(results[0]['EYdoXeval'])\n",
    "best_eval = torch.zeros((iters, trials, n_model))\n",
    "for m in range(n_model):\n",
    "    for t in range(trials):\n",
    "        for i in range(iters):\n",
    "            if i == 0:\n",
    "                best_eval[i,t,m] = EYdoX_eval[i,t,m] \n",
    "            else:\n",
    "                if EYdoX_eval[i,t,m] < best_eval[:i,t,m].min():\n",
    "                    best_eval[i,t,m] = EYdoX_eval[i,t,m]   \n",
    "                else:\n",
    "                     best_eval[i,t,m] =  best_eval[i-1,t,m] "
   ]
  },
  {
   "cell_type": "code",
   "execution_count": 11,
   "id": "c487194d-c207-45fb-b5ee-486bfb552436",
   "metadata": {},
   "outputs": [
    {
     "data": {
      "text/plain": [
       "<matplotlib.collections.PolyCollection at 0x7ff962fc04a0>"
      ]
     },
     "execution_count": 11,
     "metadata": {},
     "output_type": "execute_result"
    },
    {
     "data": {
      "image/png": "[encoded data removed]",
      "text/plain": [
       "<Figure size 640x480 with 1 Axes>"
      ]
     },
     "metadata": {},
     "output_type": "display_data"
    }
   ],
   "source": [
    "m = 0\n",
    "i = 10\n",
    "plt.plot(best_eval[...,m].mean(1)[:i])\n",
    "plt.fill_between(torch.arange(min(len(EYdoX_eval),i)),best_eval[...,m].quantile(0.05,1)[:i],\n",
    "                 best_eval[...,m].quantile(0.95,1)[:i], alpha = 0.33)   "
   ]
  }
 ],
 "metadata": {
  "kernelspec": {
   "display_name": "Python 3 (ipykernel)",
   "language": "python",
   "name": "python3"
  },
  "language_info": {
   "codemirror_mode": {
    "name": "ipython",
    "version": 3
   },
   "file_extension": ".py",
   "mimetype": "text/x-python",
   "name": "python",
   "nbconvert_exporter": "python",
   "pygments_lexer": "ipython3",
   "version": "3.12.5"
  }
 },
 "nbformat": 4,
 "nbformat_minor": 5
}
