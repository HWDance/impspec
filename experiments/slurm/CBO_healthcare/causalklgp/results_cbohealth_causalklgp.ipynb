{
 "cells": [
  {
   "cell_type": "code",
   "execution_count": 7,
   "id": "dd33cecd-055c-40d3-ab5f-776c1da7d3e6",
   "metadata": {},
   "outputs": [],
   "source": [
    "import torch\n",
    "import matplotlib.pyplot as plt"
   ]
  },
  {
   "cell_type": "code",
   "execution_count": 34,
   "id": "8a92fc64-ab10-49ac-adda-0efcb052edcc",
   "metadata": {},
   "outputs": [],
   "source": [
    "# Imports\n",
    "trials = 50\n",
    "n=100\n",
    "results = torch.load(\"cbohealth_causalklgp_ntrial={0}_n={1}.pt\".format(trials,n), \n",
    "                     weights_only = True)\n",
    "\n",
    "# Getting dimensions and names\n",
    "n_result = len(results)\n",
    "n_model = int(n_result/trials)\n",
    "\n",
    "names = []\n",
    "for i in range(n_result):\n",
    "    if results[i]['name'] not in names:\n",
    "        names.append(results[i]['name'])"
   ]
  },
  {
   "cell_type": "code",
   "execution_count": 35,
   "id": "899d1522-6b08-4380-9bbc-af16cf85f803",
   "metadata": {},
   "outputs": [],
   "source": [
    "# Getting evaluations\n",
    "EYdoX_eval = torch.zeros((len(results[0]['EYdoXeval']), trials, n_model))\n",
    "for m in range(n_model):\n",
    "    for t in range(trials):\n",
    "        EYdoX_eval[:,t,m] = results[trials*m + t]['EYdoXeval'][:,0]\n",
    "\n",
    "doX_eval = torch.zeros((len(results[0]['doXeval']), trials, n_model))\n",
    "for m in range(n_model):\n",
    "    for t in range(trials):\n",
    "        doX_eval[:,t,m] = results[trials*m + t]['doXeval'][:,0]"
   ]
  },
  {
   "cell_type": "code",
   "execution_count": 36,
   "id": "2371678d-b7f6-45d0-a8d6-b7d3620d0be6",
   "metadata": {},
   "outputs": [],
   "source": [
    "# Getting best values\n",
    "iters = len(results[0]['EYdoXeval'])\n",
    "best_eval = torch.zeros((iters, trials, n_model))\n",
    "for m in range(n_model):\n",
    "    for t in range(trials):\n",
    "        for i in range(iters):\n",
    "            if i == 0:\n",
    "                best_eval[i,t,m] = EYdoX_eval[i,t,m] \n",
    "            else:\n",
    "                if EYdoX_eval[i,t,m] < best_eval[:i,t,m].min():\n",
    "                    best_eval[i,t,m] = EYdoX_eval[i,t,m]   \n",
    "                else:\n",
    "                     best_eval[i,t,m] =  best_eval[i-1,t,m] "
   ]
  },
  {
   "cell_type": "code",
   "execution_count": 37,
   "id": "1370d28b-d86c-40f4-9388-42b9721a8482",
   "metadata": {},
   "outputs": [
    {
     "data": {
      "text/plain": [
       "<matplotlib.collections.PolyCollection at 0x7f6802605e20>"
      ]
     },
     "execution_count": 37,
     "metadata": {},
     "output_type": "execute_result"
    },
    {
     "data": {
      "image/png": "[encoded data removed]",
      "text/plain": [
       "<Figure size 640x480 with 1 Axes>"
      ]
     },
     "metadata": {},
     "output_type": "display_data"
    }
   ],
   "source": [
    "m = 2\n",
    "i=10\n",
    "plt.plot(best_eval[...,m].mean(1)[:i])\n",
    "plt.fill_between(torch.arange(min(len(EYdoX_eval),i)),best_eval[...,m].quantile(0.05,1)[:i],\n",
    "                 best_eval[...,m].quantile(0.95,1)[:i], alpha = 0.33)   "
   ]
  }
 ],
 "metadata": {
  "kernelspec": {
   "display_name": "Python 3 (ipykernel)",
   "language": "python",
   "name": "python3"
  },
  "language_info": {
   "codemirror_mode": {
    "name": "ipython",
    "version": 3
   },
   "file_extension": ".py",
   "mimetype": "text/x-python",
   "name": "python",
   "nbconvert_exporter": "python",
   "pygments_lexer": "ipython3",
   "version": "3.12.5"
  }
 },
 "nbformat": 4,
 "nbformat_minor": 5
}
