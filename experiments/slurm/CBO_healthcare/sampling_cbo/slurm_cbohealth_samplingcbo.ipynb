{
 "cells": [
  {
   "cell_type": "code",
   "execution_count": 1,
   "id": "46268684-f281-4b9c-90f1-392537f18dbf",
   "metadata": {},
   "outputs": [],
   "source": [
    "# Imports\n",
    "import torch\n",
    "import os \n",
    "import sys\n",
    "from dask_jobqueue import SLURMCluster\n",
    "from distributed import Client\n",
    "from pathlib import Path\n",
    "\n",
    "import do_cbohealth_samplingcbo as file"
   ]
  },
  {
   "cell_type": "code",
   "execution_count": 2,
   "id": "a8c24b2e-ac59-421b-ac72-e790d04a8471",
   "metadata": {},
   "outputs": [],
   "source": [
    "# Args setup\n",
    "ntrial = 50\n",
    "n = 100\n",
    "ntest = 100"
   ]
  },
  {
   "cell_type": "code",
   "execution_count": 3,
   "id": "fb863671-3c55-4e69-9537-cf846582a6da",
   "metadata": {},
   "outputs": [
    {
     "name": "stderr",
     "output_type": "stream",
     "text": [
      "2024-09-22 19:49:18,690 - distributed.scheduler - ERROR - Task main-db1871ed3fc8c3ccc06a7ded7fdd3323 marked as failed because 11 workers died while trying to run it\n",
      "2024-09-22 19:49:34,847 - distributed.scheduler - ERROR - Task main-4b994e2d35484dc7a8256598c3edffb0 marked as failed because 11 workers died while trying to run it\n",
      "2024-09-22 19:49:46,374 - distributed.scheduler - ERROR - Task main-38447a722dc7db4a1b68fd4737b39288 marked as failed because 11 workers died while trying to run it\n",
      "2024-09-22 19:49:46,763 - distributed.scheduler - ERROR - Task main-411e99c4b195e194706dac71f94cbf5a marked as failed because 11 workers died while trying to run it\n"
     ]
    }
   ],
   "source": [
    "# Cluster creation\n",
    "cluster = SLURMCluster(\n",
    "    n_workers=0,\n",
    "    memory=\"32GB\",\n",
    "    processes=1,\n",
    "    cores=1,\n",
    "    scheduler_options={\n",
    "        \"dashboard_address\": \":11111\",\n",
    "        \"allowed_failures\": 10\n",
    "    },\n",
    "    job_cpu=1,\n",
    "    walltime=\"3:0:0\",\n",
    "    \n",
    "    job_extra_directives = [\"-p medium,fast,cpu\"],\n",
    ")\n",
    "cluster.adapt(minimum=0, maximum=200)\n",
    "client = Client(cluster)"
   ]
  },
  {
   "cell_type": "code",
   "execution_count": 4,
   "id": "c50cdf79-4a43-4cdc-8918-e82792b554b4",
   "metadata": {},
   "outputs": [],
   "source": [
    "# Submitting jobs\n",
    "futures = []\n",
    "for seed in range(ntrial):\n",
    "        f = client.submit(file.main,\n",
    "                          seed,\n",
    "                          n,ntest\n",
    "                         )\n",
    "        futures += [f]"
   ]
  },
  {
   "cell_type": "code",
   "execution_count": 5,
   "id": "a248d795-5e4d-4ac4-8a21-5f84775f9ef2",
   "metadata": {},
   "outputs": [],
   "source": [
    "# Check on futures\n",
    "#futures"
   ]
  },
  {
   "cell_type": "code",
   "execution_count": 6,
   "id": "f18c8218-4374-4884-83fa-f4a28f8cbbbf",
   "metadata": {},
   "outputs": [
    {
     "ename": "_LinAlgError",
     "evalue": "linalg.cholesky: The factorization could not be completed because the input is not positive-definite (the leading minor of order 88 is not positive-definite).",
     "output_type": "error",
     "traceback": [
      "\u001b[0;31m---------------------------------------------------------------------------\u001b[0m",
      "\u001b[0;31m_LinAlgError\u001b[0m                              Traceback (most recent call last)",
      "Cell \u001b[0;32mIn[6], line 2\u001b[0m\n\u001b[1;32m      1\u001b[0m \u001b[38;5;66;03m# Getting results\u001b[39;00m\n\u001b[0;32m----> 2\u001b[0m results \u001b[38;5;241m=\u001b[39m \u001b[43mclient\u001b[49m\u001b[38;5;241;43m.\u001b[39;49m\u001b[43mgather\u001b[49m\u001b[43m(\u001b[49m\u001b[43mfutures\u001b[49m\u001b[43m)\u001b[49m\n",
      "File \u001b[0;32m~/.local/mambaforge/envs/causalgp/lib/python3.12/site-packages/distributed/client.py:2556\u001b[0m, in \u001b[0;36mClient.gather\u001b[0;34m(self, futures, errors, direct, asynchronous)\u001b[0m\n\u001b[1;32m   2553\u001b[0m     local_worker \u001b[38;5;241m=\u001b[39m \u001b[38;5;28;01mNone\u001b[39;00m\n\u001b[1;32m   2555\u001b[0m \u001b[38;5;28;01mwith\u001b[39;00m shorten_traceback():\n\u001b[0;32m-> 2556\u001b[0m     \u001b[38;5;28;01mreturn\u001b[39;00m \u001b[38;5;28;43mself\u001b[39;49m\u001b[38;5;241;43m.\u001b[39;49m\u001b[43msync\u001b[49m\u001b[43m(\u001b[49m\n\u001b[1;32m   2557\u001b[0m \u001b[43m        \u001b[49m\u001b[38;5;28;43mself\u001b[39;49m\u001b[38;5;241;43m.\u001b[39;49m\u001b[43m_gather\u001b[49m\u001b[43m,\u001b[49m\n\u001b[1;32m   2558\u001b[0m \u001b[43m        \u001b[49m\u001b[43mfutures\u001b[49m\u001b[43m,\u001b[49m\n\u001b[1;32m   2559\u001b[0m \u001b[43m        \u001b[49m\u001b[43merrors\u001b[49m\u001b[38;5;241;43m=\u001b[39;49m\u001b[43merrors\u001b[49m\u001b[43m,\u001b[49m\n\u001b[1;32m   2560\u001b[0m \u001b[43m        \u001b[49m\u001b[43mdirect\u001b[49m\u001b[38;5;241;43m=\u001b[39;49m\u001b[43mdirect\u001b[49m\u001b[43m,\u001b[49m\n\u001b[1;32m   2561\u001b[0m \u001b[43m        \u001b[49m\u001b[43mlocal_worker\u001b[49m\u001b[38;5;241;43m=\u001b[39;49m\u001b[43mlocal_worker\u001b[49m\u001b[43m,\u001b[49m\n\u001b[1;32m   2562\u001b[0m \u001b[43m        \u001b[49m\u001b[43masynchronous\u001b[49m\u001b[38;5;241;43m=\u001b[39;49m\u001b[43masynchronous\u001b[49m\u001b[43m,\u001b[49m\n\u001b[1;32m   2563\u001b[0m \u001b[43m    \u001b[49m\u001b[43m)\u001b[49m\n",
      "File \u001b[0;32m~/Causal-GP/causal-KL-GP/experiments/slurm/CBO_healthcare/sampling_cbo/do_cbohealth_samplingcbo.py:81\u001b[0m, in \u001b[0;36mmain\u001b[0;34m()\u001b[0m\n\u001b[1;32m     73\u001b[0m model \u001b[38;5;241m=\u001b[39m baselineGP(Kernel_A \u001b[38;5;241m=\u001b[39m Kernel, \n\u001b[1;32m     74\u001b[0m                Kernel_V \u001b[38;5;241m=\u001b[39m Kernel, \n\u001b[1;32m     75\u001b[0m                Kernel_Z \u001b[38;5;241m=\u001b[39m [],\n\u001b[1;32m     76\u001b[0m                dim_A \u001b[38;5;241m=\u001b[39m A\u001b[38;5;241m.\u001b[39msize()[\u001b[38;5;241m1\u001b[39m], \n\u001b[1;32m     77\u001b[0m                dim_V \u001b[38;5;241m=\u001b[39m V\u001b[38;5;241m.\u001b[39msize()[\u001b[38;5;241m1\u001b[39m], \n\u001b[1;32m     78\u001b[0m                single_kernel \u001b[38;5;241m=\u001b[39m single_kernel)\n\u001b[1;32m     80\u001b[0m \u001b[38;5;250m\u001b[39m\u001b[38;5;124;03m\"\"\" Train model \"\"\"\u001b[39;00m\n\u001b[0;32m---> 81\u001b[0m model\u001b[38;5;241m.\u001b[39mtrain(Y,A,V,niter,learn_rate, force_PD \u001b[38;5;241m=\u001b[39m force_PD)\n\u001b[1;32m     83\u001b[0m \u001b[38;5;250m\u001b[39m\u001b[38;5;124;03m\"\"\" Get CBO prior kernel \"\"\"\u001b[39;00m\n\u001b[1;32m     84\u001b[0m \u001b[38;5;28;01mdef\u001b[39;00m \u001b[38;5;21mmean\u001b[39m(X):\n",
      "File \u001b[0;32m~/Causal-GP/causal-KL-GP/src/baselineGP.py:60\u001b[0m, in \u001b[0;36mtrain\u001b[0;34m()\u001b[0m\n\u001b[1;32m     58\u001b[0m \u001b[38;5;28;01mfor\u001b[39;00m i \u001b[38;5;129;01min\u001b[39;00m \u001b[38;5;28mrange\u001b[39m(niter):\n\u001b[1;32m     59\u001b[0m     optimizer\u001b[38;5;241m.\u001b[39mzero_grad()\n\u001b[0;32m---> 60\u001b[0m     loss \u001b[38;5;241m=\u001b[39m \u001b[38;5;241m-\u001b[39mGPML(Y, V[\u001b[38;5;241m1\u001b[39m], \u001b[38;5;28mself\u001b[39m\u001b[38;5;241m.\u001b[39mkernel_V, \u001b[38;5;28mself\u001b[39m\u001b[38;5;241m.\u001b[39mnoise_Y\u001b[38;5;241m.\u001b[39mexp(), force_PD \u001b[38;5;241m=\u001b[39m force_PD)\n\u001b[1;32m     61\u001b[0m     Losses[i] \u001b[38;5;241m=\u001b[39m loss\u001b[38;5;241m.\u001b[39mdetach()\n\u001b[1;32m     62\u001b[0m     loss\u001b[38;5;241m.\u001b[39mbackward()\n",
      "File \u001b[0;32m~/Causal-GP/causal-KL-GP/src/GP_utils.py:97\u001b[0m, in \u001b[0;36mGPML\u001b[0;34m()\u001b[0m\n\u001b[1;32m     95\u001b[0m \u001b[38;5;28;01mif\u001b[39;00m force_PD:\n\u001b[1;32m     96\u001b[0m     K_xx \u001b[38;5;241m=\u001b[39m (K_xx\u001b[38;5;241m+\u001b[39mK_xx\u001b[38;5;241m.\u001b[39mT)\u001b[38;5;241m/\u001b[39m\u001b[38;5;241m2\u001b[39m\n\u001b[0;32m---> 97\u001b[0m L \u001b[38;5;241m=\u001b[39m torch\u001b[38;5;241m.\u001b[39mlinalg\u001b[38;5;241m.\u001b[39mcholesky((K_xx \u001b[38;5;241m+\u001b[39m (noise_Y\u001b[38;5;241m+\u001b[39mreg)\u001b[38;5;241m*\u001b[39mtorch\u001b[38;5;241m.\u001b[39meye(n))\u001b[38;5;241m.\u001b[39mdouble())\n\u001b[1;32m     98\u001b[0m alpha \u001b[38;5;241m=\u001b[39m torch\u001b[38;5;241m.\u001b[39mcholesky_solve(Y\u001b[38;5;241m.\u001b[39mreshape(n,\u001b[38;5;241m1\u001b[39m)\u001b[38;5;241m.\u001b[39mdouble(), L)\u001b[38;5;241m.\u001b[39mfloat()\n\u001b[1;32m    100\u001b[0m log_likelihood \u001b[38;5;241m=\u001b[39m \u001b[38;5;241m-\u001b[39m\u001b[38;5;241m0.5\u001b[39m \u001b[38;5;241m*\u001b[39m Y\u001b[38;5;241m.\u001b[39mreshape(n,\u001b[38;5;241m1\u001b[39m)\u001b[38;5;241m.\u001b[39mT \u001b[38;5;241m@\u001b[39m alpha\n",
      "\u001b[0;31m_LinAlgError\u001b[0m: linalg.cholesky: The factorization could not be completed because the input is not positive-definite (the leading minor of order 88 is not positive-definite)."
     ]
    }
   ],
   "source": [
    "# Getting results\n",
    "results = client.gather(futures)"
   ]
  },
  {
   "cell_type": "code",
   "execution_count": 7,
   "id": "555c9e87-bb97-4c84-83ef-ba7d92cb0b9e",
   "metadata": {},
   "outputs": [],
   "source": [
    "# Closing client\n",
    "client.close()\n",
    "cluster.close()"
   ]
  },
  {
   "cell_type": "code",
   "execution_count": null,
   "id": "7a3ac498-c027-4afe-8149-cf049bc4a696",
   "metadata": {},
   "outputs": [],
   "source": [
    "# Saving results\n",
    "torch.save(obj = results,\n",
    "           f = \"cbohealth_samplingcbo_ntrial={0}_n={1}.pt\".format(ntrial,n))"
   ]
  }
 ],
 "metadata": {
  "kernelspec": {
   "display_name": "Python 3 (ipykernel)",
   "language": "python",
   "name": "python3"
  },
  "language_info": {
   "codemirror_mode": {
    "name": "ipython",
    "version": 3
   },
   "file_extension": ".py",
   "mimetype": "text/x-python",
   "name": "python",
   "nbconvert_exporter": "python",
   "pygments_lexer": "ipython3",
   "version": "3.12.5"
  }
 },
 "nbformat": 4,
 "nbformat_minor": 5
}
