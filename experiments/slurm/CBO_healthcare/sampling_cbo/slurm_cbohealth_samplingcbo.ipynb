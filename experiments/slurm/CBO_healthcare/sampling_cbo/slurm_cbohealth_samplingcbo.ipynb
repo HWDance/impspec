{
 "cells": [
  {
   "cell_type": "code",
   "execution_count": 1,
   "id": "46268684-f281-4b9c-90f1-392537f18dbf",
   "metadata": {},
   "outputs": [],
   "source": [
    "# Imports\n",
    "import torch\n",
    "import os \n",
    "import sys\n",
    "from dask_jobqueue import SLURMCluster\n",
    "from distributed import Client\n",
    "from pathlib import Path\n",
    "\n",
    "import do_cbohealth_rkhscbo as file"
   ]
  },
  {
   "cell_type": "code",
   "execution_count": 2,
   "id": "a8c24b2e-ac59-421b-ac72-e790d04a8471",
   "metadata": {},
   "outputs": [],
   "source": [
    "# Args setup\n",
    "ntrial = 50\n",
    "n = 100\n",
    "ntest = 100"
   ]
  },
  {
   "cell_type": "code",
   "execution_count": 3,
   "id": "fb863671-3c55-4e69-9537-cf846582a6da",
   "metadata": {},
   "outputs": [],
   "source": [
    "# Cluster creation\n",
    "cluster = SLURMCluster(\n",
    "    n_workers=0,\n",
    "    memory=\"32GB\",\n",
    "    processes=1,\n",
    "    cores=1,\n",
    "    scheduler_options={\n",
    "        \"dashboard_address\": \":11111\",\n",
    "        \"allowed_failures\": 10\n",
    "    },\n",
    "    job_cpu=1,\n",
    "    walltime=\"3:0:0\",\n",
    "    \n",
    "    job_extra_directives = [\"-p medium,fast,cpu\"],\n",
    ")\n",
    "cluster.adapt(minimum=0, maximum=200)\n",
    "client = Client(cluster)"
   ]
  },
  {
   "cell_type": "code",
   "execution_count": 4,
   "id": "c50cdf79-4a43-4cdc-8918-e82792b554b4",
   "metadata": {},
   "outputs": [],
   "source": [
    "# Submitting jobs\n",
    "futures = []\n",
    "for seed in range(ntrial):\n",
    "        f = client.submit(file.main,\n",
    "                          seed,\n",
    "                          n,ntest\n",
    "                         )\n",
    "        futures += [f]"
   ]
  },
  {
   "cell_type": "code",
   "execution_count": 5,
   "id": "a248d795-5e4d-4ac4-8a21-5f84775f9ef2",
   "metadata": {},
   "outputs": [
    {
     "data": {
      "text/plain": [
       "[<Future: pending, key: main-8c781db2d07e0f2c39decbaaca152323>,\n",
       " <Future: pending, key: main-3cd08f184df0c7e489af05c58299408a>,\n",
       " <Future: pending, key: main-c9fb00f833b5c404a4baf71c2837dbb4>,\n",
       " <Future: pending, key: main-b15303be12c66b3b514bd8ce17385903>,\n",
       " <Future: pending, key: main-299f8bd1b673256c2b73f2a1c85a079f>,\n",
       " <Future: pending, key: main-d4d3001f8c7aa296f78ee9dea44df494>,\n",
       " <Future: pending, key: main-928cfeb3ea9dc72b73cf4508ec3ca4c1>,\n",
       " <Future: pending, key: main-25bc45c3c0937c4f347f2ce5a058c0ea>,\n",
       " <Future: pending, key: main-3789d8b8c0a88b38cce0f70089ce8f7c>,\n",
       " <Future: pending, key: main-022b0d86403ed3f6f7a9e06563fbc87e>,\n",
       " <Future: pending, key: main-ceac04997cca59ea9240cd25b1fe5f3a>,\n",
       " <Future: pending, key: main-9170ce5a2995a6c3c1e6aaab280acc0d>,\n",
       " <Future: pending, key: main-0708d386504a336673349542b24c3cf6>,\n",
       " <Future: pending, key: main-e0a0c7d2755657ea6a47cea8144fe69d>,\n",
       " <Future: pending, key: main-21ff5f13ea67396f766f82df4947aac3>,\n",
       " <Future: pending, key: main-816a77b2e27553eefcba356ccdb356f7>,\n",
       " <Future: pending, key: main-47f5aabfec23f8cf03de58e95c9643a6>,\n",
       " <Future: pending, key: main-85522f9a91bfca271100cd41b7f389e3>,\n",
       " <Future: pending, key: main-14eb240c6a3735cf228fed05ad1dad02>,\n",
       " <Future: pending, key: main-c927639444773fc869fd3fc82f6d1161>,\n",
       " <Future: pending, key: main-044ec8b7efe9e05f0d0b59924bf43068>,\n",
       " <Future: pending, key: main-ff781f52cf431a4fc3b75df9e81f7ed7>,\n",
       " <Future: pending, key: main-22c72878128bdcba029cac52c4aad202>,\n",
       " <Future: pending, key: main-b59ad592f2bc6487fac1bf0fbca40e9b>,\n",
       " <Future: pending, key: main-72d1750608115ef0f296933adf327d7e>,\n",
       " <Future: pending, key: main-23a47caa8b2ef6dec1bee0f7dddea802>,\n",
       " <Future: pending, key: main-9a8962f07c4560fa83c628cb56c0ed53>,\n",
       " <Future: pending, key: main-528d6a47aaf71b9c5edc5258007fb2eb>,\n",
       " <Future: pending, key: main-b2f70bebf9b22ccfc0db47c0fbfbd631>,\n",
       " <Future: pending, key: main-5a2078460a734479834cd2b3cf482da1>,\n",
       " <Future: pending, key: main-b8e559be2ba35c3327035af09365efba>,\n",
       " <Future: pending, key: main-9d5a0ea772887cfed3cae7053a3cf79a>,\n",
       " <Future: pending, key: main-09ee583eebf6d52e857abb9478db8639>,\n",
       " <Future: pending, key: main-33feee7eb7ba895cd2e2b75056d67e95>,\n",
       " <Future: pending, key: main-c019441474d9b6b2f8c120f7b8c4a9ab>,\n",
       " <Future: pending, key: main-d813176e588615423e8340e7a9f34925>,\n",
       " <Future: pending, key: main-052ef827689b72e6c987e0feaef63acf>,\n",
       " <Future: pending, key: main-334a7510130083134f024b963f7b0c30>,\n",
       " <Future: pending, key: main-1a76ffce5db8e983902e416fce03fded>,\n",
       " <Future: pending, key: main-6794a729e1a48dda2e4cd83c28b8a63a>,\n",
       " <Future: pending, key: main-6186eb89d9b069b246fdb6fa0963d1f5>,\n",
       " <Future: pending, key: main-d65aabfc5aa3dc7f101d1a72517889db>,\n",
       " <Future: pending, key: main-4eb81a17236a1b8fd79e5c69cc45070d>,\n",
       " <Future: pending, key: main-a39c0c8f7389dd89ecb15c003408b335>,\n",
       " <Future: pending, key: main-014b28badc41b034e3dca0552d8264e7>,\n",
       " <Future: pending, key: main-84b16ff2e075b1219aebc4c9bbec42fd>,\n",
       " <Future: pending, key: main-a1d80a4fda6aec08c316581b4de7eafe>,\n",
       " <Future: pending, key: main-76b0b871397ed88ebb8132136e39a80b>,\n",
       " <Future: pending, key: main-9c5cd6c742765c67bf5bd7d010e21ccd>,\n",
       " <Future: pending, key: main-5129ae5e3fb80be7c692e4422e04038b>]"
      ]
     },
     "execution_count": 5,
     "metadata": {},
     "output_type": "execute_result"
    }
   ],
   "source": [
    "# Check on futures\n",
    "futures"
   ]
  },
  {
   "cell_type": "code",
   "execution_count": 6,
   "id": "f18c8218-4374-4884-83fa-f4a28f8cbbbf",
   "metadata": {},
   "outputs": [],
   "source": [
    "# Getting results\n",
    "results = client.gather(futures)"
   ]
  },
  {
   "cell_type": "code",
   "execution_count": 7,
   "id": "555c9e87-bb97-4c84-83ef-ba7d92cb0b9e",
   "metadata": {},
   "outputs": [],
   "source": [
    "# Closing client\n",
    "client.close()\n",
    "cluster.close()"
   ]
  },
  {
   "cell_type": "code",
   "execution_count": 8,
   "id": "7a3ac498-c027-4afe-8149-cf049bc4a696",
   "metadata": {},
   "outputs": [],
   "source": [
    "# Saving results\n",
    "torch.save(obj = results,\n",
    "           f = \"cbohealth_rkhscbo_ntrial={0}_n={1}.pt\".format(ntrial,n))"
   ]
  }
 ],
 "metadata": {
  "kernelspec": {
   "display_name": "Python 3 (ipykernel)",
   "language": "python",
   "name": "python3"
  },
  "language_info": {
   "codemirror_mode": {
    "name": "ipython",
    "version": 3
   },
   "file_extension": ".py",
   "mimetype": "text/x-python",
   "name": "python",
   "nbconvert_exporter": "python",
   "pygments_lexer": "ipython3",
   "version": "3.12.5"
  }
 },
 "nbformat": 4,
 "nbformat_minor": 5
}
