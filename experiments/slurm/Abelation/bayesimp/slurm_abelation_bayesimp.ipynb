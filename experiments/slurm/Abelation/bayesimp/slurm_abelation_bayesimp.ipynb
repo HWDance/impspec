{
 "cells": [
  {
   "cell_type": "code",
   "execution_count": 1,
   "id": "46268684-f281-4b9c-90f1-392537f18dbf",
   "metadata": {},
   "outputs": [],
   "source": [
    "# Imports\n",
    "import torch\n",
    "import os \n",
    "import sys\n",
    "from dask_jobqueue import SLURMCluster\n",
    "from distributed import Client\n",
    "from pathlib import Path\n",
    "\n",
    "\n",
    "\n",
    "import do_abelation_bayesimp"
   ]
  },
  {
   "cell_type": "code",
   "execution_count": 16,
   "id": "a8c24b2e-ac59-421b-ac72-e790d04a8471",
   "metadata": {},
   "outputs": [],
   "source": [
    "# Args setup\n",
    "ntrial = 50\n",
    "n = 100\n",
    "ntest = 1000\n",
    "d = 5\n",
    "noise = 1.0\n",
    "optimise_mu = [False,True, False, True]\n",
    "exact = [False, False, True, True]\n",
    "mc_samples = 100"
   ]
  },
  {
   "cell_type": "code",
   "execution_count": 17,
   "id": "fb863671-3c55-4e69-9537-cf846582a6da",
   "metadata": {},
   "outputs": [],
   "source": [
    "# Cluster creation\n",
    "cluster = SLURMCluster(\n",
    "    n_workers=0,\n",
    "    memory=\"32GB\",\n",
    "    processes=1,\n",
    "    cores=1,\n",
    "    scheduler_options={\n",
    "        \"dashboard_address\": \":11111\",\n",
    "        \"allowed_failures\": 10\n",
    "    },\n",
    "    job_cpu=1,\n",
    "    walltime=\"6:0:0\",\n",
    "    #job_extra_directives = [\"-p medium,cpu\"],\n",
    ")\n",
    "cluster.adapt(minimum=0, maximum=200)\n",
    "client = Client(cluster)"
   ]
  },
  {
   "cell_type": "code",
   "execution_count": 18,
   "id": "c50cdf79-4a43-4cdc-8918-e82792b554b4",
   "metadata": {},
   "outputs": [],
   "source": [
    "# Submitting jobs\n",
    "futures = []\n",
    "for i in range(len(optimise_mu)):           \n",
    "    for seed in range(ntrial):\n",
    "            f = client.submit(do_abelation_bayesimp.main,seed,n,ntest,d,noise,\n",
    "                             optimise_mu = optimise_mu[i], exact = exact[i],\n",
    "                             mc_samples = mc_samples)\n",
    "            futures += [f]"
   ]
  },
  {
   "cell_type": "code",
   "execution_count": 19,
   "id": "a248d795-5e4d-4ac4-8a21-5f84775f9ef2",
   "metadata": {},
   "outputs": [
    {
     "data": {
      "text/plain": [
       "[<Future: pending, key: main-4793ba33ad0e69979a5a59e1e99abe32>,\n",
       " <Future: pending, key: main-2ec3f89945256919a0030dc187a4da01>,\n",
       " <Future: pending, key: main-80c12327af665c24258ad87ee4270c60>,\n",
       " <Future: pending, key: main-345d74e4ef91983c23adb11102c5b326>,\n",
       " <Future: pending, key: main-250c5d1750717e92b1dbc32f8fd16d03>,\n",
       " <Future: pending, key: main-926278aea8196cfefd8f701132a28320>,\n",
       " <Future: pending, key: main-7aeb1f8d528f90c97922cbeff1f5d7dd>,\n",
       " <Future: pending, key: main-ab12947867b8d2530349517f15d04205>,\n",
       " <Future: pending, key: main-242330ad1da1e6ed20b303bbb9818a9c>,\n",
       " <Future: pending, key: main-e335f1390f5cab545f7a4e571c38cda6>,\n",
       " <Future: pending, key: main-f847ba4c14793fb43f2eb7444639e983>,\n",
       " <Future: pending, key: main-775af5804f6746e79b52ab3bf4c76291>,\n",
       " <Future: pending, key: main-b0e3a3028a559ed0a65563c2f5dcdf0c>,\n",
       " <Future: pending, key: main-7e579b63c4f7b8471fb2ec3dcaec200d>,\n",
       " <Future: pending, key: main-875239c73d6804ec09f16631a724467a>,\n",
       " <Future: pending, key: main-0e2f7b0569346ab31e05bf9a482d3c46>,\n",
       " <Future: pending, key: main-4584cd7213e6bc897c2401c29479cf9b>,\n",
       " <Future: pending, key: main-28c9ebccbcea3f54710c006f01b5c5e5>,\n",
       " <Future: pending, key: main-eaf504fb9cf44df4f049e00e2b95b0bd>,\n",
       " <Future: pending, key: main-2ff592519b9d2a2a0136241b9d9db09f>,\n",
       " <Future: pending, key: main-f790dad78befeda8b6cd4c1bf9aac4df>,\n",
       " <Future: pending, key: main-351dc0fbfafa3958c30c42fee4087d9b>,\n",
       " <Future: pending, key: main-d74806aa09c4f08de3aff5e4b4862a8b>,\n",
       " <Future: pending, key: main-51cdd43917ab898fc4ed010d14e8915b>,\n",
       " <Future: pending, key: main-80457fac9ca4d15b66b94b79033f9af2>,\n",
       " <Future: pending, key: main-902bdf4b6213615a98e02b562ee0e469>,\n",
       " <Future: pending, key: main-8ddf2f927e085a4b223b6404c0c4efca>,\n",
       " <Future: pending, key: main-fa5a37dc0a65e1985b3b4962f098f293>,\n",
       " <Future: pending, key: main-ca30caf8d4fd67a0b95195b5c2099af1>,\n",
       " <Future: pending, key: main-fc01d9681996ffdb3018c07abd13dd30>,\n",
       " <Future: pending, key: main-cbe98b41e6de4c6c9fcc1754632003c8>,\n",
       " <Future: pending, key: main-95ddf0a527020602b6b8c9a3fb29c342>,\n",
       " <Future: pending, key: main-170770075d6773cfc80562ece20361f7>,\n",
       " <Future: pending, key: main-c5351f507481c7322b241e30c500317e>,\n",
       " <Future: pending, key: main-8435273160bd0acfb51b0a6ebf008fea>,\n",
       " <Future: pending, key: main-6a7472105671f25accea1a2a9951c8fe>,\n",
       " <Future: pending, key: main-ddbf07aa0397607c1d5b27a52d9e6c13>,\n",
       " <Future: pending, key: main-4eae1a0555d82ca74b90b7d3c7739c2b>,\n",
       " <Future: pending, key: main-0593f7d27d43cf4fbc5eb28b59d34313>,\n",
       " <Future: pending, key: main-26b526880b0a232204d13dc663b96aab>,\n",
       " <Future: pending, key: main-7999e2d19fe3f600d0a9051a2b54d9c1>,\n",
       " <Future: pending, key: main-57d9cbcf6c7363355d77cc42887805f4>,\n",
       " <Future: pending, key: main-391c3074a2754b2578d28b5e5ff52142>,\n",
       " <Future: pending, key: main-618428dc5efaa0b43b271404c598fd3b>,\n",
       " <Future: pending, key: main-0f72bdfc714ab4192291bf409a935b6d>,\n",
       " <Future: pending, key: main-5c88f01f7729945463719845c2c33f69>,\n",
       " <Future: pending, key: main-a9b85e197acba8e4f72bbd28103d2079>,\n",
       " <Future: pending, key: main-e72e02b088aa06fa11102729803eaec5>,\n",
       " <Future: pending, key: main-48dad2a83a7d08152c4f72fa010d6414>,\n",
       " <Future: pending, key: main-bc016c4144cc74b24b1a72f6d917046d>,\n",
       " <Future: pending, key: main-f8c5191d699aaa3b379131ca1482288d>,\n",
       " <Future: pending, key: main-366c5f071f13a24de68a9f4bf85fec93>,\n",
       " <Future: pending, key: main-e544c32a277995dc951820466582e100>,\n",
       " <Future: pending, key: main-ec65e1ea935de06e71fc327c8018aa3b>,\n",
       " <Future: pending, key: main-d5b0ecf8411df7c53dbfda57d1536fa2>,\n",
       " <Future: pending, key: main-3540cbf6765cabd230a3402baaaec3c5>,\n",
       " <Future: pending, key: main-240690fad7ad8f1bcdfd08a32e49a410>,\n",
       " <Future: pending, key: main-f3fb740164a9f372d4963e8531b21bff>,\n",
       " <Future: pending, key: main-b80e1b25bd5e20af762113b77f789fe0>,\n",
       " <Future: pending, key: main-df39baee1673cff5bde66cfb56949df5>,\n",
       " <Future: pending, key: main-710f52cd4ff855ee7198a70efd814922>,\n",
       " <Future: pending, key: main-726b57dbd0e7900240936009882f918d>,\n",
       " <Future: pending, key: main-9bc4d1e8c2ef943e74ca1e7e62b174a6>,\n",
       " <Future: pending, key: main-990b03c9057edb6d218f3ef6a30e605f>,\n",
       " <Future: pending, key: main-ec8076f76da241cc187487a2dfc80e76>,\n",
       " <Future: pending, key: main-03b5f5352094950dab1a0c0eec89c1df>,\n",
       " <Future: pending, key: main-19784214e6818e8f4aa221c2eaab377a>,\n",
       " <Future: pending, key: main-efcf2feef730f6f4dd014ba2fef0eb33>,\n",
       " <Future: pending, key: main-0c97dc76e232fdc82a0672c594278765>,\n",
       " <Future: pending, key: main-5a515bc550093b037e1410265461ecf5>,\n",
       " <Future: pending, key: main-91510af08c745d2110a9023c96f462e1>,\n",
       " <Future: pending, key: main-706a77bafabc70dc4ae2701b740299ff>,\n",
       " <Future: pending, key: main-1986c9bab732fc512c039dee0e367a7f>,\n",
       " <Future: pending, key: main-ffce313a6a810156defc8b5a43a34fd7>,\n",
       " <Future: pending, key: main-79a7058d4dad56cca1544b5ca53e2733>,\n",
       " <Future: pending, key: main-541d302aed0656b92c7a8df3265d0132>,\n",
       " <Future: pending, key: main-dd6f54bc477660e7fa11e594975e8138>,\n",
       " <Future: pending, key: main-345dd9dce63b62d7c306ef53329d20da>,\n",
       " <Future: pending, key: main-9b4a6ff78f11e2a77073cc256d72ba5f>,\n",
       " <Future: pending, key: main-3a6f6dff1c3309026f110be869d81c0c>,\n",
       " <Future: pending, key: main-4291c30662c80344b1967b348710868a>,\n",
       " <Future: pending, key: main-388a093dad7c586de5ecb0f60c9208f7>,\n",
       " <Future: pending, key: main-0c6bafceb3581e887e25546d7ac1e804>,\n",
       " <Future: pending, key: main-f75f75b027ef89ed31162ce88d25a4a3>,\n",
       " <Future: pending, key: main-4d678d15e73fbef01f8192271c4d6a18>,\n",
       " <Future: pending, key: main-18741b11520d4809e36454b4480a7983>,\n",
       " <Future: pending, key: main-ba2b862264cad2a2cab710b5a3d4c12a>,\n",
       " <Future: pending, key: main-934182b6e1fcc908108d4685ae679461>,\n",
       " <Future: pending, key: main-7661bca85fb27152957313940cc0e6d0>,\n",
       " <Future: pending, key: main-0e2150710806b0b25518b2b477343d51>,\n",
       " <Future: pending, key: main-0ced66545f1993ac75149132195a3041>,\n",
       " <Future: pending, key: main-a4e884b9fe92c968f47972cdb37b9a57>,\n",
       " <Future: pending, key: main-eb3851e1a686800ee7a52f8603f631de>,\n",
       " <Future: pending, key: main-a4dfffc24814dc0cd27b03d0273b2af7>,\n",
       " <Future: pending, key: main-3f8317dda7f87120dc62cee9ea7ee33a>,\n",
       " <Future: pending, key: main-8fcb0ba8a899ac88b3c11a4d23abb617>,\n",
       " <Future: pending, key: main-1ab9ec76334c77d2fb47a0bb066f76f7>,\n",
       " <Future: pending, key: main-332d04d16494834a0aad1b7656163090>,\n",
       " <Future: pending, key: main-1bb93642a515ff4dd33dcd3b6dc54fca>,\n",
       " <Future: pending, key: main-e87a045a8af48848a3397dbff0306c24>,\n",
       " <Future: pending, key: main-934566f52b18c87666b0ae26d70112d2>,\n",
       " <Future: pending, key: main-1c23469e7f71c4f6b1a3618d0bad3e29>,\n",
       " <Future: pending, key: main-2b44ebdbddeb051cd0dc77b7e9833238>,\n",
       " <Future: pending, key: main-3e8078009ec1dfd61fca783e52cf7b10>,\n",
       " <Future: pending, key: main-01bbabda4d3ef009942dfde178149e22>,\n",
       " <Future: pending, key: main-bc1bd0b4db4bcf769ac48bf00980feb9>,\n",
       " <Future: pending, key: main-ea333ef7494c1efb11e7990e8e2b1de7>,\n",
       " <Future: pending, key: main-23dae59874daf1784dc7c551d68438d3>,\n",
       " <Future: pending, key: main-4013ce337744a1fd24073704d9aa6a7e>,\n",
       " <Future: pending, key: main-abf3674819db8a0e5f1b7780b8c20223>,\n",
       " <Future: pending, key: main-2aacbd4b44013b49dbb60cfcc1a54e87>,\n",
       " <Future: pending, key: main-418d0a1a6a83d1556f2d74cc6fbc80d1>,\n",
       " <Future: pending, key: main-0d61fff52e064a4dc42814ec2bd6c6cd>,\n",
       " <Future: pending, key: main-b51ecc8d65010ac6b1389ae625c4b8dd>,\n",
       " <Future: pending, key: main-0d379991771c6272526fbe14cd2dd90a>,\n",
       " <Future: pending, key: main-83bc4738d20b6b96998b2e20c007f05d>,\n",
       " <Future: pending, key: main-80b186eae8ad74f830066e68a4b0bf7c>,\n",
       " <Future: pending, key: main-8cb949921b19123a43cff01b217c123d>,\n",
       " <Future: pending, key: main-9a0a60ff7de4fe803b64512fb3012958>,\n",
       " <Future: pending, key: main-1321a7cc7c602188c20b1794bbb75036>,\n",
       " <Future: pending, key: main-118c7102f82b2d5ec75ae2eb21e679e4>,\n",
       " <Future: pending, key: main-fb25fbb90f186d9a6ed0cf6a9ae25aa1>,\n",
       " <Future: pending, key: main-32987110a3539e143d2f79f8daf9dd4d>,\n",
       " <Future: pending, key: main-ee712c742ee65f14b404413916da32a0>,\n",
       " <Future: pending, key: main-9d0b06fa418be41cb58bc35cfbd7da4a>,\n",
       " <Future: pending, key: main-58f4712fc7dbc7cac7b88de2a45cb09d>,\n",
       " <Future: pending, key: main-ecb55fd8e7d589ade97d3df32a9c58c0>,\n",
       " <Future: pending, key: main-80db1725cd0d405cb810ef74f5770314>,\n",
       " <Future: pending, key: main-406c2983cc8491c26990ddcdd216227f>,\n",
       " <Future: pending, key: main-39d93313fa19fdaeb138b0213c6116a4>,\n",
       " <Future: pending, key: main-f2c765e97db0df658bfe0feb6890aabb>,\n",
       " <Future: pending, key: main-9bdda7dd03372db5c084e24cd450cc17>,\n",
       " <Future: pending, key: main-6725b3d04f0170544c56039f98265de0>,\n",
       " <Future: pending, key: main-8744ada8afae067a68b9d66e4b2b06db>,\n",
       " <Future: pending, key: main-c7d4fcff1fe681c0b65f69312d91e7a6>,\n",
       " <Future: pending, key: main-f3c0349102a5756afc314656a478c85f>,\n",
       " <Future: pending, key: main-50531994e7d3e693f65c1e67bf6873d9>,\n",
       " <Future: pending, key: main-ec762303aaca95f3b90b0ec9d973d340>,\n",
       " <Future: pending, key: main-ce2bb925467a583edf8c6e44d8013461>,\n",
       " <Future: pending, key: main-80c058552ff59b3978950f4bac387ff7>,\n",
       " <Future: pending, key: main-2edec1e51b5749819279d3c3c387f986>,\n",
       " <Future: pending, key: main-1287faa2d51ec156ce951de88f9290a4>,\n",
       " <Future: pending, key: main-ededc872ad841bdf3c73389ec06af353>,\n",
       " <Future: pending, key: main-de67830c9da40c9b32c3c6950a7c5f57>,\n",
       " <Future: pending, key: main-aa045c6b57edb6b36c7ec28f688c2a61>,\n",
       " <Future: pending, key: main-4525ff3fe8d0ffcad82177e2d762930a>,\n",
       " <Future: pending, key: main-f8f514335d0e1f0be2d492a0f1127cd1>,\n",
       " <Future: pending, key: main-e047d36bc5a1272ba792f4145f58bb62>,\n",
       " <Future: pending, key: main-daf5ffe686ffefcad1e4ea6cdb5fcc76>,\n",
       " <Future: pending, key: main-78cd155bdca892b50a12c6e6dce2d8a6>,\n",
       " <Future: pending, key: main-0a4aeacd99745756ab08374b8ed20298>,\n",
       " <Future: pending, key: main-232eb136d001ae1bcb2e7e68a2a311f1>,\n",
       " <Future: pending, key: main-d850a09aee400ddc907ea05a5f1201b8>,\n",
       " <Future: pending, key: main-8be17a7c18b8d0a191579a7acf01c46f>,\n",
       " <Future: pending, key: main-b93e271334f6a87dbd0a0f0952b54fb2>,\n",
       " <Future: pending, key: main-b3ea26e6f5c112c26483d075364b3a56>,\n",
       " <Future: pending, key: main-65d7fe276cb25c41c6f3123abd67b8ae>,\n",
       " <Future: pending, key: main-9a1d6f61eb6f7c7287d91fff573d2134>,\n",
       " <Future: pending, key: main-e665b9fc9886e8358af28fad6d1ee26c>,\n",
       " <Future: pending, key: main-9f95fa95ba9e6e39a6c0e8d77a7a7ad7>,\n",
       " <Future: pending, key: main-69e8bc15ba39ad322a878214acd1d28a>,\n",
       " <Future: pending, key: main-c589889ac057d27d3f4925d3745578f3>,\n",
       " <Future: pending, key: main-6633c3f67d24c73f6ebc9517e26dffe4>,\n",
       " <Future: pending, key: main-b68ed447cdbfe4f3382d46f6dfa09614>,\n",
       " <Future: pending, key: main-de2c8d93608bea12fa94815f82838484>,\n",
       " <Future: pending, key: main-6ed044f8e73ab0d8d81723c66716d353>,\n",
       " <Future: pending, key: main-3fa873b75a60defe1c871e08c7d1dd21>,\n",
       " <Future: pending, key: main-4a3c24cbaacb05f1a61bb933de6872ce>,\n",
       " <Future: pending, key: main-6ea12b77a808134bbd487f7e2e673bac>,\n",
       " <Future: pending, key: main-020ab89d5968d43f641db6afafa3b308>,\n",
       " <Future: pending, key: main-5487b30c7ba4abaaa55c44b81ae13ee8>,\n",
       " <Future: pending, key: main-4786e1c913043fb62b80ac7780911db9>,\n",
       " <Future: pending, key: main-ed6d2d9fb39990ea7da93192879bb329>,\n",
       " <Future: pending, key: main-0c4da2b4f4134d705ada76716b235bfb>,\n",
       " <Future: pending, key: main-41de4d99a3e96aacb74c2b6907292cdc>,\n",
       " <Future: pending, key: main-a948634e1a8209311331ba7f0406d12a>,\n",
       " <Future: pending, key: main-991082db1d491c9d221f8d8067330eb3>,\n",
       " <Future: pending, key: main-e48bcefa8bece902880082708c228513>,\n",
       " <Future: pending, key: main-21addeaf610aee5113cb54d8963ce69c>,\n",
       " <Future: pending, key: main-2158032ec1c9151a4ed117fdab5d1b6a>,\n",
       " <Future: pending, key: main-e7e07d99dd564b5f942b0fc3c05604ef>,\n",
       " <Future: pending, key: main-cfe3e0f7bec84acb53497e70b6d8817b>,\n",
       " <Future: pending, key: main-2fe8af70cbd1fe0e4649ac291ff0cbc9>,\n",
       " <Future: pending, key: main-1fb34f14617d910cdaf41dea96d4fc3c>,\n",
       " <Future: pending, key: main-4b834f21a2976824a456cbc6b8a8a4a8>,\n",
       " <Future: pending, key: main-5366b41eeab056186f8c925a4c17ec62>,\n",
       " <Future: pending, key: main-c77421d9c0a701e7014f3c9cdc9bc486>,\n",
       " <Future: pending, key: main-e18af44dcebc66c6ecbfd2728fd3e362>,\n",
       " <Future: pending, key: main-092b7b4345b1f66e532021c95b3282b3>,\n",
       " <Future: pending, key: main-47be73a6fe5dda014da359542994806b>,\n",
       " <Future: pending, key: main-a9ce9399f646a7c77424876935f67b3e>,\n",
       " <Future: pending, key: main-25d0cd3b48827963696919c93d02e211>,\n",
       " <Future: pending, key: main-4433fc0c970de92c58d1301c3a5dc57e>,\n",
       " <Future: pending, key: main-861b9d2896499a91defcd03e6bd6d912>,\n",
       " <Future: pending, key: main-32876658dd7c286fbbd86a740846892d>,\n",
       " <Future: pending, key: main-87cf4425ac85435136b2fbf0b7f8cf01>,\n",
       " <Future: pending, key: main-7d37afc52ea96b3d11c28cb5d5486359>,\n",
       " <Future: pending, key: main-6c2a2e9be18815a926e74333a8883377>,\n",
       " <Future: pending, key: main-e0a5626c93aaab0879ad500853f602bf>,\n",
       " <Future: pending, key: main-45d671bb88c621731841a3b0db115cd8>]"
      ]
     },
     "execution_count": 19,
     "metadata": {},
     "output_type": "execute_result"
    }
   ],
   "source": [
    "# Check on futures\n",
    "futures"
   ]
  },
  {
   "cell_type": "code",
   "execution_count": 20,
   "id": "f18c8218-4374-4884-83fa-f4a28f8cbbbf",
   "metadata": {},
   "outputs": [],
   "source": [
    "# Getting results\n",
    "results = client.gather(futures)"
   ]
  },
  {
   "cell_type": "code",
   "execution_count": 21,
   "id": "555c9e87-bb97-4c84-83ef-ba7d92cb0b9e",
   "metadata": {},
   "outputs": [],
   "source": [
    "# Closing client\n",
    "client.close()\n",
    "cluster.close()"
   ]
  },
  {
   "cell_type": "code",
   "execution_count": 22,
   "id": "7a3ac498-c027-4afe-8149-cf049bc4a696",
   "metadata": {},
   "outputs": [],
   "source": [
    "# Saving results\n",
    "torch.save(obj = results,\n",
    "           f = \"abelation_bayesimp_ntrial={0}_n={1}_d={2}_noise={3}.pt\".format(ntrial,n,d,noise))"
   ]
  },
  {
   "cell_type": "code",
   "execution_count": 33,
   "id": "3b1e4b20-428a-490e-889f-0f2055661c93",
   "metadata": {},
   "outputs": [
    {
     "data": {
      "text/plain": [
       "'/nfs/ghome/live/danceh/Causal-GP/causal-KL-GP/experiments/slurm/Abelation/bayesimp'"
      ]
     },
     "execution_count": 33,
     "metadata": {},
     "output_type": "execute_result"
    }
   ],
   "source": [
    "os.getcwd()"
   ]
  },
  {
   "cell_type": "code",
   "execution_count": 39,
   "id": "f43b747d-2984-405d-8018-7eccbabbaf7d",
   "metadata": {},
   "outputs": [
    {
     "data": {
      "text/plain": [
       "0.004987769576990653"
      ]
     },
     "execution_count": 39,
     "metadata": {},
     "output_type": "execute_result"
    }
   ],
   "source": [
    "1-(1-0.0001)**50"
   ]
  },
  {
   "cell_type": "code",
   "execution_count": 44,
   "id": "23b479e6-da24-411e-91dd-a3945e8c6ea8",
   "metadata": {},
   "outputs": [
    {
     "data": {
      "image/png": "[encoded data removed]",
      "text/plain": [
       "<Figure size 640x480 with 1 Axes>"
      ]
     },
     "metadata": {},
     "output_type": "display_data"
    }
   ],
   "source": [
    "p = 0.01\n",
    "def geo_cdf(p,x):\n",
    "    return 1-(1-p)**x.int()\n",
    "x = torch.linspace(1,50,50)\n",
    "import matplotlib.pyplot as plt\n",
    "plt.plot(x, geo_cdf(p,x), label = \"cave diving\")\n",
    "plt.plot(x, geo_cdf(p*0.01,x), label = \"diving\")\n",
    "plt.plot(x, geo_cdf(p*0.05,x), label = \"caving\")\n",
    "\n",
    "plt.xlabel(\"Years Cave Diving\")\n",
    "plt.ylabel(\"P(die)\")\n",
    "plt.legend()\n",
    "plt.savefig(\"cave_diving\", bbox_inches = \"tight\")"
   ]
  }
 ],
 "metadata": {
  "kernelspec": {
   "display_name": "Python 3 (ipykernel)",
   "language": "python",
   "name": "python3"
  },
  "language_info": {
   "codemirror_mode": {
    "name": "ipython",
    "version": 3
   },
   "file_extension": ".py",
   "mimetype": "text/x-python",
   "name": "python",
   "nbconvert_exporter": "python",
   "pygments_lexer": "ipython3",
   "version": "3.12.5"
  }
 },
 "nbformat": 4,
 "nbformat_minor": 5
}
