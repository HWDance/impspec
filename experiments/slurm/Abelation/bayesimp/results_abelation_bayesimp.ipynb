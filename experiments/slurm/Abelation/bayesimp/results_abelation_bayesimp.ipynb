{
 "cells": [
  {
   "cell_type": "code",
   "execution_count": 1,
   "id": "dd33cecd-055c-40d3-ab5f-776c1da7d3e6",
   "metadata": {},
   "outputs": [],
   "source": [
    "import torch\n",
    "import matplotlib.pyplot as plt"
   ]
  },
  {
   "cell_type": "code",
   "execution_count": 18,
   "id": "8a92fc64-ab10-49ac-adda-0efcb052edcc",
   "metadata": {},
   "outputs": [
    {
     "name": "stderr",
     "output_type": "stream",
     "text": [
      "/tmp/ipykernel_103839/2783386984.py:3: FutureWarning: You are using `torch.load` with `weights_only=False` (the current default value), which uses the default pickle module implicitly. It is possible to construct malicious pickle data which will execute arbitrary code during unpickling (See https://github.com/pytorch/pytorch/blob/main/SECURITY.md#untrusted-models for more details). In a future release, the default value for `weights_only` will be flipped to `True`. This limits the functions that could be executed during unpickling. Arbitrary objects will no longer be allowed to be loaded via this mode unless they are explicitly allowlisted by the user via `torch.serialization.add_safe_globals`. We recommend you start setting `weights_only=True` for any use case where you don't have full control of the loaded file. Please open an issue on GitHub for any issues related to this experimental feature.\n",
      "  results = torch.load(\"abelation_bayesimp_ntrial={0}_n=100_d=5_noise={1}.pt\".format(trials,noise))\n"
     ]
    }
   ],
   "source": [
    "trials = 50\n",
    "noise = 0.01\n",
    "results = torch.load(\"abelation_bayesimp_ntrial={0}_n=100_d=5_noise={1}.pt\".format(trials,noise))"
   ]
  },
  {
   "cell_type": "code",
   "execution_count": 19,
   "id": "d11b63b7-2217-48d9-bc45-33b3ff924e57",
   "metadata": {},
   "outputs": [
    {
     "name": "stdout",
     "output_type": "stream",
     "text": [
      "tensor([0.5872, 0.3258, 0.0817, 0.1268]) tensor([0.0282, 0.0421, 0.0157, 0.0291])\n"
     ]
    }
   ],
   "source": [
    "# Getting RMSEs\n",
    "rmse = torch.zeros(len(results))\n",
    "\n",
    "for i in range(len(results)):\n",
    "    rmse[i] = results[i]['rmse']\n",
    "\n",
    "rmse = rmse.reshape(4,trials).T\n",
    "\n",
    "print(rmse.mean(0), rmse.var(0)**0.5/trials**0.5)"
   ]
  },
  {
   "cell_type": "code",
   "execution_count": 20,
   "id": "1a0a9311-d238-4ec1-a884-3dda565730b3",
   "metadata": {},
   "outputs": [
    {
     "name": "stdout",
     "output_type": "stream",
     "text": [
      "tensor([0.2071, 0.1643, 0.1154, 0.1558]) tensor([0.0161, 0.0169, 0.0123, 0.0150])\n"
     ]
    }
   ],
   "source": [
    "# Getting calibration levels\n",
    "cal_losses = torch.zeros(len(results))\n",
    "\n",
    "for i in range(len(results)):\n",
    "    cal_losses[i] =  (results[i]['post_levels_f']-results[i]['cal_levels'][:,0]).abs().mean()\n",
    "\n",
    "cal_losses = cal_losses.reshape(4, trials).T\n",
    "\n",
    "print(cal_losses.mean(0), cal_losses.var(0)**0.5/trials**0.5)"
   ]
  }
 ],
 "metadata": {
  "kernelspec": {
   "display_name": "Python 3 (ipykernel)",
   "language": "python",
   "name": "python3"
  },
  "language_info": {
   "codemirror_mode": {
    "name": "ipython",
    "version": 3
   },
   "file_extension": ".py",
   "mimetype": "text/x-python",
   "name": "python",
   "nbconvert_exporter": "python",
   "pygments_lexer": "ipython3",
   "version": "3.12.5"
  }
 },
 "nbformat": 4,
 "nbformat_minor": 5
}
