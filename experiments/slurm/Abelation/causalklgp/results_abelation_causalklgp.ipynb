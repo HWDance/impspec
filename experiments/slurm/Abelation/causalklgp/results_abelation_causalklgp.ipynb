{
 "cells": [
  {
   "cell_type": "code",
   "execution_count": 7,
   "id": "dd33cecd-055c-40d3-ab5f-776c1da7d3e6",
   "metadata": {},
   "outputs": [],
   "source": [
    "import torch\n",
    "import matplotlib.pyplot as plt"
   ]
  },
  {
   "cell_type": "code",
   "execution_count": 19,
   "id": "8a92fc64-ab10-49ac-adda-0efcb052edcc",
   "metadata": {},
   "outputs": [
    {
     "name": "stderr",
     "output_type": "stream",
     "text": [
      "/tmp/ipykernel_103722/205476787.py:3: FutureWarning: You are using `torch.load` with `weights_only=False` (the current default value), which uses the default pickle module implicitly. It is possible to construct malicious pickle data which will execute arbitrary code during unpickling (See https://github.com/pytorch/pytorch/blob/main/SECURITY.md#untrusted-models for more details). In a future release, the default value for `weights_only` will be flipped to `True`. This limits the functions that could be executed during unpickling. Arbitrary objects will no longer be allowed to be loaded via this mode unless they are explicitly allowlisted by the user via `torch.serialization.add_safe_globals`. We recommend you start setting `weights_only=True` for any use case where you don't have full control of the loaded file. Please open an issue on GitHub for any issues related to this experimental feature.\n",
      "  results = torch.load(\"abelation_causalklgp_ntrial={0}_n=100_d=5_noise={1}.pt\".format(trials,noise))\n"
     ]
    }
   ],
   "source": [
    "trials = 50\n",
    "noise = 0.01\n",
    "results = torch.load(\"abelation_causalklgp_ntrial={0}_n=100_d=5_noise={1}.pt\".format(trials,noise))"
   ]
  },
  {
   "cell_type": "code",
   "execution_count": 20,
   "id": "d11b63b7-2217-48d9-bc45-33b3ff924e57",
   "metadata": {},
   "outputs": [
    {
     "name": "stdout",
     "output_type": "stream",
     "text": [
      "tensor([0.0477, 0.0472, 0.0472, 0.0480]) tensor([0.0018, 0.0017, 0.0017, 0.0018])\n"
     ]
    }
   ],
   "source": [
    "# Getting RMSEs\n",
    "rmse = torch.zeros(len(results))\n",
    "\n",
    "for i in range(len(results)):\n",
    "    rmse[i] = results[i]['rmse']\n",
    "\n",
    "rmse = rmse.reshape(4,trials).T\n",
    "\n",
    "print(rmse.mean(0), rmse.var(0)**0.5/trials**0.5)"
   ]
  },
  {
   "cell_type": "code",
   "execution_count": 21,
   "id": "1a0a9311-d238-4ec1-a884-3dda565730b3",
   "metadata": {},
   "outputs": [
    {
     "name": "stdout",
     "output_type": "stream",
     "text": [
      "tensor([0.1216, 0.0883, 0.0723, 0.0733]) tensor([0.0091, 0.0091, 0.0062, 0.0067])\n"
     ]
    }
   ],
   "source": [
    "# Getting calibration levels\n",
    "cal_losses = torch.zeros(len(results))\n",
    "\n",
    "for i in range(len(results)):\n",
    "    cal_losses[i] =  (results[i]['post_levels_f']-results[i]['cal_levels'][:,0]).abs().mean()\n",
    "\n",
    "cal_losses = cal_losses.reshape(4, trials).T\n",
    "\n",
    "print(cal_losses.mean(0), cal_losses.var(0)**0.5/trials**0.5)"
   ]
  }
 ],
 "metadata": {
  "kernelspec": {
   "display_name": "Python 3 (ipykernel)",
   "language": "python",
   "name": "python3"
  },
  "language_info": {
   "codemirror_mode": {
    "name": "ipython",
    "version": 3
   },
   "file_extension": ".py",
   "mimetype": "text/x-python",
   "name": "python",
   "nbconvert_exporter": "python",
   "pygments_lexer": "ipython3",
   "version": "3.12.5"
  }
 },
 "nbformat": 4,
 "nbformat_minor": 5
}
