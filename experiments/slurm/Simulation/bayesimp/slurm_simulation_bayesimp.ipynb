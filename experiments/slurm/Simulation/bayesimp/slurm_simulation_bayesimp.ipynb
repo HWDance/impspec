{
 "cells": [
  {
   "cell_type": "code",
   "execution_count": 1,
   "id": "ffd17711-8211-4a6c-a143-bfd23ca70ed6",
   "metadata": {},
   "outputs": [],
   "source": [
    "# Imports\n",
    "import torch\n",
    "import os \n",
    "import sys\n",
    "from dask_jobqueue import SLURMCluster\n",
    "from distributed import Client\n",
    "from pathlib import Path\n",
    "\n",
    "import do_simulation_bayesimp as file"
   ]
  },
  {
   "cell_type": "code",
   "execution_count": 2,
   "id": "fbc39ade-9681-449d-bda2-588ad33554c9",
   "metadata": {},
   "outputs": [],
   "source": [
    "# Args setup\n",
    "ntrial = 50\n",
    "n = 500\n",
    "n_int = 100\n",
    "niter = 1000\n",
    "front_door = True\n",
    "minimise = False\n",
    "add_base_kernel_BO = True"
   ]
  },
  {
   "cell_type": "code",
   "execution_count": 3,
   "id": "1af96fcf-2028-4154-af52-ca94c6de9876",
   "metadata": {},
   "outputs": [
    {
     "name": "stderr",
     "output_type": "stream",
     "text": [
      "/nfs/ghome/live/danceh/.local/mambaforge/envs/causalgp/lib/python3.12/site-packages/distributed/node.py:187: UserWarning: Port 11111 is already in use.\n",
      "Perhaps you already have a cluster running?\n",
      "Hosting the HTTP server on port 32951 instead\n",
      "  warnings.warn(\n"
     ]
    }
   ],
   "source": [
    "# Cluster creation\n",
    "cluster = SLURMCluster(\n",
    "    n_workers=0,\n",
    "    memory=\"32GB\",\n",
    "    processes=1,\n",
    "    cores=1,\n",
    "    scheduler_options={\n",
    "        \"dashboard_address\": \":11111\",\n",
    "        \"allowed_failures\": 10\n",
    "    },\n",
    "    job_cpu=1,\n",
    "    walltime=\"3:0:0\",\n",
    "    \n",
    "    job_extra_directives = [\"-p medium,fast,cpu\"],\n",
    ")\n",
    "cluster.adapt(minimum=0, maximum=200)\n",
    "client = Client(cluster)"
   ]
  },
  {
   "cell_type": "code",
   "execution_count": 4,
   "id": "512e36b3-47b6-4200-bb66-ce2050429a25",
   "metadata": {},
   "outputs": [],
   "source": [
    "# Submitting jobs\n",
    "futures = []\n",
    "for seed in range(ntrial):\n",
    "        f = client.submit(file.main,\n",
    "                              seed,\n",
    "                              n,n_int,\n",
    "                              niter = niter,\n",
    "                              front_door = front_door,\n",
    "                              minimise = minimise,\n",
    "                              add_base_kernel_BO = add_base_kernel_BO\n",
    "                             )\n",
    "        futures += [f]"
   ]
  },
  {
   "cell_type": "code",
   "execution_count": 5,
   "id": "64a8b8eb-8a5b-47d5-896f-65cef808f05d",
   "metadata": {},
   "outputs": [
    {
     "data": {
      "text/plain": [
       "[<Future: pending, key: main-cd79934cfbfff32fbaecb605ebc707e7>,\n",
       " <Future: pending, key: main-aa70d890d7fbf5f753b749413504d27c>,\n",
       " <Future: pending, key: main-7bd7deb615337395b34e20f743c686cb>,\n",
       " <Future: pending, key: main-e876430ed5f48e55e10dcb98ca679b55>,\n",
       " <Future: pending, key: main-1b151d39b85ee92001b9be5d25740bef>,\n",
       " <Future: pending, key: main-65b6f62ae368e6299d0ae3a3f8c7e543>,\n",
       " <Future: pending, key: main-a88180b233eb595937e4621c8b9a0173>,\n",
       " <Future: pending, key: main-e56677e352eb38d1a640fcffb87a3878>,\n",
       " <Future: pending, key: main-1e8bcbc27b6fb7a011bd8ca22066ac0c>,\n",
       " <Future: pending, key: main-3650d2dd3d9f2f4df76aaea760adbb29>,\n",
       " <Future: pending, key: main-6da3b8f97d2105b70beeaa02a5be5177>,\n",
       " <Future: pending, key: main-7583d9f2485f589e278bc136f3a7d918>,\n",
       " <Future: pending, key: main-4e5fb8d20e0bd296c66ce05e3f757e24>,\n",
       " <Future: pending, key: main-d648863ac624dcdd4eb81ed868228b0f>,\n",
       " <Future: pending, key: main-440522a6474655fc3d9901bde7f9112f>,\n",
       " <Future: pending, key: main-ace2fc00462c4438f694c789a09df554>,\n",
       " <Future: pending, key: main-d27d894e53a49627c32a14d84142c48a>,\n",
       " <Future: pending, key: main-d90dcbf516e4934de0db49836763f4ec>,\n",
       " <Future: pending, key: main-a3fd1aa4a35ddaa3793eb2ed67278684>,\n",
       " <Future: pending, key: main-d7fb76b59b04c15b12d5344ac5d00628>,\n",
       " <Future: pending, key: main-6db54b758946154a56393b6bddb85c25>,\n",
       " <Future: pending, key: main-7c9c31c2d8f5a8eb3256f72e06d5ef24>,\n",
       " <Future: pending, key: main-9e71206e7d272db74339f0e99c0baff2>,\n",
       " <Future: pending, key: main-1242b90d87083a651f37c8aec018de1e>,\n",
       " <Future: pending, key: main-d3331401ca2c9591a044d6427fa0aa1b>,\n",
       " <Future: pending, key: main-0934a48dc84b37d80f7d01fc982ca79e>,\n",
       " <Future: pending, key: main-943282127aa21986f875aeca3b9ca70c>,\n",
       " <Future: pending, key: main-a68d695d256852de104de5e539aec552>,\n",
       " <Future: pending, key: main-ddfa17904a9d422f00c9620046fc62da>,\n",
       " <Future: pending, key: main-459d4510f6b055febdef7c71509b6671>,\n",
       " <Future: pending, key: main-8350f05a57d20d89743bb71f65450b9d>,\n",
       " <Future: pending, key: main-0d1f081ba02e1bb8a2400881a206d3e7>,\n",
       " <Future: pending, key: main-1ea35a9d17cd95c5ea36b775402d5b5e>,\n",
       " <Future: pending, key: main-d3cad5e5139244720eec2072a03fdb55>,\n",
       " <Future: pending, key: main-cd9eb3d4dc7937109000c9dd05cd344e>,\n",
       " <Future: pending, key: main-f62e3a08a289b45f09fba089c02d3af4>,\n",
       " <Future: pending, key: main-5420773eb1932bd922c5c37d7db32163>,\n",
       " <Future: pending, key: main-ddf386971d504480f8d57b88410a8a93>,\n",
       " <Future: pending, key: main-a5f8337956a3c349e8fa6ed09c90c058>,\n",
       " <Future: pending, key: main-cb70901a3548007f8b5b8bb20feb46f9>,\n",
       " <Future: pending, key: main-944efe6e0deda161def64e0dca5e186c>,\n",
       " <Future: pending, key: main-b47ddbb6fc2b189501f5a827776aa005>,\n",
       " <Future: pending, key: main-d5a80b4cdbe13258136ef007a8120075>,\n",
       " <Future: pending, key: main-4149c19cdfb9c2de2934fa75f04a6141>,\n",
       " <Future: pending, key: main-362b566aded1093b3cd1c981380ad39c>,\n",
       " <Future: pending, key: main-e70ac3267a13c2ef813eb44b4c59929c>,\n",
       " <Future: pending, key: main-8e9eb749d30bada9b646ac52e53cef74>,\n",
       " <Future: pending, key: main-d2b88e2da81dd1fe727fee62406832ec>,\n",
       " <Future: pending, key: main-8f64420e41c41d6a23b8a6fe1284aae1>,\n",
       " <Future: pending, key: main-ec7f150b66c06255f6d1aa98bc5e7913>]"
      ]
     },
     "execution_count": 5,
     "metadata": {},
     "output_type": "execute_result"
    }
   ],
   "source": [
    "futures"
   ]
  },
  {
   "cell_type": "code",
   "execution_count": null,
   "id": "99fb39c7-f5c1-4d44-92df-b1a94309a76a",
   "metadata": {},
   "outputs": [],
   "source": [
    "# Getting results\n",
    "results = client.gather(futures)"
   ]
  },
  {
   "cell_type": "code",
   "execution_count": null,
   "id": "2aa104ec-b8bc-406e-a690-ccc6a03a8064",
   "metadata": {},
   "outputs": [],
   "source": [
    "# Closing client\n",
    "client.close()\n",
    "cluster.close()"
   ]
  },
  {
   "cell_type": "code",
   "execution_count": null,
   "id": "e7eccd97-9915-4715-ae3c-23d065c72172",
   "metadata": {},
   "outputs": [],
   "source": [
    "# Saving results\n",
    "torch.save(obj = results,\n",
    "           f = \"simulation_bayesimp_ntrial={0}_n={1}_frontdoor={2}_minimise={3}_addbase={4}.pt\".format(ntrial,\n",
    "                                                                                           n,\n",
    "                                                                                           front_door,\n",
    "                                                                                           minimise,\n",
    "                                                                                           add_base_kernel_BO)\n",
    "          )"
   ]
  }
 ],
 "metadata": {
  "kernelspec": {
   "display_name": "Python 3 (ipykernel)",
   "language": "python",
   "name": "python3"
  },
  "language_info": {
   "codemirror_mode": {
    "name": "ipython",
    "version": 3
   },
   "file_extension": ".py",
   "mimetype": "text/x-python",
   "name": "python",
   "nbconvert_exporter": "python",
   "pygments_lexer": "ipython3",
   "version": "3.12.5"
  }
 },
 "nbformat": 4,
 "nbformat_minor": 5
}
