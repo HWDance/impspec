{
 "cells": [
  {
   "cell_type": "code",
   "execution_count": 1,
   "id": "ffd17711-8211-4a6c-a143-bfd23ca70ed6",
   "metadata": {},
   "outputs": [],
   "source": [
    "# Imports\n",
    "import torch\n",
    "import os \n",
    "import sys\n",
    "from dask_jobqueue import SLURMCluster\n",
    "from distributed import Client\n",
    "from pathlib import Path\n",
    "\n",
    "import do_simulation_bayesimp as file"
   ]
  },
  {
   "cell_type": "code",
   "execution_count": 2,
   "id": "fbc39ade-9681-449d-bda2-588ad33554c9",
   "metadata": {},
   "outputs": [],
   "source": [
    "# Args setup\n",
    "ntrial = 50\n",
    "n = 500\n",
    "n_int = 100\n",
    "niter = 1000\n",
    "front_door = True\n",
    "minimise = False\n",
    "add_base_kernel_BO = True"
   ]
  },
  {
   "cell_type": "code",
   "execution_count": 3,
   "id": "1af96fcf-2028-4154-af52-ca94c6de9876",
   "metadata": {},
   "outputs": [
    {
     "name": "stderr",
     "output_type": "stream",
     "text": [
      "/nfs/ghome/live/danceh/.local/mambaforge/envs/causalgp/lib/python3.12/site-packages/distributed/node.py:187: UserWarning: Port 11111 is already in use.\n",
      "Perhaps you already have a cluster running?\n",
      "Hosting the HTTP server on port 41173 instead\n",
      "  warnings.warn(\n"
     ]
    }
   ],
   "source": [
    "# Cluster creation\n",
    "cluster = SLURMCluster(\n",
    "    n_workers=0,\n",
    "    memory=\"32GB\",\n",
    "    processes=1,\n",
    "    cores=1,\n",
    "    scheduler_options={\n",
    "        \"dashboard_address\": \":11111\",\n",
    "        \"allowed_failures\": 10\n",
    "    },\n",
    "    job_cpu=1,\n",
    "    walltime=\"3:0:0\",\n",
    "    \n",
    "    job_extra_directives = [\"-p medium,fast,cpu\"],\n",
    ")\n",
    "cluster.adapt(minimum=0, maximum=200)\n",
    "client = Client(cluster)"
   ]
  },
  {
   "cell_type": "code",
   "execution_count": 4,
   "id": "512e36b3-47b6-4200-bb66-ce2050429a25",
   "metadata": {},
   "outputs": [],
   "source": [
    "# Submitting jobs\n",
    "futures = []\n",
    "for seed in range(ntrial):\n",
    "        f = client.submit(file.main,\n",
    "                              seed,\n",
    "                              n,n_int,\n",
    "                              niter = niter,\n",
    "                              front_door = front_door,\n",
    "                              minimise = minimise,\n",
    "                              add_base_kernel_BO = add_base_kernel_BO\n",
    "                             )\n",
    "        futures += [f]"
   ]
  },
  {
   "cell_type": "code",
   "execution_count": 11,
   "id": "64a8b8eb-8a5b-47d5-896f-65cef808f05d",
   "metadata": {},
   "outputs": [
    {
     "data": {
      "text/plain": [
       "[<Future: finished, type: dict, key: main-ca0e3c9b6e49cb864056c0a6bf60a9f3>,\n",
       " <Future: finished, type: dict, key: main-ca0e3c9b6e49cb864056c0a6bf60a9f3>,\n",
       " <Future: finished, type: dict, key: main-6b8f14da1cbd6498e4388c1b9a7489b3>,\n",
       " <Future: finished, type: dict, key: main-f2644a9fd6207608f399cd6e09d4f3f0>,\n",
       " <Future: finished, type: dict, key: main-7b578c480925165defdb4629437b2931>,\n",
       " <Future: finished, type: dict, key: main-400de223a24f211dc016e0dc2e8e4ea9>,\n",
       " <Future: finished, type: dict, key: main-4cdd42b024f9dc7110e1a1fbd3960054>,\n",
       " <Future: finished, type: dict, key: main-654a430a516e387deed60228598816c9>,\n",
       " <Future: finished, type: dict, key: main-c126c02e5ff18849ca894f2971bd99f6>,\n",
       " <Future: finished, type: dict, key: main-566495c2659b11c1b4feedc18976452d>,\n",
       " <Future: finished, type: dict, key: main-da4c3d8fdfbf884d22613ea39b4700b6>,\n",
       " <Future: finished, type: dict, key: main-bab118031b35babf6315724537832155>,\n",
       " <Future: finished, type: dict, key: main-c6d79268578ceba5ab7a178c7838e720>,\n",
       " <Future: finished, type: dict, key: main-22057823313381f3601f6016e42288f8>,\n",
       " <Future: finished, type: dict, key: main-02d063fcf9b546ddca00104561b729eb>,\n",
       " <Future: finished, type: dict, key: main-0cf72dd7a94ee736d18f09e6cfcb645d>,\n",
       " <Future: finished, type: dict, key: main-6cd93bf73ecd07fb7c5584a5953cd742>,\n",
       " <Future: finished, type: dict, key: main-9396b6d76c4b7bf872c065da690900aa>,\n",
       " <Future: finished, type: dict, key: main-22a7280b6e099d64f821e5939a204f1d>,\n",
       " <Future: finished, type: dict, key: main-10b43ffb0056748822b29276ed51ece2>,\n",
       " <Future: finished, type: dict, key: main-5d6173da102611163eb29fb0508482b5>,\n",
       " <Future: finished, type: dict, key: main-d69e22caa13a1531eb3b2fd227ac3d7a>,\n",
       " <Future: finished, type: dict, key: main-649eb1aafe7625291893c3ca38180216>,\n",
       " <Future: finished, type: dict, key: main-7c46d1ec203352caa9011c8476b8b225>,\n",
       " <Future: finished, type: dict, key: main-8e4d48432ced7536aa7efc3fbd826a38>,\n",
       " <Future: finished, type: dict, key: main-1212105ac18212611ccc791a22435167>,\n",
       " <Future: finished, type: dict, key: main-c03226fed3c5edbc5c607a216af186b5>,\n",
       " <Future: finished, type: dict, key: main-fcb004ac92943d5a904af27af46b5962>,\n",
       " <Future: finished, type: dict, key: main-2a5496f3a1173a8f72912441e4e52cad>,\n",
       " <Future: finished, type: dict, key: main-797542cbd5cb306a00e92b0b564a50d5>,\n",
       " <Future: finished, type: dict, key: main-dbcf2a03c584c9ce63d1e1ca20fcc283>,\n",
       " <Future: finished, type: dict, key: main-04640c4a01793e3dc312ebed7c9d2457>,\n",
       " <Future: finished, type: dict, key: main-9b2d3389a6b9d816e8251a7fed0041bb>,\n",
       " <Future: finished, type: dict, key: main-4f472150f78df46345bfdbe2fe304ac7>,\n",
       " <Future: finished, type: dict, key: main-d0e7b8e83bb3fd94cd59980769412062>,\n",
       " <Future: finished, type: dict, key: main-72831f0834940ce1533d87258bb3f194>,\n",
       " <Future: finished, type: dict, key: main-4b339b9698e97d15ee1b762781d602db>,\n",
       " <Future: finished, type: dict, key: main-0a4dad8bab50ace732676fe2cba96c39>,\n",
       " <Future: finished, type: dict, key: main-943bed44e74d748ae9139f9c92092fe7>,\n",
       " <Future: finished, type: dict, key: main-0764facf08059fdd9deb6f81914e596d>,\n",
       " <Future: finished, type: dict, key: main-a1bc0e01b85c31240f4c7eaab9791c0b>,\n",
       " <Future: finished, type: dict, key: main-b1cf35a81c5cb1813a498be88c9f9477>,\n",
       " <Future: finished, type: dict, key: main-2b7f04dca3184ce3908ac049fa825334>,\n",
       " <Future: finished, type: dict, key: main-5ffc5415f3bd0abfb05032192737a1d1>,\n",
       " <Future: finished, type: dict, key: main-9040589aaea4707dbc0dfe98819eb171>,\n",
       " <Future: finished, type: dict, key: main-5dd9a22993827f8cdb109938625bf409>,\n",
       " <Future: finished, type: dict, key: main-6317a869bd7c37f56f99fc05e5a9f7d2>,\n",
       " <Future: finished, type: dict, key: main-5ad63761c3b0ba0fa5c667335d5c1bb0>,\n",
       " <Future: finished, type: dict, key: main-7c7b814004e4cf1fd2e79ba0a8c2dd30>,\n",
       " <Future: finished, type: dict, key: main-127eee73bc2deb85d76ae9b470d8e817>]"
      ]
     },
     "execution_count": 11,
     "metadata": {},
     "output_type": "execute_result"
    }
   ],
   "source": [
    "futures"
   ]
  },
  {
   "cell_type": "code",
   "execution_count": 12,
   "id": "99fb39c7-f5c1-4d44-92df-b1a94309a76a",
   "metadata": {},
   "outputs": [],
   "source": [
    "# Getting results\n",
    "results = client.gather(futures)"
   ]
  },
  {
   "cell_type": "code",
   "execution_count": 13,
   "id": "2aa104ec-b8bc-406e-a690-ccc6a03a8064",
   "metadata": {},
   "outputs": [],
   "source": [
    "# Closing client\n",
    "client.close()\n",
    "cluster.close()"
   ]
  },
  {
   "cell_type": "code",
   "execution_count": 14,
   "id": "e7eccd97-9915-4715-ae3c-23d065c72172",
   "metadata": {},
   "outputs": [],
   "source": [
    "# Saving results\n",
    "torch.save(obj = results,\n",
    "           f = \"simulation_bayesimp_ntrial={0}_n={1}_frontdoor={2}_minimise={3}_addbase={4}.pt\".format(ntrial,\n",
    "                                                                                           n,\n",
    "                                                                                           front_door,\n",
    "                                                                                           minimise,\n",
    "                                                                                           add_base_kernel_BO)\n",
    "          )"
   ]
  }
 ],
 "metadata": {
  "kernelspec": {
   "display_name": "Python 3 (ipykernel)",
   "language": "python",
   "name": "python3"
  },
  "language_info": {
   "codemirror_mode": {
    "name": "ipython",
    "version": 3
   },
   "file_extension": ".py",
   "mimetype": "text/x-python",
   "name": "python",
   "nbconvert_exporter": "python",
   "pygments_lexer": "ipython3",
   "version": "3.12.5"
  }
 },
 "nbformat": 4,
 "nbformat_minor": 5
}
