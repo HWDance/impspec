{
 "cells": [
  {
   "cell_type": "code",
   "execution_count": 9,
   "id": "ffd17711-8211-4a6c-a143-bfd23ca70ed6",
   "metadata": {},
   "outputs": [],
   "source": [
    "# Imports\n",
    "import torch\n",
    "import os \n",
    "import sys\n",
    "from dask_jobqueue import SLURMCluster\n",
    "from distributed import Client\n",
    "from pathlib import Path\n",
    "\n",
    "import do_simulation_bayesimp as file"
   ]
  },
  {
   "cell_type": "code",
   "execution_count": 10,
   "id": "fbc39ade-9681-449d-bda2-588ad33554c9",
   "metadata": {},
   "outputs": [],
   "source": [
    "# Args setup\n",
    "ntrial = 50\n",
    "n = 500\n",
    "n_int = 100\n",
    "niter = 1000\n",
    "front_door = True\n",
    "minimise = False"
   ]
  },
  {
   "cell_type": "code",
   "execution_count": 11,
   "id": "1af96fcf-2028-4154-af52-ca94c6de9876",
   "metadata": {},
   "outputs": [],
   "source": [
    "# Cluster creation\n",
    "cluster = SLURMCluster(\n",
    "    n_workers=0,\n",
    "    memory=\"32GB\",\n",
    "    processes=1,\n",
    "    cores=1,\n",
    "    scheduler_options={\n",
    "        \"dashboard_address\": \":11111\",\n",
    "        \"allowed_failures\": 10\n",
    "    },\n",
    "    job_cpu=1,\n",
    "    walltime=\"3:0:0\",\n",
    "    \n",
    "    job_extra_directives = [\"-p medium,fast,cpu\"],\n",
    ")\n",
    "cluster.adapt(minimum=0, maximum=200)\n",
    "client = Client(cluster)"
   ]
  },
  {
   "cell_type": "code",
   "execution_count": 12,
   "id": "512e36b3-47b6-4200-bb66-ce2050429a25",
   "metadata": {},
   "outputs": [],
   "source": [
    "# Submitting jobs\n",
    "futures = []\n",
    "for seed in range(ntrial):\n",
    "        f = client.submit(file.main,\n",
    "                              seed,\n",
    "                              n,n_int,\n",
    "                              niter = niter,\n",
    "                              front_door = front_door,\n",
    "                              minimise = minimise\n",
    "                             )\n",
    "        futures += [f]"
   ]
  },
  {
   "cell_type": "code",
   "execution_count": 17,
   "id": "64a8b8eb-8a5b-47d5-896f-65cef808f05d",
   "metadata": {},
   "outputs": [
    {
     "data": {
      "text/plain": [
       "[<Future: cancelled, type: dict, key: main-c972094f208fd06b3cfb86c93cd45f1d>,\n",
       " <Future: cancelled, type: dict, key: main-96a58c8252a46ecc984333303b9bd361>,\n",
       " <Future: cancelled, type: dict, key: main-27a903df6dd8280a7f27d18976e17383>,\n",
       " <Future: cancelled, type: dict, key: main-470c8c24f909735ff72db482ea96d272>,\n",
       " <Future: cancelled, type: dict, key: main-2c4703b2d9ee3995a6e895e8bc00e288>,\n",
       " <Future: cancelled, type: dict, key: main-ebb15c6a381b2177908ffc8da42a90c3>,\n",
       " <Future: cancelled, type: dict, key: main-842eb5cf60ad138a996ca57f50d9f79a>,\n",
       " <Future: cancelled, type: dict, key: main-191a8e9b0eb2729ad9c2e74754e7b673>,\n",
       " <Future: cancelled, type: dict, key: main-8feebe3c892407f4d259bd265c37ad5e>,\n",
       " <Future: cancelled, type: dict, key: main-0bc3eeeeeed2d9cd1d159e5feffddb52>,\n",
       " <Future: cancelled, type: dict, key: main-5c4b88dd6066cb75d4f78a671b8cad59>,\n",
       " <Future: cancelled, type: dict, key: main-8440dfe31e306f2607975c26a059d41d>,\n",
       " <Future: cancelled, type: dict, key: main-d47de50d539957918756ed222b58333f>,\n",
       " <Future: cancelled, type: dict, key: main-42dcc25f200b307e7f441ac3f3eb22cc>,\n",
       " <Future: cancelled, type: dict, key: main-0928aef4def193ebc510712277d67150>,\n",
       " <Future: cancelled, type: dict, key: main-c13758a79f6c9c99f92698d9e20cb430>,\n",
       " <Future: cancelled, type: dict, key: main-e7129cfe7f525f81da29246ce374af02>,\n",
       " <Future: cancelled, type: dict, key: main-4eff7ae52dd3098184c694347c249d4c>,\n",
       " <Future: cancelled, type: dict, key: main-a787bda5424ece78afd42ed2cdbf9ec2>,\n",
       " <Future: cancelled, type: dict, key: main-d2db4d6d6e4ff207ebb9383ca4809d66>,\n",
       " <Future: cancelled, type: dict, key: main-f6a2cbc3dc73b6c8b161e20fe8184131>,\n",
       " <Future: cancelled, type: dict, key: main-957391b26efc37e947f3dc887744676d>,\n",
       " <Future: cancelled, type: dict, key: main-02977b5d3dd1f9d6134edf5f5ed1965d>,\n",
       " <Future: cancelled, type: dict, key: main-0ed933c4c9bd10176a4fd7409b1d1b10>,\n",
       " <Future: cancelled, type: dict, key: main-0ed933c4c9bd10176a4fd7409b1d1b10>,\n",
       " <Future: cancelled, type: dict, key: main-b480cae88b48cb7a0e2e6126ee5d05d2>,\n",
       " <Future: cancelled, type: dict, key: main-c0201d95a7246d50198ba0179535d7f5>,\n",
       " <Future: cancelled, type: dict, key: main-bd7c7c9f8d7a5f9cfc9b820f1d40737d>,\n",
       " <Future: cancelled, type: dict, key: main-0f1698a22c9585e85d5663c60a7f043b>,\n",
       " <Future: cancelled, type: dict, key: main-458b97c158bbf7559440db9750ed1b81>,\n",
       " <Future: cancelled, type: dict, key: main-e1138f321a877c2a188c41ba7e80da9d>,\n",
       " <Future: cancelled, type: dict, key: main-8d81a66c354ca5bfe47e037049e3ebbc>,\n",
       " <Future: cancelled, type: dict, key: main-bec7deff5fc9a1513609c9893db22363>,\n",
       " <Future: cancelled, type: dict, key: main-1a306859fe3cb1a8b7df93900f4260c1>,\n",
       " <Future: cancelled, type: dict, key: main-0e8a8ec496c021b2bd2e7f27760e045a>,\n",
       " <Future: cancelled, type: dict, key: main-654f3a0297adcd6f80dae797b73a0cc2>,\n",
       " <Future: cancelled, type: dict, key: main-ab79cff3076d7838f0a028ebf5e7d1ee>,\n",
       " <Future: cancelled, type: dict, key: main-fe8bce3c75d18ff26c15db619f81cc02>,\n",
       " <Future: cancelled, type: dict, key: main-d825ca7a50be70fb4c5c3b174bbf7724>,\n",
       " <Future: cancelled, type: dict, key: main-deb7eda9f5dfa3e6a2475678e1f78e83>,\n",
       " <Future: cancelled, type: dict, key: main-49e2212c28533ed28a4e878fd8cbb8bd>,\n",
       " <Future: cancelled, type: dict, key: main-d8dd212262ec066177e226809cc3f141>,\n",
       " <Future: cancelled, type: dict, key: main-ca670657e07bbb68facf4535de61a21c>,\n",
       " <Future: cancelled, type: dict, key: main-520ababd2b38cd955282961ce9bb6906>,\n",
       " <Future: cancelled, type: dict, key: main-ccf53aa12cbeec43a5ae039f259599ae>,\n",
       " <Future: cancelled, type: dict, key: main-d23b225fab8e4eae20f8d7b43bb71b05>,\n",
       " <Future: cancelled, type: dict, key: main-168356a85e53c730ef0d19123ef34ae6>,\n",
       " <Future: cancelled, type: dict, key: main-a2c2a721b16f06178f5ca73309b62234>,\n",
       " <Future: cancelled, type: dict, key: main-4ae5204a66621122a9e21343d6e08595>,\n",
       " <Future: cancelled, type: dict, key: main-abad2425117bba1a6f542aaedf7ad501>]"
      ]
     },
     "execution_count": 17,
     "metadata": {},
     "output_type": "execute_result"
    }
   ],
   "source": [
    "futures"
   ]
  },
  {
   "cell_type": "code",
   "execution_count": 14,
   "id": "99fb39c7-f5c1-4d44-92df-b1a94309a76a",
   "metadata": {},
   "outputs": [],
   "source": [
    "# Getting results\n",
    "results = client.gather(futures)"
   ]
  },
  {
   "cell_type": "code",
   "execution_count": 15,
   "id": "2aa104ec-b8bc-406e-a690-ccc6a03a8064",
   "metadata": {},
   "outputs": [],
   "source": [
    "# Closing client\n",
    "client.close()\n",
    "cluster.close()"
   ]
  },
  {
   "cell_type": "code",
   "execution_count": 16,
   "id": "e7eccd97-9915-4715-ae3c-23d065c72172",
   "metadata": {},
   "outputs": [],
   "source": [
    "# Saving results\n",
    "torch.save(obj = results,\n",
    "           f = \"simulation_bayesimp_ntrial={0}_n={1}_frontdoor={2}_minimise={3}.pt\".format(ntrial,\n",
    "                                                                                           n,\n",
    "                                                                                           front_door,\n",
    "                                                                                           minimise)\n",
    "          )"
   ]
  }
 ],
 "metadata": {
  "kernelspec": {
   "display_name": "Python 3 (ipykernel)",
   "language": "python",
   "name": "python3"
  },
  "language_info": {
   "codemirror_mode": {
    "name": "ipython",
    "version": 3
   },
   "file_extension": ".py",
   "mimetype": "text/x-python",
   "name": "python",
   "nbconvert_exporter": "python",
   "pygments_lexer": "ipython3",
   "version": "3.12.5"
  }
 },
 "nbformat": 4,
 "nbformat_minor": 5
}
