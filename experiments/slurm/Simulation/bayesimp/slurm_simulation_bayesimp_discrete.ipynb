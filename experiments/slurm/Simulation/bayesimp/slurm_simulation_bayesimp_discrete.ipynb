{
 "cells": [
  {
   "cell_type": "code",
   "execution_count": 1,
   "id": "ffd17711-8211-4a6c-a143-bfd23ca70ed6",
   "metadata": {},
   "outputs": [],
   "source": [
    "# Imports\n",
    "import torch\n",
    "import os \n",
    "import sys\n",
    "from dask_jobqueue import SLURMCluster\n",
    "from distributed import Client\n",
    "from pathlib import Path\n",
    "\n",
    "import do_simulation_bayesimp_discrete as file"
   ]
  },
  {
   "cell_type": "code",
   "execution_count": 2,
   "id": "fbc39ade-9681-449d-bda2-588ad33554c9",
   "metadata": {},
   "outputs": [],
   "source": [
    "# Args setup\n",
    "ntrial = 100\n",
    "n = 100\n",
    "n_int = 2\n",
    "niter = 1000\n",
    "front_door = False\n",
    "minimise = True\n",
    "add_base_kernel_BO = True"
   ]
  },
  {
   "cell_type": "code",
   "execution_count": 3,
   "id": "1af96fcf-2028-4154-af52-ca94c6de9876",
   "metadata": {},
   "outputs": [],
   "source": [
    "# Cluster creation\n",
    "cluster = SLURMCluster(\n",
    "    n_workers=0,\n",
    "    memory=\"32GB\",\n",
    "    processes=1,\n",
    "    cores=1,\n",
    "    scheduler_options={\n",
    "        \"dashboard_address\": \":11111\",\n",
    "        \"allowed_failures\": 10\n",
    "    },\n",
    "    job_cpu=1,\n",
    "    walltime=\"3:0:0\",\n",
    "    \n",
    "    job_extra_directives = [\"-p medium,fast,cpu\"],\n",
    ")\n",
    "cluster.adapt(minimum=0, maximum=200)\n",
    "client = Client(cluster)"
   ]
  },
  {
   "cell_type": "code",
   "execution_count": 4,
   "id": "512e36b3-47b6-4200-bb66-ce2050429a25",
   "metadata": {},
   "outputs": [],
   "source": [
    "# Submitting jobs\n",
    "futures = []\n",
    "for seed in range(ntrial):\n",
    "        f = client.submit(file.main,\n",
    "                              seed,\n",
    "                              n,n_int,\n",
    "                              niter = niter,\n",
    "                              front_door = front_door,\n",
    "                              minimise = minimise,\n",
    "                              add_base_kernel_BO = add_base_kernel_BO\n",
    "                             )\n",
    "        futures += [f]"
   ]
  },
  {
   "cell_type": "code",
   "execution_count": 5,
   "id": "64a8b8eb-8a5b-47d5-896f-65cef808f05d",
   "metadata": {},
   "outputs": [
    {
     "data": {
      "text/plain": [
       "[<Future: pending, key: main-ad8f001b0f48830a5f7231448115fc8b>,\n",
       " <Future: pending, key: main-95ad53ed79307461d7e30b3c47d4f539>,\n",
       " <Future: pending, key: main-f861b211bbd884ca8dc845a73d35c7a9>,\n",
       " <Future: pending, key: main-b3db7f8e81655ed2c2c448dac1ad10b5>,\n",
       " <Future: pending, key: main-4724af6a562461304aa6c69f5dfbe745>,\n",
       " <Future: pending, key: main-224a6c75fd737cf4cf9462d91e6b8a30>,\n",
       " <Future: pending, key: main-3855d8f7f316984d4a2b86c4a080db6d>,\n",
       " <Future: pending, key: main-675806a8a43dd7cc2fa5594490508002>,\n",
       " <Future: pending, key: main-557216e868a1e76fbcb74be997abe289>,\n",
       " <Future: pending, key: main-dd7d610d557b75e3b5db5c32e627b8a8>,\n",
       " <Future: pending, key: main-f0161b40377f1f9083879818505d8106>,\n",
       " <Future: pending, key: main-a06de8f0fd574ea57c8bd38a8229fe7a>,\n",
       " <Future: pending, key: main-0348a79fd5631e767e2b68015d42db4a>,\n",
       " <Future: pending, key: main-52f2698928aa3e7a41251edfc76bd8f5>,\n",
       " <Future: pending, key: main-aef49593e47ae8d1fbaf43a890deca02>,\n",
       " <Future: pending, key: main-c8db2a22c6eb04d7b8c99ab405cf76b2>,\n",
       " <Future: pending, key: main-d43466b626ec208bacb4fad3358a7e71>,\n",
       " <Future: pending, key: main-8b804ece4e08c81db856e37fd9459dc4>,\n",
       " <Future: pending, key: main-c632515ba0645441067b9888097a17e2>,\n",
       " <Future: pending, key: main-556ea666f7ad9d3b82ba7dc5ec4c37ab>,\n",
       " <Future: pending, key: main-94ce899b73f07ea9d0b2e951573c3814>,\n",
       " <Future: pending, key: main-c89ae65fe5164f97dc3238ea19374d2c>,\n",
       " <Future: pending, key: main-54a551672be256166bd1a1276c644ed6>,\n",
       " <Future: pending, key: main-86ead819b17773c753f84028504cd501>,\n",
       " <Future: pending, key: main-2ce7be441c83a1c74a328ba8ab79369e>,\n",
       " <Future: pending, key: main-4dba68f0d3837bcd80ea66e7f1c5e5ca>,\n",
       " <Future: pending, key: main-46c6eab1408dcd9464875a843323219a>,\n",
       " <Future: pending, key: main-3deaac044483f69e5aa90cb9d625fa21>,\n",
       " <Future: pending, key: main-8c3494577539ff091ed4f193c996bf87>,\n",
       " <Future: pending, key: main-4e98d4c329623ca90d77a07c6e5e0013>,\n",
       " <Future: pending, key: main-6264ec8bf4deb6cae3daa8b437ea2959>,\n",
       " <Future: pending, key: main-6c4de0b2f34e22372d72ce101c3942c7>,\n",
       " <Future: pending, key: main-031e9a16c8b1dfcee1caa36382b3c691>,\n",
       " <Future: pending, key: main-e1c44377b05928d4cbb7aa914caaab8f>,\n",
       " <Future: pending, key: main-9b451fa8a273fd8875ce87f378e7efa0>,\n",
       " <Future: pending, key: main-dbb6d9838facebd8623e0547b18decfb>,\n",
       " <Future: pending, key: main-47b18f432304e7b993533c8f805dfe65>,\n",
       " <Future: pending, key: main-06d3c59f896141e7f1455ed76d8eae42>,\n",
       " <Future: pending, key: main-c15ed53914834c1ccbafc016eea05c69>,\n",
       " <Future: pending, key: main-b7b20ef035dfd7d8f15bf2d3ed3cf9cc>,\n",
       " <Future: pending, key: main-c9743ad83ececde5802e81cfda789e01>,\n",
       " <Future: pending, key: main-f45badfdac97377f6393c38053925c82>,\n",
       " <Future: pending, key: main-6098ecda2db44e13a8d5c8fa070ac7f1>,\n",
       " <Future: pending, key: main-2a6901a12656a5a6175f851e14ff2044>,\n",
       " <Future: pending, key: main-aebaafb93ca41f827902f42bf9a4987e>,\n",
       " <Future: pending, key: main-757e7c97768a3fc9c05d9cc72cdf487a>,\n",
       " <Future: pending, key: main-9460dcc2fb7e83c33efb2460c5dfe3d8>,\n",
       " <Future: pending, key: main-b96b95877ffd53bff5da927c85a0c1e3>,\n",
       " <Future: pending, key: main-591a3ae77a96d85ab37c7239fc06e96a>,\n",
       " <Future: pending, key: main-a3aa55c4e128b9074140a428530d0247>,\n",
       " <Future: pending, key: main-d44bf07d13ebdf83cb2274cfc609fb1b>,\n",
       " <Future: pending, key: main-9574f511fe105d82bcccb7d8b91db6bf>,\n",
       " <Future: pending, key: main-32905177d4305a22e31fc06eb941dfbe>,\n",
       " <Future: pending, key: main-d38720440587308e8b8d49c227a2bfbb>,\n",
       " <Future: pending, key: main-8f18652e4af1a0af433cbf13e3c26a0f>,\n",
       " <Future: pending, key: main-f342bdecb28dcb8f0709ad78f1eb87ed>,\n",
       " <Future: pending, key: main-7e37194d66abc1cb325b46d3a5b50e52>,\n",
       " <Future: pending, key: main-a0d00b1c75002d54504b2c6adbdab2b8>,\n",
       " <Future: pending, key: main-0dc3ea7e73ccbb89a6b3a4a409f329fd>,\n",
       " <Future: pending, key: main-4e1a1d995d1e534fba82bce5f559306e>,\n",
       " <Future: pending, key: main-d843c6c4028fc7d8ebcc4d08237ab8ab>,\n",
       " <Future: pending, key: main-33c8f655652024fec0b5add6d49a5e14>,\n",
       " <Future: pending, key: main-55f53964b6ad0b5414fe87dca7d1bff5>,\n",
       " <Future: pending, key: main-d57c66726fadc97051aac0721201eb43>,\n",
       " <Future: pending, key: main-7c3bbf22d0046b53616578f0b8c7d679>,\n",
       " <Future: pending, key: main-a92ac5d1654b2e8c174e66025df5f6cf>,\n",
       " <Future: pending, key: main-d8d072685ccc07605f96d46a0b39f9c0>,\n",
       " <Future: pending, key: main-25f6c545845e6c1727421ad90145eebc>,\n",
       " <Future: pending, key: main-3b92ef57a647815d2914098303945b2f>,\n",
       " <Future: pending, key: main-b2625a1830f7b641a1156065101c2656>,\n",
       " <Future: pending, key: main-4c37742ed1e8536696bbb9c7c2089f31>,\n",
       " <Future: pending, key: main-d8656e566bc03d3a0c387ef1e9dedef0>,\n",
       " <Future: pending, key: main-09f2be9a1da261b1fec059808d53c0a5>,\n",
       " <Future: pending, key: main-1ff0fc8db9acaa04ddb8634542bf074c>,\n",
       " <Future: pending, key: main-56186fa5c325642194f8871a47550e14>,\n",
       " <Future: pending, key: main-5a38daf1cd32de3b1d00549cd3ccd2b6>,\n",
       " <Future: pending, key: main-3abf602ab488dabc9a64ae907dc268c2>,\n",
       " <Future: pending, key: main-ddfac1c51dbd664d4e8c330a748071d6>,\n",
       " <Future: pending, key: main-5567eff3198bb309b51c79bee58802bc>,\n",
       " <Future: pending, key: main-81374d63148e6e940562d7e9e0e0fb94>,\n",
       " <Future: pending, key: main-203f740ae43afe6a32a4ff0906af23cd>,\n",
       " <Future: pending, key: main-6a2bb8f6877c646848a7c4a7d4b946af>,\n",
       " <Future: pending, key: main-fadc9d0bc222677d522186efbbce903c>,\n",
       " <Future: pending, key: main-f909c0f119fd44e0c5f5c7eb38e111f8>,\n",
       " <Future: pending, key: main-7057b0776476e57bd2ca5d63572114bc>,\n",
       " <Future: pending, key: main-f54175c7f9e37455dede8b507130e931>,\n",
       " <Future: pending, key: main-fc9740f16fff1dc02e9a55674d0cd1c9>,\n",
       " <Future: pending, key: main-6353ad874d0de9d600f16322af1b372a>,\n",
       " <Future: pending, key: main-a1d156f596815220a5904bc65349da89>,\n",
       " <Future: pending, key: main-9b5820a53a740f06187142029de3f109>,\n",
       " <Future: pending, key: main-4eccdbeb4bd5114f19fabd6ee4d5ef3c>,\n",
       " <Future: pending, key: main-a76a6805ed70753b18eadc2f217eac05>,\n",
       " <Future: pending, key: main-6d80990f0779cb603273f74f5f0e5229>,\n",
       " <Future: pending, key: main-14d4e136b6eb2a28b299971bd4cdcbda>,\n",
       " <Future: pending, key: main-971c5c570d3d407083e002152a595ddb>,\n",
       " <Future: pending, key: main-f2cd41fc87485ac870c9c0a1c727ecdd>,\n",
       " <Future: pending, key: main-b196098c5c589f6c563dd2c349aee49f>,\n",
       " <Future: pending, key: main-6c779255d606a05e8715eef2c7ab88b0>,\n",
       " <Future: pending, key: main-5867921eea7cc11e9550e318f575dc82>,\n",
       " <Future: pending, key: main-1a54c6287725b99e8da5931c52ecfe45>]"
      ]
     },
     "execution_count": 5,
     "metadata": {},
     "output_type": "execute_result"
    }
   ],
   "source": [
    "futures"
   ]
  },
  {
   "cell_type": "code",
   "execution_count": 6,
   "id": "99fb39c7-f5c1-4d44-92df-b1a94309a76a",
   "metadata": {},
   "outputs": [],
   "source": [
    "# Getting results\n",
    "results = client.gather(futures)"
   ]
  },
  {
   "cell_type": "code",
   "execution_count": 7,
   "id": "2aa104ec-b8bc-406e-a690-ccc6a03a8064",
   "metadata": {},
   "outputs": [],
   "source": [
    "# Closing client\n",
    "client.close()\n",
    "cluster.close()"
   ]
  },
  {
   "cell_type": "code",
   "execution_count": 15,
   "id": "ae837551-8964-4c04-9432-4c2b482d38d4",
   "metadata": {},
   "outputs": [
    {
     "data": {
      "text/plain": [
       "tensor(0.9600)"
      ]
     },
     "execution_count": 15,
     "metadata": {},
     "output_type": "execute_result"
    }
   ],
   "source": [
    "mean = torch.zeros(ntrial)\n",
    "se = torch.zeros(ntrial)\n",
    "fracs = torch.zeros((ntrial,101))\n",
    "for i in range(ntrial):\n",
    "    mean[i] = results[i]['post_moments'][0]\n",
    "    se[i] =  results[i]['post_moments'][1]**0.5\n",
    "    fracs[i] =  results[i]['post_levels']\n",
    "((0 <= (mean + 1.965*se) ) * (0 >= (mean - 1.965*se))).float().mean()"
   ]
  },
  {
   "cell_type": "code",
   "execution_count": 16,
   "id": "1a47f382-b6be-4a51-9475-95201d028e4e",
   "metadata": {},
   "outputs": [
    {
     "data": {
      "text/plain": [
       "tensor([0.8400, 0.8900, 0.9600])"
      ]
     },
     "execution_count": 16,
     "metadata": {},
     "output_type": "execute_result"
    }
   ],
   "source": [
    "fracs.mean(0)[[80,90,95]]"
   ]
  },
  {
   "cell_type": "code",
   "execution_count": 17,
   "id": "40c18b22-ebee-4321-87f4-ee8f2273b4bc",
   "metadata": {},
   "outputs": [
    {
     "data": {
      "text/plain": [
       "[<matplotlib.lines.Line2D at 0x7fa0002791c0>]"
      ]
     },
     "execution_count": 17,
     "metadata": {},
     "output_type": "execute_result"
    },
    {
     "data": {
      "image/png": "[encoded data removed]",
      "text/plain": [
       "<Figure size 640x480 with 1 Axes>"
      ]
     },
     "metadata": {},
     "output_type": "display_data"
    }
   ],
   "source": [
    "import matplotlib.pyplot as plt\n",
    "import torch\n",
    "plt.plot((torch.linspace(0,1,101)-fracs.mean(0)).abs())"
   ]
  },
  {
   "cell_type": "code",
   "execution_count": 20,
   "id": "b684b7f1-68f6-43f1-b480-7a08fc025588",
   "metadata": {},
   "outputs": [
    {
     "data": {
      "text/plain": [
       "(tensor(0.1249), tensor(0.2123))"
      ]
     },
     "execution_count": 20,
     "metadata": {},
     "output_type": "execute_result"
    },
    {
     "data": {
      "image/png": "[encoded data removed]",
      "text/plain": [
       "<Figure size 640x480 with 1 Axes>"
      ]
     },
     "metadata": {},
     "output_type": "display_data"
    }
   ],
   "source": [
    "import matplotlib.pyplot as plt\n",
    "plt.hist(mean, bins = 20);\n",
    "mean.abs().mean(), mean.abs().std()"
   ]
  },
  {
   "cell_type": "code",
   "execution_count": 12,
   "id": "e7eccd97-9915-4715-ae3c-23d065c72172",
   "metadata": {},
   "outputs": [],
   "source": [
    "# Saving results\n",
    "torch.save(obj = results,\n",
    "           f = \"simulation_bayesimp_ntrial={0}_n={1}_frontdoor={2}_discrete.pt\".format(ntrial,\n",
    "                                                                                           n,\n",
    "                                                                                           front_door,\n",
    "                                                                                           minimise,\n",
    "                                                                                           add_base_kernel_BO)\n",
    "          )"
   ]
  }
 ],
 "metadata": {
  "kernelspec": {
   "display_name": "Python 3 (ipykernel)",
   "language": "python",
   "name": "python3"
  },
  "language_info": {
   "codemirror_mode": {
    "name": "ipython",
    "version": 3
   },
   "file_extension": ".py",
   "mimetype": "text/x-python",
   "name": "python",
   "nbconvert_exporter": "python",
   "pygments_lexer": "ipython3",
   "version": "3.12.5"
  }
 },
 "nbformat": 4,
 "nbformat_minor": 5
}
