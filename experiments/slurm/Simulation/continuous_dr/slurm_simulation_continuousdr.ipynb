{
 "cells": [
  {
   "cell_type": "code",
   "execution_count": 1,
   "id": "ffd17711-8211-4a6c-a143-bfd23ca70ed6",
   "metadata": {},
   "outputs": [],
   "source": [
    "# Imports\n",
    "import torch\n",
    "import os \n",
    "import sys\n",
    "from dask_jobqueue import SLURMCluster\n",
    "from distributed import Client\n",
    "from pathlib import Path\n",
    "\n",
    "import do_simulation_continuousdr as file"
   ]
  },
  {
   "cell_type": "code",
   "execution_count": 2,
   "id": "fbc39ade-9681-449d-bda2-588ad33554c9",
   "metadata": {},
   "outputs": [],
   "source": [
    "# Args setup\n",
    "ntrial = 50\n",
    "n = 100\n",
    "n_int = 100\n",
    "front_door = False"
   ]
  },
  {
   "cell_type": "code",
   "execution_count": 3,
   "id": "1af96fcf-2028-4154-af52-ca94c6de9876",
   "metadata": {},
   "outputs": [],
   "source": [
    "# Cluster creation\n",
    "cluster = SLURMCluster(\n",
    "    n_workers=0,\n",
    "    memory=\"16GB\",\n",
    "    processes=1,\n",
    "    cores=1,\n",
    "    scheduler_options={\n",
    "        \"dashboard_address\": \":11111\",\n",
    "        \"allowed_failures\": 10\n",
    "    },\n",
    "    job_cpu=1,\n",
    "    walltime=\"3:0:0\",\n",
    "    \n",
    "    job_extra_directives = [\"-p medium,fast,cpu\"],\n",
    ")\n",
    "cluster.adapt(minimum=0, maximum=200)\n",
    "client = Client(cluster)"
   ]
  },
  {
   "cell_type": "code",
   "execution_count": 4,
   "id": "512e36b3-47b6-4200-bb66-ce2050429a25",
   "metadata": {},
   "outputs": [],
   "source": [
    "# Submitting jobs\n",
    "futures = []\n",
    "for seed in range(ntrial):\n",
    "        f = client.submit(file.main,\n",
    "                              seed,\n",
    "                              n,n_int,\n",
    "                              front_door = front_door,\n",
    "                             )\n",
    "        futures += [f]"
   ]
  },
  {
   "cell_type": "code",
   "execution_count": 5,
   "id": "8445a1bd-d2e2-4ed4-8f03-e2f3d035ad1d",
   "metadata": {},
   "outputs": [
    {
     "data": {
      "text/plain": [
       "[<Future: pending, key: main-d191e9514835f74d056d7a5e921e553e>,\n",
       " <Future: pending, key: main-461ad8fcf53601b76c8904e3f792e7ce>,\n",
       " <Future: pending, key: main-7580b3e980e9a7b65c774529b140fa1c>,\n",
       " <Future: pending, key: main-8cc3342d3b8ee7988ac288c383d19e6e>,\n",
       " <Future: pending, key: main-bb6743a2ab7e98df9938c3d647ae24bb>,\n",
       " <Future: pending, key: main-67542f5beb72cd04ea0cb883054dbc2b>,\n",
       " <Future: pending, key: main-717e34581460525c19430cdb653ebd83>,\n",
       " <Future: pending, key: main-17adf27ebb9b069151c21eb0a246936d>,\n",
       " <Future: pending, key: main-d559c871793239969f7f79a8bd0f6682>,\n",
       " <Future: pending, key: main-a089a7cd7fd26bb230a95acb2873b7e3>,\n",
       " <Future: pending, key: main-624ed8b95940bd454e34c23650812081>,\n",
       " <Future: pending, key: main-805e49e53baccdaec346bf03068d3894>,\n",
       " <Future: pending, key: main-237c17e5525ff71d242aaa150e9383cb>,\n",
       " <Future: pending, key: main-78c586434ab3fad2bfe502183e8064e2>,\n",
       " <Future: pending, key: main-06cf2f4c64e85880c4f1e49dae1e1258>,\n",
       " <Future: pending, key: main-1cbbdafee0af017d868b6c960618bbc0>,\n",
       " <Future: pending, key: main-10cd72565d29b13de64c494c68232206>,\n",
       " <Future: pending, key: main-e0b4eca558a8b38b84891d9760b14fad>,\n",
       " <Future: pending, key: main-718f9f86278cac9f3a2bdde3ff1e7104>,\n",
       " <Future: pending, key: main-fca1b02f7a2f10649691c68c9404e8d2>,\n",
       " <Future: pending, key: main-fa3fb4b9bdb7afec78a9a58a12bf0ded>,\n",
       " <Future: pending, key: main-db8d4f2157deac58c747890ae334aae4>,\n",
       " <Future: pending, key: main-6f5f895e27563d764652bd548f133d74>,\n",
       " <Future: pending, key: main-8ffeaed69368ee53ae91797732d4714b>,\n",
       " <Future: pending, key: main-ebc4185935b5926f4ef44ce6b44e4d0f>,\n",
       " <Future: pending, key: main-219afed8850afd30d003977f140a59d3>,\n",
       " <Future: pending, key: main-063320bef216e95350aa0f59013ca037>,\n",
       " <Future: pending, key: main-d94ffc03dea3c999e41aea4bf7f8876e>,\n",
       " <Future: pending, key: main-ecaa908deff7210fd37711d6a04b5868>,\n",
       " <Future: pending, key: main-d7d0e96639097bfd1ea6c9f167f8c142>,\n",
       " <Future: pending, key: main-fc6d12cf6ed68b456d98cfaded659f0c>,\n",
       " <Future: pending, key: main-ef31ffaf1211712b43dffebca1bb23d4>,\n",
       " <Future: pending, key: main-4e165a91cd4ecb91a333ede28d9ed721>,\n",
       " <Future: pending, key: main-ba148efd981bcf0d2b1f6fbb305c83b9>,\n",
       " <Future: pending, key: main-9678ac5c0eb5ca6034e07fb9e3ff143a>,\n",
       " <Future: pending, key: main-fff8af5a4acd08221112821b4e8a07b4>,\n",
       " <Future: pending, key: main-75f7a76ca8da8c4b8149bd1786b2489a>,\n",
       " <Future: pending, key: main-9371c59a50aabb651d3a9bb10a924ba5>,\n",
       " <Future: pending, key: main-2a5f71806593d5c8a9c48d37e1694344>,\n",
       " <Future: pending, key: main-7db0f10045b22052b173921cccedc288>,\n",
       " <Future: pending, key: main-8891879834fd81b1814cc629b9db8118>,\n",
       " <Future: pending, key: main-e2b426130575ca6a72e4ce3f7ba3d690>,\n",
       " <Future: pending, key: main-0f5b2e5b8c4b9715939e2699dc4ae678>,\n",
       " <Future: pending, key: main-ed7e2a2b8e7ad6f44f723c0b198b2109>,\n",
       " <Future: pending, key: main-eda124b58b246924cd187fcbcfaa3a6a>,\n",
       " <Future: pending, key: main-f5256e03833e05159f1a1ebbc14ba2ff>,\n",
       " <Future: pending, key: main-0fa1f2d519425178926bb81ff8a8bf5e>,\n",
       " <Future: pending, key: main-138d7a16cbe5bd67daabd8884986cfeb>,\n",
       " <Future: pending, key: main-61320223ca52166f2cb91e7a78deb9bb>,\n",
       " <Future: pending, key: main-807b92e2d129fa38c2ee0ca9b627af5e>]"
      ]
     },
     "execution_count": 5,
     "metadata": {},
     "output_type": "execute_result"
    }
   ],
   "source": [
    "futures"
   ]
  },
  {
   "cell_type": "code",
   "execution_count": 6,
   "id": "99fb39c7-f5c1-4d44-92df-b1a94309a76a",
   "metadata": {},
   "outputs": [],
   "source": [
    "# Getting results\n",
    "results = client.gather(futures)"
   ]
  },
  {
   "cell_type": "code",
   "execution_count": 7,
   "id": "2aa104ec-b8bc-406e-a690-ccc6a03a8064",
   "metadata": {},
   "outputs": [],
   "source": [
    "# Closing client\n",
    "client.close()\n",
    "cluster.close()"
   ]
  },
  {
   "cell_type": "code",
   "execution_count": 8,
   "id": "e7eccd97-9915-4715-ae3c-23d065c72172",
   "metadata": {},
   "outputs": [],
   "source": [
    "# Saving results\n",
    "torch.save(obj = results,\n",
    "           f = \"simulation_continuousdr_ntrial={0}_n={1}_frontdoor={2}.pt\".format(ntrial,n, front_door)\n",
    "          )"
   ]
  }
 ],
 "metadata": {
  "kernelspec": {
   "display_name": "Python 3 (ipykernel)",
   "language": "python",
   "name": "python3"
  },
  "language_info": {
   "codemirror_mode": {
    "name": "ipython",
    "version": 3
   },
   "file_extension": ".py",
   "mimetype": "text/x-python",
   "name": "python",
   "nbconvert_exporter": "python",
   "pygments_lexer": "ipython3",
   "version": "3.12.5"
  }
 },
 "nbformat": 4,
 "nbformat_minor": 5
}
