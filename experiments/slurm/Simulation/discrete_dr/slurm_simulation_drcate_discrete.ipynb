{
 "cells": [
  {
   "cell_type": "code",
   "execution_count": 1,
   "id": "ffd17711-8211-4a6c-a143-bfd23ca70ed6",
   "metadata": {},
   "outputs": [],
   "source": [
    "# Imports\n",
    "import torch\n",
    "import os \n",
    "import sys\n",
    "from dask_jobqueue import SLURMCluster\n",
    "from distributed import Client\n",
    "from pathlib import Path\n",
    "\n",
    "import do_simulation_drcate_discrete as file"
   ]
  },
  {
   "cell_type": "code",
   "execution_count": 2,
   "id": "fbc39ade-9681-449d-bda2-588ad33554c9",
   "metadata": {},
   "outputs": [],
   "source": [
    "# Args setup\n",
    "ntrial = 100\n",
    "n = 100\n",
    "n_int = 2"
   ]
  },
  {
   "cell_type": "code",
   "execution_count": 3,
   "id": "1af96fcf-2028-4154-af52-ca94c6de9876",
   "metadata": {},
   "outputs": [
    {
     "name": "stderr",
     "output_type": "stream",
     "text": [
      "/nfs/ghome/live/danceh/.local/mambaforge/envs/causalgp/lib/python3.12/site-packages/distributed/node.py:187: UserWarning: Port 11111 is already in use.\n",
      "Perhaps you already have a cluster running?\n",
      "Hosting the HTTP server on port 42067 instead\n",
      "  warnings.warn(\n"
     ]
    }
   ],
   "source": [
    "# Cluster creation\n",
    "cluster = SLURMCluster(\n",
    "    n_workers=0,\n",
    "    memory=\"16GB\",\n",
    "    processes=1,\n",
    "    cores=1,\n",
    "    scheduler_options={\n",
    "        \"dashboard_address\": \":11111\",\n",
    "        \"allowed_failures\": 10\n",
    "    },\n",
    "    job_cpu=1,\n",
    "    walltime=\"3:0:0\",\n",
    "    \n",
    "    job_extra_directives = [\"-p medium,fast,cpu\"],\n",
    ")\n",
    "cluster.adapt(minimum=0, maximum=200)\n",
    "client = Client(cluster)"
   ]
  },
  {
   "cell_type": "code",
   "execution_count": 4,
   "id": "512e36b3-47b6-4200-bb66-ce2050429a25",
   "metadata": {},
   "outputs": [],
   "source": [
    "# Submitting jobs\n",
    "futures = []\n",
    "for seed in range(ntrial):\n",
    "        f = client.submit(file.main,\n",
    "                              seed,\n",
    "                              n,n_int,\n",
    "                              )\n",
    "        futures += [f]"
   ]
  },
  {
   "cell_type": "code",
   "execution_count": 5,
   "id": "8445a1bd-d2e2-4ed4-8f03-e2f3d035ad1d",
   "metadata": {},
   "outputs": [
    {
     "data": {
      "text/plain": [
       "[<Future: pending, key: main-23c9f4c73d0f5d40e15e6528e166c49e>,\n",
       " <Future: pending, key: main-4e3bdb7ca29427fa9342c3de40685453>,\n",
       " <Future: pending, key: main-6549af9da00a50cf38a923618a6f627d>,\n",
       " <Future: pending, key: main-1f7de92dd68d83d5b89d5a6d1e4d6513>,\n",
       " <Future: pending, key: main-078e8bb39257fee4736ab6a76d1ad850>,\n",
       " <Future: pending, key: main-574fb1d078d96d61037c08cdf700b64d>,\n",
       " <Future: pending, key: main-612e9614a8be18f2fd3341feb2f78f54>,\n",
       " <Future: pending, key: main-21077a2cf4809b91fe5f64a6da93b210>,\n",
       " <Future: pending, key: main-a09602a3f8d5fe6344a63ddb84c89c10>,\n",
       " <Future: pending, key: main-450d3889c2f1cb15e1a34c54fe59b71a>,\n",
       " <Future: pending, key: main-be0007435040a433eaaf7d97297cac65>,\n",
       " <Future: pending, key: main-41bbfd325a5805f4ff42893d8e6002e5>,\n",
       " <Future: pending, key: main-7862bf48a11f74c95344b682c56df31a>,\n",
       " <Future: pending, key: main-d340f36423ca67928c6131d77d95518d>,\n",
       " <Future: pending, key: main-e4a9d1fb944d728e451cff9130e4eb5e>,\n",
       " <Future: pending, key: main-a8eb518b21478c1ff2204e99f6913c9d>,\n",
       " <Future: pending, key: main-ebaeb570ac64794eb9453b52579a4e8f>,\n",
       " <Future: pending, key: main-ff49eb5f8c703473ed47c256f8ed6caf>,\n",
       " <Future: pending, key: main-0f7b6b66273b62bf33c7dd716fae4766>,\n",
       " <Future: pending, key: main-5294b45eee7799db2caf21f7dcdd8785>,\n",
       " <Future: pending, key: main-933dbf86d4cfba0094f691a745ced322>,\n",
       " <Future: pending, key: main-c050f06bb57339b12f6876d63afbe591>,\n",
       " <Future: pending, key: main-a0efe866ae1b197a1dcd7084c4a28723>,\n",
       " <Future: pending, key: main-8e4706073ba686fd72fba3945edad53b>,\n",
       " <Future: pending, key: main-77f2d90a1be6ea5e20df8a63fd2d046b>,\n",
       " <Future: pending, key: main-157183ef72e0b868cfaf98ebaa1bd3dd>,\n",
       " <Future: pending, key: main-b162ddbb3fb4b89e031f996139c217cc>,\n",
       " <Future: pending, key: main-47f7a054328ff1b3d9fb2e3b76691c26>,\n",
       " <Future: pending, key: main-85e135264f1338024ee40910ed9bb149>,\n",
       " <Future: pending, key: main-3068fd07877fa2aa434312e399eb54fa>,\n",
       " <Future: pending, key: main-a0dfbeedc03dab015fab0e3b59c04ef1>,\n",
       " <Future: pending, key: main-e17bd7a808e54d376b7b01786b8a0873>,\n",
       " <Future: pending, key: main-0fb0bc03a54805180d811a14b2cca7ba>,\n",
       " <Future: pending, key: main-b51e776aa757f5649801da46eb49b554>,\n",
       " <Future: pending, key: main-dc4f43db6157ff7864fcaa0d1ea846e9>,\n",
       " <Future: pending, key: main-daf0fefbc7f2a52c17e7f5cb023e0c37>,\n",
       " <Future: pending, key: main-d2df969de9c414840f40207dabb832df>,\n",
       " <Future: pending, key: main-38cb181edf3d682a2d786d8422fb31b3>,\n",
       " <Future: pending, key: main-c066a27289d3b250968fc2d327c27b66>,\n",
       " <Future: pending, key: main-eaebca06d0c65cf4dc7c33c9453fdc79>,\n",
       " <Future: pending, key: main-0e9e85406811dbe6437e3eb06b4f9b50>,\n",
       " <Future: pending, key: main-18143315beaf6352082511402c1e844d>,\n",
       " <Future: pending, key: main-12c31d9f6711ae971d8566f432cc61bd>,\n",
       " <Future: pending, key: main-ada1eb922d60cac3030cb97f34287dc5>,\n",
       " <Future: pending, key: main-b56b938fe4033f2e988db67ad2cfe9d3>,\n",
       " <Future: pending, key: main-1a7986aff83067ab69e1081f66fef2d8>,\n",
       " <Future: pending, key: main-6a913e33cd4cc82ce097f84fe4dff8ff>,\n",
       " <Future: pending, key: main-8f82bd77f3a855d115b0c533a8c72833>,\n",
       " <Future: pending, key: main-effb6decf792b02461d7e332c4432b20>,\n",
       " <Future: pending, key: main-d21ff5cd71a292e7d31ffdfa6e14814d>,\n",
       " <Future: pending, key: main-f3316e6ddfc83295f6ecb2839b4634fb>,\n",
       " <Future: pending, key: main-a2433d6fc2841518da96c34da6797995>,\n",
       " <Future: pending, key: main-20f5f55a0854fc6699b90489e3f8eb0c>,\n",
       " <Future: pending, key: main-e2c2342f600a3c16ed4df01b6e45e506>,\n",
       " <Future: pending, key: main-ac605b603a60ec88a63918a0e7bdd637>,\n",
       " <Future: pending, key: main-48011ba552555260fc31d4ad5fe4e210>,\n",
       " <Future: pending, key: main-6796daf5e3373daf4bf5b18aa2f67eef>,\n",
       " <Future: pending, key: main-b63dd44e3594a83bc3830b9ff36c847c>,\n",
       " <Future: pending, key: main-4ca27de238fd6e4f4c96166453ab9f1d>,\n",
       " <Future: pending, key: main-94d0b87a2c62a4de414412906b65299e>,\n",
       " <Future: pending, key: main-3ebfd6bc770763069106741a80194380>,\n",
       " <Future: pending, key: main-4fe88109e097e10ea22e33dc5103653e>,\n",
       " <Future: pending, key: main-c4b020c7b9225b6371c8c37c376b7d20>,\n",
       " <Future: pending, key: main-163b1317732a2f1fab660a3b18aa1dca>,\n",
       " <Future: pending, key: main-567d92ed5797292f1f137d84f9c234e8>,\n",
       " <Future: pending, key: main-a79f50ec8f7dfe9d76dbf6b6cfa018d0>,\n",
       " <Future: pending, key: main-4756abdac6a2bde81878b1ce88bb3163>,\n",
       " <Future: pending, key: main-79b3df67ed3ed89519ad23be0f4e99cd>,\n",
       " <Future: pending, key: main-557a1952a4adfd71c87edfe7dc7edb44>,\n",
       " <Future: pending, key: main-66d64b9073d7c87f073bf9516c2f18d3>,\n",
       " <Future: pending, key: main-82d90fb72e20af200aeb44ba50a31da8>,\n",
       " <Future: pending, key: main-1421a695af26a73a8640af55e50eb491>,\n",
       " <Future: pending, key: main-3139221eef2bf85e5a1c619fd7487a25>,\n",
       " <Future: pending, key: main-42cd420efe7e22a7c9a9712c12f60eba>,\n",
       " <Future: pending, key: main-af48869f87656b0f47a05ed62f0bfa1d>,\n",
       " <Future: pending, key: main-d488452d5851fed9ffdefe79ac7d5086>,\n",
       " <Future: pending, key: main-99e27e452d2eb91f8581c2998520858f>,\n",
       " <Future: pending, key: main-413f6adc5102ffb4aa9e451a2b1783b3>,\n",
       " <Future: pending, key: main-d4d08714943d1ea5572c9535a4723a9b>,\n",
       " <Future: pending, key: main-49dd97dc22077034095d4edba753465b>,\n",
       " <Future: pending, key: main-d7493d19bdb18181e33dab0f8512c8e0>,\n",
       " <Future: pending, key: main-c921855e58ce3d8ebeeb300c5ededf25>,\n",
       " <Future: pending, key: main-f9ae18da5ba6b5c400748b41f799fb6a>,\n",
       " <Future: pending, key: main-a1cd8a424efa77b54e79923866f07f18>,\n",
       " <Future: pending, key: main-f504a60a2d0ba8068ea9a0e0566cff2c>,\n",
       " <Future: pending, key: main-d8024cd9a89b3ad38c4e9d36477901a7>,\n",
       " <Future: pending, key: main-9e7db51790574e580d1acab0cf7b9a7c>,\n",
       " <Future: pending, key: main-e56c1ed24f5e64de39b05e57f06457f4>,\n",
       " <Future: pending, key: main-ef5567b9dc4db86185b5f6bb83646ae2>,\n",
       " <Future: pending, key: main-73d531185cb419bd7d842f694d1b7a02>,\n",
       " <Future: pending, key: main-7bb7f90c4f8837be170183bfe6d41b20>,\n",
       " <Future: pending, key: main-ec915596ea2c10c5ab30e41b787b082e>,\n",
       " <Future: pending, key: main-fba9443a955917e61f725e92a3220c35>,\n",
       " <Future: pending, key: main-665d021a31909a7400d3aed4be442ec3>,\n",
       " <Future: pending, key: main-d0cfca8a3ae136533950977d61957c7d>,\n",
       " <Future: pending, key: main-e937d2c44ed9a6e69230c7ed9c2f26f4>,\n",
       " <Future: pending, key: main-7a594448d93f376af133ae83b2898b55>,\n",
       " <Future: pending, key: main-5acc9bc6ffccd30005bade0e9ed554aa>,\n",
       " <Future: pending, key: main-615e77625daad398a23fadddcc2b8db2>,\n",
       " <Future: pending, key: main-5e8b0ca2dd3988b92e91051db91a175d>]"
      ]
     },
     "execution_count": 5,
     "metadata": {},
     "output_type": "execute_result"
    }
   ],
   "source": [
    "futures"
   ]
  },
  {
   "cell_type": "code",
   "execution_count": 6,
   "id": "99fb39c7-f5c1-4d44-92df-b1a94309a76a",
   "metadata": {},
   "outputs": [],
   "source": [
    "# Getting results\n",
    "results = client.gather(futures)"
   ]
  },
  {
   "cell_type": "code",
   "execution_count": 7,
   "id": "2aa104ec-b8bc-406e-a690-ccc6a03a8064",
   "metadata": {},
   "outputs": [],
   "source": [
    "# Closing client\n",
    "client.close()\n",
    "cluster.close()"
   ]
  },
  {
   "cell_type": "code",
   "execution_count": 11,
   "id": "8c438c53-80c4-4cb4-b56b-21bbaa7479b8",
   "metadata": {},
   "outputs": [],
   "source": [
    "mean = torch.zeros(ntrial)\n",
    "se = torch.zeros(ntrial)\n",
    "fracs = torch.zeros((ntrial,101))\n",
    "for i in range(ntrial):\n",
    "    mean[i] = results[i]['post_moments'][0]\n",
    "    fracs[i] =  results[i]['post_levels']"
   ]
  },
  {
   "cell_type": "code",
   "execution_count": 14,
   "id": "dafc8774-230f-4020-aaf8-32fc2d1a0543",
   "metadata": {},
   "outputs": [
    {
     "data": {
      "text/plain": [
       "[<matplotlib.lines.Line2D at 0x7fe2dc3cb500>]"
      ]
     },
     "execution_count": 14,
     "metadata": {},
     "output_type": "execute_result"
    },
    {
     "data": {
      "image/png": "[encoded data removed]",
      "text/plain": [
       "<Figure size 640x480 with 1 Axes>"
      ]
     },
     "metadata": {},
     "output_type": "display_data"
    }
   ],
   "source": [
    "import matplotlib.pyplot as plt\n",
    "import torch\n",
    "plt.plot(torch.linspace(0,1,101),fracs.mean(0))\n",
    "#plt.plot((torch.linspace(0,1,101)-fracs.mean(0)).abs())"
   ]
  },
  {
   "cell_type": "code",
   "execution_count": 17,
   "id": "1c266161-5738-4aa2-98e7-c37c2de99bae",
   "metadata": {},
   "outputs": [
    {
     "data": {
      "text/plain": [
       "tensor([0.7100, 0.8600, 0.9300])"
      ]
     },
     "execution_count": 17,
     "metadata": {},
     "output_type": "execute_result"
    }
   ],
   "source": [
    "fracs.mean(0)[[80,90,95]]"
   ]
  },
  {
   "cell_type": "code",
   "execution_count": 18,
   "id": "5b528c47-3403-4c0e-9aac-344e51645021",
   "metadata": {},
   "outputs": [
    {
     "data": {
      "text/plain": [
       "(tensor(0.6258), tensor(0.4440))"
      ]
     },
     "execution_count": 18,
     "metadata": {},
     "output_type": "execute_result"
    }
   ],
   "source": [
    "mean.abs().mean(),mean.abs().std()"
   ]
  },
  {
   "cell_type": "code",
   "execution_count": null,
   "id": "a090d35f-b9c9-4861-92f0-d12abc406e1b",
   "metadata": {},
   "outputs": [],
   "source": [
    "import matplotlib.pyplot as plt\n",
    "plt.hist(mean, bins = 20);"
   ]
  },
  {
   "cell_type": "code",
   "execution_count": 15,
   "id": "e7eccd97-9915-4715-ae3c-23d065c72172",
   "metadata": {},
   "outputs": [],
   "source": [
    "# Saving results\n",
    "torch.save(obj = results,\n",
    "           f = \"simulation_dr_discrete_ntrial={0}_n={1}.pt\".format(ntrial,n)\n",
    "          )"
   ]
  }
 ],
 "metadata": {
  "kernelspec": {
   "display_name": "Python 3 (ipykernel)",
   "language": "python",
   "name": "python3"
  },
  "language_info": {
   "codemirror_mode": {
    "name": "ipython",
    "version": 3
   },
   "file_extension": ".py",
   "mimetype": "text/x-python",
   "name": "python",
   "nbconvert_exporter": "python",
   "pygments_lexer": "ipython3",
   "version": "3.12.5"
  }
 },
 "nbformat": 4,
 "nbformat_minor": 5
}
