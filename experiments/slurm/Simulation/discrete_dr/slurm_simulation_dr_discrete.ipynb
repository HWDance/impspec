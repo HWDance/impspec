{
 "cells": [
  {
   "cell_type": "code",
   "execution_count": 1,
   "id": "ffd17711-8211-4a6c-a143-bfd23ca70ed6",
   "metadata": {},
   "outputs": [],
   "source": [
    "# Imports\n",
    "import torch\n",
    "import os \n",
    "import sys\n",
    "from dask_jobqueue import SLURMCluster\n",
    "from distributed import Client\n",
    "from pathlib import Path\n",
    "\n",
    "import do_simulation_dr_discrete as file"
   ]
  },
  {
   "cell_type": "code",
   "execution_count": 2,
   "id": "fbc39ade-9681-449d-bda2-588ad33554c9",
   "metadata": {},
   "outputs": [],
   "source": [
    "# Args setup\n",
    "ntrial = 100\n",
    "n = 100\n",
    "n_int = 2"
   ]
  },
  {
   "cell_type": "code",
   "execution_count": 3,
   "id": "1af96fcf-2028-4154-af52-ca94c6de9876",
   "metadata": {},
   "outputs": [],
   "source": [
    "# Cluster creation\n",
    "cluster = SLURMCluster(\n",
    "    n_workers=0,\n",
    "    memory=\"16GB\",\n",
    "    processes=1,\n",
    "    cores=1,\n",
    "    scheduler_options={\n",
    "        \"dashboard_address\": \":11111\",\n",
    "        \"allowed_failures\": 10\n",
    "    },\n",
    "    job_cpu=1,\n",
    "    walltime=\"3:0:0\",\n",
    "    \n",
    "    job_extra_directives = [\"-p medium,fast,cpu\"],\n",
    ")\n",
    "cluster.adapt(minimum=0, maximum=200)\n",
    "client = Client(cluster)"
   ]
  },
  {
   "cell_type": "code",
   "execution_count": 4,
   "id": "512e36b3-47b6-4200-bb66-ce2050429a25",
   "metadata": {},
   "outputs": [],
   "source": [
    "# Submitting jobs\n",
    "futures = []\n",
    "for seed in range(ntrial):\n",
    "        f = client.submit(file.main,\n",
    "                              seed,\n",
    "                              n,n_int,\n",
    "                              )\n",
    "        futures += [f]"
   ]
  },
  {
   "cell_type": "code",
   "execution_count": 5,
   "id": "8445a1bd-d2e2-4ed4-8f03-e2f3d035ad1d",
   "metadata": {},
   "outputs": [
    {
     "data": {
      "text/plain": [
       "[<Future: pending, key: main-516479441a45ff1114baee7fd38cc744>,\n",
       " <Future: pending, key: main-ee295ff080f5fc3cf6733a6e6d3d9551>,\n",
       " <Future: pending, key: main-183b7000d5fbcc43165282be55f7d2a7>,\n",
       " <Future: pending, key: main-f567b6d1408894e1b139c69689004d2c>,\n",
       " <Future: pending, key: main-5eae22e81aadb2019fc401289c62110c>,\n",
       " <Future: pending, key: main-c3d5406d1fe65355fc22bf2c60215017>,\n",
       " <Future: pending, key: main-b804a61552e73ed2119a660b8cee2fe2>,\n",
       " <Future: pending, key: main-957f0fd3ead7d15cb71654483dc1b26e>,\n",
       " <Future: pending, key: main-17d875f547bf465d5aa77072d3c6edd1>,\n",
       " <Future: pending, key: main-af1edd7e53c6071d8bb865770d031077>,\n",
       " <Future: pending, key: main-2fe757f12d478287d2faeb7d2e226f48>,\n",
       " <Future: pending, key: main-ac14cee6f3546c778d86d5792b7a5adc>,\n",
       " <Future: pending, key: main-da57b32e701fcd475bd048e2f66912bd>,\n",
       " <Future: pending, key: main-62d3fc45cc266d5e3143c27dd28e225e>,\n",
       " <Future: pending, key: main-b334d18528a9a7ce2fe5e3a67d2293c3>,\n",
       " <Future: pending, key: main-6632e61366f78ece11db6563599e1d42>,\n",
       " <Future: pending, key: main-b56cccc71b5aed60078e28656a9dd832>,\n",
       " <Future: pending, key: main-fc1b9728c30497fb2fe1cd373fa2964f>,\n",
       " <Future: pending, key: main-6a985ceb63f14968fe95946853da8b19>,\n",
       " <Future: pending, key: main-988dc35f7f3fb634c8327cfd971bde3d>,\n",
       " <Future: pending, key: main-565b773d8b5d53b5ee602bc61daecfea>,\n",
       " <Future: pending, key: main-756bc6519835243ad25ba61c8f32551c>,\n",
       " <Future: pending, key: main-362a4642d1d4c5fdf523115888236793>,\n",
       " <Future: pending, key: main-8608f68db0d66ea5e766c231ce558e64>,\n",
       " <Future: pending, key: main-86863df051c706be862a9dfed6c7a06c>,\n",
       " <Future: pending, key: main-40c4a331f530fde0622f1397594fb417>,\n",
       " <Future: pending, key: main-ef25b10e64107c1c2ac075673939a475>,\n",
       " <Future: pending, key: main-de7d92f966d83280dd008086c438d327>,\n",
       " <Future: pending, key: main-af192dac7309b90b8fac17420e0e73bb>,\n",
       " <Future: pending, key: main-de2ae38ca345690291d51e1bae592eb7>,\n",
       " <Future: pending, key: main-cafe01540bffac2b3f54efd45f8e89aa>,\n",
       " <Future: pending, key: main-d5e2ad9baa87a47bd617f36ad0da9103>,\n",
       " <Future: pending, key: main-864954ef06b71d75f115da38868e861a>,\n",
       " <Future: pending, key: main-645bc4fd07ffffc6dd6d6ad02d1c30a1>,\n",
       " <Future: pending, key: main-9b10a3773e82bd3bb3c1cc8a105bd072>,\n",
       " <Future: pending, key: main-b04f1a30d86836b5a8e8715f16880d5a>,\n",
       " <Future: pending, key: main-4ea27115ea0bd04a0c259802ff0e9b53>,\n",
       " <Future: pending, key: main-70a71956f8b36e3c62904867557dbf0f>,\n",
       " <Future: pending, key: main-d3c7e8aeb2a34b0825223d57aad78006>,\n",
       " <Future: pending, key: main-7da80afcfb6ba926a624613d9660509a>,\n",
       " <Future: pending, key: main-6d3c9595e265e78db3f7c26203b4040a>,\n",
       " <Future: pending, key: main-d94a66914b83369f0c52c0bb956ff379>,\n",
       " <Future: pending, key: main-9da9d16ab583f5deeee23a2f2a925c21>,\n",
       " <Future: pending, key: main-2abedd882d416c46166bd5af06fafa7f>,\n",
       " <Future: pending, key: main-fcea50a45aff14c43dcff507d3e1d205>,\n",
       " <Future: pending, key: main-55335fefde8ede6988a8ddb670eccfc4>,\n",
       " <Future: pending, key: main-d28c8db30d607f206e19e90341fbd498>,\n",
       " <Future: pending, key: main-1d30307d97cb940693e8ebcbf7a1a93b>,\n",
       " <Future: pending, key: main-ab427bf08746ed1ee52956dcb2864330>,\n",
       " <Future: pending, key: main-068ae5ec6396c863b563ad5b08b10de7>,\n",
       " <Future: pending, key: main-29b0609a15fc5dd56cfdf110fc0c7681>,\n",
       " <Future: pending, key: main-b80868a433cce9831e4177d8a5c62a30>,\n",
       " <Future: pending, key: main-293b6f7ebca273284a47abdd096fed53>,\n",
       " <Future: pending, key: main-e03d4667c464e17fd0a9488f8b087dfa>,\n",
       " <Future: pending, key: main-00e3b0af49f03b0d412ef4fdc2f01946>,\n",
       " <Future: pending, key: main-49df0a97b4006a8490b39346e5ac6bf0>,\n",
       " <Future: pending, key: main-030cf761a720dd30825cf7c283c9a3a4>,\n",
       " <Future: pending, key: main-07000e29a7b53476b4c5107d89d3f22b>,\n",
       " <Future: pending, key: main-db0a25e6efd70867074abcde00bb728e>,\n",
       " <Future: pending, key: main-35b21f7af25efeeb4c10a359f9d00451>,\n",
       " <Future: pending, key: main-d0880f05f98a87ee6dd7852fbb76da11>,\n",
       " <Future: pending, key: main-9c2d32a3944caeb023807ccec0412d66>,\n",
       " <Future: pending, key: main-92f8ef0baad3579a6b5ff89a31ead961>,\n",
       " <Future: pending, key: main-e02193fae5170f438e36e0936c0405ce>,\n",
       " <Future: pending, key: main-6fccbf2c6c6009ba24559ea1f3950e2d>,\n",
       " <Future: pending, key: main-11fae012fddf0bdd82f3b781eb750aba>,\n",
       " <Future: pending, key: main-02e58db36cba1480177446a306234f1a>,\n",
       " <Future: pending, key: main-38688f4a0ec0cf273c45135c3273d545>,\n",
       " <Future: pending, key: main-8b01047ed957bbabbb5b9446bfef973e>,\n",
       " <Future: pending, key: main-5d9719b55a9b2cee427479211bd81ecf>,\n",
       " <Future: pending, key: main-91a0ebfbde9e9611fa834a0f2c45c4c9>,\n",
       " <Future: pending, key: main-71f52518edbe0db1fd88ce7aa656edd0>,\n",
       " <Future: pending, key: main-1b71922862b36714ab7cc93b87bf34c8>,\n",
       " <Future: pending, key: main-aa7be2a0b2bb1378ae74073498172878>,\n",
       " <Future: pending, key: main-05cd61268a580dafb61b6af51addc62f>,\n",
       " <Future: pending, key: main-157bc6a2cc27657b1c7947d9f2691544>,\n",
       " <Future: pending, key: main-43e07e5aee6336eaad0f75ab5a66093a>,\n",
       " <Future: pending, key: main-eb77a1388a389f05fd45dc63b3876609>,\n",
       " <Future: pending, key: main-b09cdc12a7a069dcab00ca60fff6448c>,\n",
       " <Future: pending, key: main-e699d104e105b3bba630724e16555316>,\n",
       " <Future: pending, key: main-84b87eeb7538260d12b38492ebf2333f>,\n",
       " <Future: pending, key: main-dd55249487d4ca648518efda270dd495>,\n",
       " <Future: pending, key: main-bf7782864aea58598bbba065a48e02fc>,\n",
       " <Future: pending, key: main-141673973f9be4893b77d0b8f5f3cc0e>,\n",
       " <Future: pending, key: main-618c5648502e31f6850c46a58f681ea3>,\n",
       " <Future: pending, key: main-5509173aa47cd8efa87a79f105086688>,\n",
       " <Future: pending, key: main-fc01d2b2e148e32195caebd018157eda>,\n",
       " <Future: pending, key: main-a2ca269d8f04388c71b63a4c1b18fea3>,\n",
       " <Future: pending, key: main-c42e02a0744e305e18f6dac927c43674>,\n",
       " <Future: pending, key: main-451b2ba99f33ca3eeab0ac9e0189d0b6>,\n",
       " <Future: pending, key: main-97436cd6dcd78293672d89474bbd67d5>,\n",
       " <Future: pending, key: main-022e9b83cc4dc6d4186ef2666b331b47>,\n",
       " <Future: pending, key: main-6dfa092476672f3bb71d911b334a4487>,\n",
       " <Future: pending, key: main-4632aeb540a390407f85f19c47cd35b5>,\n",
       " <Future: pending, key: main-f3cbcd955ec7de891602487a6a8d2f2d>,\n",
       " <Future: pending, key: main-a029d7797687c66a1f489bf25cec8583>,\n",
       " <Future: pending, key: main-22b1ed18999ef971267d0ae2469be3ce>,\n",
       " <Future: pending, key: main-3337c9acf07c321719c45dca15802859>,\n",
       " <Future: pending, key: main-c8bbec8797e02c74498860b36e166f71>,\n",
       " <Future: pending, key: main-460d4b46094d7c9961a1afe567b5a419>]"
      ]
     },
     "execution_count": 5,
     "metadata": {},
     "output_type": "execute_result"
    }
   ],
   "source": [
    "futures"
   ]
  },
  {
   "cell_type": "code",
   "execution_count": 6,
   "id": "99fb39c7-f5c1-4d44-92df-b1a94309a76a",
   "metadata": {},
   "outputs": [],
   "source": [
    "# Getting results\n",
    "results = client.gather(futures)"
   ]
  },
  {
   "cell_type": "code",
   "execution_count": 7,
   "id": "2aa104ec-b8bc-406e-a690-ccc6a03a8064",
   "metadata": {},
   "outputs": [],
   "source": [
    "# Closing client\n",
    "client.close()\n",
    "cluster.close()"
   ]
  },
  {
   "cell_type": "code",
   "execution_count": 8,
   "id": "8c438c53-80c4-4cb4-b56b-21bbaa7479b8",
   "metadata": {},
   "outputs": [
    {
     "data": {
      "text/plain": [
       "tensor(0.9600)"
      ]
     },
     "execution_count": 8,
     "metadata": {},
     "output_type": "execute_result"
    }
   ],
   "source": [
    "mean = torch.zeros(ntrial)\n",
    "se = torch.zeros(ntrial)\n",
    "fracs = torch.zeros((ntrial,101))\n",
    "for i in range(ntrial):\n",
    "    mean[i] = results[i]['post_moments'][0]\n",
    "    se[i] =  results[i]['post_moments'][1]**0.5\n",
    "    fracs[i] =  results[i]['post_levels']\n",
    "((0 <= (mean + 1.965*se) ) * (0 >= (mean - 1.965*se))).float().mean()"
   ]
  },
  {
   "cell_type": "code",
   "execution_count": 14,
   "id": "8c332776-f54e-4ae0-913a-3a75b6641c3d",
   "metadata": {},
   "outputs": [
    {
     "data": {
      "text/plain": [
       "tensor([0.8200, 0.9000, 0.9600])"
      ]
     },
     "execution_count": 14,
     "metadata": {},
     "output_type": "execute_result"
    }
   ],
   "source": [
    "fracs.mean(0)[[80,90,95]]"
   ]
  },
  {
   "cell_type": "code",
   "execution_count": 16,
   "id": "ab44fb21-52dc-4e7b-9318-61d89f3709a0",
   "metadata": {},
   "outputs": [
    {
     "data": {
      "text/plain": [
       "(tensor(0.3126), tensor(0.2412))"
      ]
     },
     "execution_count": 16,
     "metadata": {},
     "output_type": "execute_result"
    }
   ],
   "source": [
    "mean.abs().mean(),mean.abs().std()"
   ]
  },
  {
   "cell_type": "code",
   "execution_count": 13,
   "id": "dafc8774-230f-4020-aaf8-32fc2d1a0543",
   "metadata": {},
   "outputs": [
    {
     "data": {
      "text/plain": [
       "[<matplotlib.lines.Line2D at 0x7f0b9ee0df70>]"
      ]
     },
     "execution_count": 13,
     "metadata": {},
     "output_type": "execute_result"
    },
    {
     "data": {
      "image/png": "[encoded data removed]",
      "text/plain": [
       "<Figure size 640x480 with 1 Axes>"
      ]
     },
     "metadata": {},
     "output_type": "display_data"
    }
   ],
   "source": [
    "import matplotlib.pyplot as plt\n",
    "import torch\n",
    "plt.plot(torch.linspace(0,1,101),fracs.mean(0))"
   ]
  },
  {
   "cell_type": "code",
   "execution_count": null,
   "id": "a090d35f-b9c9-4861-92f0-d12abc406e1b",
   "metadata": {},
   "outputs": [],
   "source": [
    "import matplotlib.pyplot as plt\n",
    "plt.hist(mean, bins = 20);"
   ]
  },
  {
   "cell_type": "code",
   "execution_count": 8,
   "id": "e7eccd97-9915-4715-ae3c-23d065c72172",
   "metadata": {},
   "outputs": [],
   "source": [
    "# Saving results\n",
    "torch.save(obj = results,\n",
    "           f = \"simulation_dr_discrete_ntrial={0}_n={1}.pt\".format(ntrial,n)\n",
    "          )"
   ]
  }
 ],
 "metadata": {
  "kernelspec": {
   "display_name": "Python 3 (ipykernel)",
   "language": "python",
   "name": "python3"
  },
  "language_info": {
   "codemirror_mode": {
    "name": "ipython",
    "version": 3
   },
   "file_extension": ".py",
   "mimetype": "text/x-python",
   "name": "python",
   "nbconvert_exporter": "python",
   "pygments_lexer": "ipython3",
   "version": "3.12.5"
  }
 },
 "nbformat": 4,
 "nbformat_minor": 5
}
