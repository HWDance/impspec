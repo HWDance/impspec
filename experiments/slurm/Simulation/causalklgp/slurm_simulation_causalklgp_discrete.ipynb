{
 "cells": [
  {
   "cell_type": "code",
   "execution_count": 1,
   "id": "ffd17711-8211-4a6c-a143-bfd23ca70ed6",
   "metadata": {},
   "outputs": [],
   "source": [
    "# Imports\n",
    "import torch\n",
    "import os \n",
    "import sys\n",
    "from dask_jobqueue import SLURMCluster\n",
    "from distributed import Client\n",
    "from pathlib import Path\n",
    "\n",
    "import do_simulation_causalklgp_discrete as file"
   ]
  },
  {
   "cell_type": "code",
   "execution_count": 2,
   "id": "fbc39ade-9681-449d-bda2-588ad33554c9",
   "metadata": {},
   "outputs": [],
   "source": [
    "# Args setup\n",
    "ntrial = 100\n",
    "n = 100\n",
    "n_int = 2\n",
    "niter = 1000\n",
    "front_door = False\n",
    "minimise =  True\n",
    "calibrate = True\n",
    "sample_split = True\n",
    "add_base_kernel_BO = True"
   ]
  },
  {
   "cell_type": "code",
   "execution_count": 3,
   "id": "1af96fcf-2028-4154-af52-ca94c6de9876",
   "metadata": {},
   "outputs": [],
   "source": [
    "# Cluster creation\n",
    "cluster = SLURMCluster(\n",
    "    n_workers=0,\n",
    "    memory=\"32GB\",\n",
    "    processes=1,\n",
    "    cores=1,\n",
    "    scheduler_options={\n",
    "        \"dashboard_address\": \":11111\",\n",
    "        \"allowed_failures\": 10\n",
    "    },\n",
    "    job_cpu=1,\n",
    "    walltime=\"3:0:0\",\n",
    "    \n",
    "    job_extra_directives = [\"-p medium,fast,cpu\"],\n",
    ")\n",
    "cluster.adapt(minimum=0, maximum=200)\n",
    "client = Client(cluster)"
   ]
  },
  {
   "cell_type": "code",
   "execution_count": 4,
   "id": "512e36b3-47b6-4200-bb66-ce2050429a25",
   "metadata": {},
   "outputs": [],
   "source": [
    "# Submitting jobs\n",
    "futures = []\n",
    "for seed in range(ntrial):\n",
    "        f = client.submit(file.main,\n",
    "                              seed,\n",
    "                              n,n_int,\n",
    "                              niter = niter,\n",
    "                              front_door = front_door,\n",
    "                              minimise = minimise,\n",
    "                              calibrate = calibrate,\n",
    "                              sample_split = sample_split,\n",
    "                              add_base_kernel_BO = add_base_kernel_BO\n",
    "                             )\n",
    "        futures += [f]"
   ]
  },
  {
   "cell_type": "code",
   "execution_count": 5,
   "id": "8445a1bd-d2e2-4ed4-8f03-e2f3d035ad1d",
   "metadata": {},
   "outputs": [
    {
     "data": {
      "text/plain": [
       "[<Future: pending, key: main-bd8466bc8d8589f3b32fa0643740a745>,\n",
       " <Future: pending, key: main-a70942eaf5842e3728c6cbec53a96af0>,\n",
       " <Future: pending, key: main-563e46c797dcb3e1afb4386bc6496030>,\n",
       " <Future: pending, key: main-377b2803629319302729e093d29d81ac>,\n",
       " <Future: pending, key: main-e1e6f78cb0f43951242377199114c79b>,\n",
       " <Future: pending, key: main-f0d68a0d9649d7d6eb45930129754665>,\n",
       " <Future: pending, key: main-22ac38d1da391d7551d12ec20f6322e3>,\n",
       " <Future: pending, key: main-513ceabd7227d9cfefbe72ac7dd59941>,\n",
       " <Future: pending, key: main-87f608c624699f655658ec913cedb146>,\n",
       " <Future: pending, key: main-47bdd3c4a1a629a1f0bf80643121bd80>,\n",
       " <Future: pending, key: main-3064cd4e48e0199bc87656f269c2c76c>,\n",
       " <Future: pending, key: main-793a41ce832e4d85abd43a8941ea2242>,\n",
       " <Future: pending, key: main-ac93b7a081372ce4c8c22188d228a7f1>,\n",
       " <Future: pending, key: main-285a3fc3279645dfacf6dc8c528b5825>,\n",
       " <Future: pending, key: main-8d84071aec41d4cd5433df96867fdf3b>,\n",
       " <Future: pending, key: main-14fdd4022829f961aef8de76f72c6322>,\n",
       " <Future: pending, key: main-33e49bda620c9bb36a0ddda3949089cb>,\n",
       " <Future: pending, key: main-33ad8f52e94b5b90c63d87204ac0c4eb>,\n",
       " <Future: pending, key: main-1cbe74e27ef18ebe29935e1d23fcb733>,\n",
       " <Future: pending, key: main-eaa560676391f0e67c816ddc38025049>,\n",
       " <Future: pending, key: main-38ccdf0ddec8ba8b9e7ae753cc1eab1e>,\n",
       " <Future: pending, key: main-ca14de13925c8bb49016c7d4a90977bf>,\n",
       " <Future: pending, key: main-25918048b606dbe1fe9238f073adb9a5>,\n",
       " <Future: pending, key: main-f693bab61e95376e3cf79dcb5b958e59>,\n",
       " <Future: pending, key: main-7fa5f7ba7c83c70186a66583970144d0>,\n",
       " <Future: pending, key: main-b46c113f444d2504f782d9620731eeef>,\n",
       " <Future: pending, key: main-9e6af5d6bcb44920db2c7d29e8377177>,\n",
       " <Future: pending, key: main-9f14974ab70e42eef1e3e5d5a3a3ca92>,\n",
       " <Future: pending, key: main-892c89f2be3a28896e3601e5dd09ff83>,\n",
       " <Future: pending, key: main-f2b96848772a98c34d9e5114bf06b430>,\n",
       " <Future: pending, key: main-e8f5c4765c23ea037274a28b8ca4e13a>,\n",
       " <Future: pending, key: main-abbc8a1d4aed28c4b4fc58fb520003ef>,\n",
       " <Future: pending, key: main-93555157330919cfd7e309f12df7e598>,\n",
       " <Future: pending, key: main-d87285cb9a9284ab8cc6d04602d7f0b1>,\n",
       " <Future: pending, key: main-82d665b11533ec26f5be9207b33b8895>,\n",
       " <Future: pending, key: main-5e777907b2a2a799d8ce74205cfee91e>,\n",
       " <Future: pending, key: main-361500bcb9cbce053c792d76db28229b>,\n",
       " <Future: pending, key: main-1a961a87e034095d8671ccf219257124>,\n",
       " <Future: pending, key: main-254fbbfbb6d573b9ba5d87009bdc818c>,\n",
       " <Future: pending, key: main-cc9009c3da2cda97151cce91a5141e55>,\n",
       " <Future: pending, key: main-9b5a5f74b2e906a8d2f2f258d5447bc8>,\n",
       " <Future: pending, key: main-195f9e029ea369638789861cf7dc045e>,\n",
       " <Future: pending, key: main-31ce06bdd251fa24740709a52a7ea03b>,\n",
       " <Future: pending, key: main-cf1b9bcf4072a050ed444ee1439317e0>,\n",
       " <Future: pending, key: main-4177dcf1ffd8c1d52f787fa695a5b644>,\n",
       " <Future: pending, key: main-6be8a3181fd524db71ec7598fe957542>,\n",
       " <Future: pending, key: main-c66deb99bd004583e6bd81465dd6857b>,\n",
       " <Future: pending, key: main-158f8a60a63423e3185fc8de61a9811d>,\n",
       " <Future: pending, key: main-63ab6787beb07b62f2b336a6e0d77132>,\n",
       " <Future: pending, key: main-b0fe5eaa73056049d8d9543ceb7bfab4>,\n",
       " <Future: pending, key: main-689ad928ae6423c723f86aa1eee7679c>,\n",
       " <Future: pending, key: main-dcaf090ae4c1bc172805e752d76f23b2>,\n",
       " <Future: pending, key: main-29baf3f54db2db4da965d10faf4f0ceb>,\n",
       " <Future: pending, key: main-45173663baa6fb7485883edbc9edfb39>,\n",
       " <Future: pending, key: main-1dbbd5c376a04f3b5529f1f2fdc07965>,\n",
       " <Future: pending, key: main-7c7364afa3b4260b6ca665befdfc3e6d>,\n",
       " <Future: pending, key: main-ff6e93f8b5a34b3afe985ebcd8b2ce3b>,\n",
       " <Future: pending, key: main-58a4a0f767fb8be35ef98bc52536efce>,\n",
       " <Future: pending, key: main-49165dcce2bceaeb25780ec69dcec468>,\n",
       " <Future: pending, key: main-7b962dadc316c4c3de97a4ad67702b42>,\n",
       " <Future: pending, key: main-c33c39bf516bc4191a3c09939032c586>,\n",
       " <Future: pending, key: main-1360c0f19a475aa18db5baf73610c08f>,\n",
       " <Future: pending, key: main-7a1020ec1fb75b92392ecf08dffb57f9>,\n",
       " <Future: pending, key: main-0fc6393708f4f8db1c6c3ebbbd8f2e25>,\n",
       " <Future: pending, key: main-1d05e7bee3cbe8732f295caa561bec4f>,\n",
       " <Future: pending, key: main-34dd24322bbef49e5a3998962bcf4d21>,\n",
       " <Future: pending, key: main-b1302726d9221fd7881aa3c1b120bcdb>,\n",
       " <Future: pending, key: main-515c9c0bd9e27da56f50bc2d38058ee2>,\n",
       " <Future: pending, key: main-4e277dd6a881d7858edf44ca5e9dc1a7>,\n",
       " <Future: pending, key: main-fb02b4034dbd953a27bdb1252744bb4e>,\n",
       " <Future: pending, key: main-6d731f9eadc3c999e417ae1a59126418>,\n",
       " <Future: pending, key: main-528702511846ffd0be07d6446fbf2e49>,\n",
       " <Future: pending, key: main-9e02b0e39b6e7016bcb48a3a5659a2cb>,\n",
       " <Future: pending, key: main-f5e68eecc49c3891ebaa56a3cb236fe7>,\n",
       " <Future: pending, key: main-f9393ce4a422983e8bef99ca15cc3b48>,\n",
       " <Future: pending, key: main-e339bdf77f2137a5967149d5c15707f5>,\n",
       " <Future: pending, key: main-cb527e8eae7557784292ff24bfcbad57>,\n",
       " <Future: pending, key: main-410c79153b7d65978f54cebe495ba060>,\n",
       " <Future: pending, key: main-6f09b653fed6a89d9ff16b32f710801e>,\n",
       " <Future: pending, key: main-dd92ebaeab99c726b5ff3afbd13747ce>,\n",
       " <Future: pending, key: main-db4b74ced3a5cbfa37a3c59a227ed01f>,\n",
       " <Future: pending, key: main-1be4fc3258482b6ee71c3ff160ed0005>,\n",
       " <Future: pending, key: main-bf9bed5033dd3bed26203a42faadbec4>,\n",
       " <Future: pending, key: main-5009c5d2bb75c9aab23c53d7ca00400e>,\n",
       " <Future: pending, key: main-984c5ad092e64d7086d51ebf0d159906>,\n",
       " <Future: pending, key: main-b22bde11eabb45576d952efd08189165>,\n",
       " <Future: pending, key: main-bbec09da843568097898c010349c5667>,\n",
       " <Future: pending, key: main-32883aece0fbc28f7a9cec78581c3714>,\n",
       " <Future: pending, key: main-c1ad9a75d0c1854ebb8d3f7d2083fd36>,\n",
       " <Future: pending, key: main-3ec380827cab6cee7a0d4653b9413b0e>,\n",
       " <Future: pending, key: main-27e83241f6377c224aa31db0ce4d41f7>,\n",
       " <Future: pending, key: main-0b454b1513e419d3cc4f56e760adf4bd>,\n",
       " <Future: pending, key: main-27fa8365c34082b51e094665441fff38>,\n",
       " <Future: pending, key: main-ea6450739c209556e61c5bb88e5ec5ac>,\n",
       " <Future: pending, key: main-bf4ff2af03395388d4d6f42df697fd07>,\n",
       " <Future: pending, key: main-855a48641116491c3fcae9f2417e4f58>,\n",
       " <Future: pending, key: main-0f4d10898d369365dfe06a0e9f0f8532>,\n",
       " <Future: pending, key: main-b1d69dc4a80255487b75067deb41054e>,\n",
       " <Future: pending, key: main-454d31732acb3561a30d72c8c9e2001a>,\n",
       " <Future: pending, key: main-b8900e4846a2ef6016eedecb4d890367>]"
      ]
     },
     "execution_count": 5,
     "metadata": {},
     "output_type": "execute_result"
    }
   ],
   "source": [
    "futures"
   ]
  },
  {
   "cell_type": "code",
   "execution_count": 6,
   "id": "99fb39c7-f5c1-4d44-92df-b1a94309a76a",
   "metadata": {},
   "outputs": [],
   "source": [
    "# Getting results\n",
    "results = client.gather(futures)"
   ]
  },
  {
   "cell_type": "code",
   "execution_count": 7,
   "id": "2aa104ec-b8bc-406e-a690-ccc6a03a8064",
   "metadata": {},
   "outputs": [],
   "source": [
    "# Closing client\n",
    "client.close()\n",
    "cluster.close()"
   ]
  },
  {
   "cell_type": "code",
   "execution_count": 8,
   "id": "93761943-1f26-4c73-92e8-9856b753ad4a",
   "metadata": {},
   "outputs": [
    {
     "data": {
      "text/plain": [
       "tensor(0.9600)"
      ]
     },
     "execution_count": 8,
     "metadata": {},
     "output_type": "execute_result"
    }
   ],
   "source": [
    "mean = torch.zeros(ntrial)\n",
    "se = torch.zeros(ntrial)\n",
    "nlevel = len(results[0]['post_levels'])\n",
    "fracs = torch.zeros((ntrial,nlevel))\n",
    "for i in range(ntrial):\n",
    "    mean[i] = results[i]['post_moments'][0]\n",
    "    se[i] =  results[i]['post_moments'][1]**0.5\n",
    "    fracs[i] =  results[i]['post_levels']\n",
    "((0 <= (mean + 1.965*se) ) * (0 >= (mean - 1.965*se))).float().mean()"
   ]
  },
  {
   "cell_type": "code",
   "execution_count": 14,
   "id": "25c9ae87-3e8d-4079-b457-88d433898fd6",
   "metadata": {},
   "outputs": [
    {
     "data": {
      "text/plain": [
       "tensor([0.8200, 0.9400, 0.9600])"
      ]
     },
     "execution_count": 14,
     "metadata": {},
     "output_type": "execute_result"
    }
   ],
   "source": [
    "fracs.mean(0)"
   ]
  },
  {
   "cell_type": "code",
   "execution_count": 20,
   "id": "8396f815-1331-4cba-bba6-dc776a115df0",
   "metadata": {},
   "outputs": [
    {
     "data": {
      "text/plain": [
       "(tensor(0.1558), tensor(0.2061))"
      ]
     },
     "execution_count": 20,
     "metadata": {},
     "output_type": "execute_result"
    }
   ],
   "source": [
    "mean.abs().mean(),mean.abs().std()"
   ]
  },
  {
   "cell_type": "code",
   "execution_count": 12,
   "id": "f5d477f9-4d3f-4b5e-ac5b-88b4be86152a",
   "metadata": {},
   "outputs": [
    {
     "data": {
      "text/plain": [
       "[<matplotlib.lines.Line2D at 0x7f680a4859d0>]"
      ]
     },
     "execution_count": 12,
     "metadata": {},
     "output_type": "execute_result"
    },
    {
     "data": {
      "image/png": "[encoded data removed]",
      "text/plain": [
       "<Figure size 640x480 with 1 Axes>"
      ]
     },
     "metadata": {},
     "output_type": "display_data"
    }
   ],
   "source": [
    "import matplotlib.pyplot as plt\n",
    "import torch\n",
    "plt.plot((torch.linspace(0,1,nlevel)-fracs.mean(0)).abs())"
   ]
  },
  {
   "cell_type": "code",
   "execution_count": 15,
   "id": "e7eccd97-9915-4715-ae3c-23d065c72172",
   "metadata": {},
   "outputs": [],
   "source": [
    "# Saving results\n",
    "torch.save(obj = results,\n",
    "           f = \"simulation_causalklgp_ntrial={0}_n={1}_frontdoor={2}_discrete.pt\".format(ntrial,\n",
    "                                                                                             n,\n",
    "                                                                                             front_door)\n",
    "          )"
   ]
  }
 ],
 "metadata": {
  "kernelspec": {
   "display_name": "Python 3 (ipykernel)",
   "language": "python",
   "name": "python3"
  },
  "language_info": {
   "codemirror_mode": {
    "name": "ipython",
    "version": 3
   },
   "file_extension": ".py",
   "mimetype": "text/x-python",
   "name": "python",
   "nbconvert_exporter": "python",
   "pygments_lexer": "ipython3",
   "version": "3.12.5"
  }
 },
 "nbformat": 4,
 "nbformat_minor": 5
}
