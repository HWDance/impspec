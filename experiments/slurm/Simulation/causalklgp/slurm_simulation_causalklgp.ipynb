{
 "cells": [
  {
   "cell_type": "code",
   "execution_count": 1,
   "id": "ffd17711-8211-4a6c-a143-bfd23ca70ed6",
   "metadata": {},
   "outputs": [],
   "source": [
    "# Imports\n",
    "import torch\n",
    "import os \n",
    "import sys\n",
    "from dask_jobqueue import SLURMCluster\n",
    "from distributed import Client\n",
    "from pathlib import Path\n",
    "\n",
    "import do_simulation_causalklgp as file"
   ]
  },
  {
   "cell_type": "code",
   "execution_count": 2,
   "id": "fbc39ade-9681-449d-bda2-588ad33554c9",
   "metadata": {},
   "outputs": [],
   "source": [
    "# Args setup\n",
    "ntrial = 50\n",
    "n = 500\n",
    "n_int = 100\n",
    "niter = 1000\n",
    "front_door = True\n",
    "minimise = False\n",
    "calibrate = False\n",
    "sample_split = True\n",
    "add_base_kernel_BO = True"
   ]
  },
  {
   "cell_type": "code",
   "execution_count": 3,
   "id": "1af96fcf-2028-4154-af52-ca94c6de9876",
   "metadata": {},
   "outputs": [],
   "source": [
    "# Cluster creation\n",
    "cluster = SLURMCluster(\n",
    "    n_workers=0,\n",
    "    memory=\"32GB\",\n",
    "    processes=1,\n",
    "    cores=1,\n",
    "    scheduler_options={\n",
    "        \"dashboard_address\": \":11111\",\n",
    "        \"allowed_failures\": 10\n",
    "    },\n",
    "    job_cpu=1,\n",
    "    walltime=\"3:0:0\",\n",
    "    \n",
    "    job_extra_directives = [\"-p medium,fast,cpu\"],\n",
    ")\n",
    "cluster.adapt(minimum=0, maximum=200)\n",
    "client = Client(cluster)"
   ]
  },
  {
   "cell_type": "code",
   "execution_count": 4,
   "id": "512e36b3-47b6-4200-bb66-ce2050429a25",
   "metadata": {},
   "outputs": [],
   "source": [
    "# Submitting jobs\n",
    "futures = []\n",
    "for seed in range(ntrial):\n",
    "        f = client.submit(file.main,\n",
    "                              seed,\n",
    "                              n,n_int,\n",
    "                              niter = niter,\n",
    "                              front_door = front_door,\n",
    "                              minimise = minimise,\n",
    "                              calibrate = calibrate,\n",
    "                              sample_split = sample_split,\n",
    "                              add_base_kernel_BO = add_base_kernel_BO\n",
    "                             )\n",
    "        futures += [f]"
   ]
  },
  {
   "cell_type": "code",
   "execution_count": 5,
   "id": "8445a1bd-d2e2-4ed4-8f03-e2f3d035ad1d",
   "metadata": {},
   "outputs": [
    {
     "data": {
      "text/plain": [
       "[<Future: pending, key: main-20a85e25375e347dddbba8eeeef2114b>,\n",
       " <Future: pending, key: main-be46114150ff44ad4330605e432e7133>,\n",
       " <Future: pending, key: main-cec91da4347a6be3fabc44c29bf1b9bd>,\n",
       " <Future: pending, key: main-a09b77c68fda8e05d1c90a63393cf388>,\n",
       " <Future: pending, key: main-eae8b8cc9a3e1da64fc3b5e4fdec1eeb>,\n",
       " <Future: pending, key: main-8f9a1a3e6bfaef4b0e2b81f4ca442b75>,\n",
       " <Future: pending, key: main-7113caf5baa4a17391c5a7fc78f837e5>,\n",
       " <Future: pending, key: main-c931fda884fab4e0c173c7cadfd19e08>,\n",
       " <Future: pending, key: main-3ca0f007e8ee40962ff474df89de9ce8>,\n",
       " <Future: pending, key: main-7e59ffa06328cefee1c6e7ce50d010f4>,\n",
       " <Future: pending, key: main-7bae0618d72d3625bee64f3258098a92>,\n",
       " <Future: pending, key: main-77a4f7cad9c9423224f7aeaadd81741f>,\n",
       " <Future: pending, key: main-874b18a4c2c53e1cb54189424d4731f3>,\n",
       " <Future: pending, key: main-d45ed511a22f30a51017474e697cdfdf>,\n",
       " <Future: pending, key: main-44ab5d3d79fcb4c7ae0dc9409d2c8fb8>,\n",
       " <Future: pending, key: main-f7b9dd01fa89adced7e89db69040baf5>,\n",
       " <Future: pending, key: main-831984b5d6d68fa2d51f5aec48baf061>,\n",
       " <Future: pending, key: main-eaaf96e0ea845552cd78ef80cc3259d1>,\n",
       " <Future: pending, key: main-9b0b751aa2398f87c061ef6213c99509>,\n",
       " <Future: pending, key: main-4ea5f2035a8cb9b540f65a6c8cf40c48>,\n",
       " <Future: pending, key: main-0bfde73948e1b6bfd152ee6ae4340740>,\n",
       " <Future: pending, key: main-9e6ead4b166764d28109c36acc5c0698>,\n",
       " <Future: pending, key: main-8737de995235b3e97c8f894f737111c1>,\n",
       " <Future: pending, key: main-dbbce1832d654259cee6c042d0eda133>,\n",
       " <Future: pending, key: main-7ec2a65846f331707e26950e44b0ad33>,\n",
       " <Future: pending, key: main-4d3a709dadce3845f4c4474753ddbc2c>,\n",
       " <Future: pending, key: main-98e12f4a363619909c2ab2b086bb48d5>,\n",
       " <Future: pending, key: main-229f8ab77afb6193951c4896a465bdf8>,\n",
       " <Future: pending, key: main-e5d1e0e8e8a6ef0dcd42d84c374ef565>,\n",
       " <Future: pending, key: main-ff373404fb826aa33cceedd6066515f4>,\n",
       " <Future: pending, key: main-798c1065182c3a5063d5e661b4b33cfe>,\n",
       " <Future: pending, key: main-e5d4fe359992ae70cb9323d2975c587f>,\n",
       " <Future: pending, key: main-6b25ef38e9e4909b7fad6da72519a865>,\n",
       " <Future: pending, key: main-32ad7cab3c84d9e83ab3b75577a8ad81>,\n",
       " <Future: pending, key: main-d3e1c23d19bd0c0e8cbb66d3a955fe63>,\n",
       " <Future: pending, key: main-d113965681ba81b1c6b81e5bd54a6b2b>,\n",
       " <Future: pending, key: main-4da4a206aef2d003bdf7325b1e082cfd>,\n",
       " <Future: pending, key: main-a5ad85ae7b7681fcaf1b250d9f2d5bb5>,\n",
       " <Future: pending, key: main-b16f3551aca6806d67ae92698bfe0390>,\n",
       " <Future: pending, key: main-8216219155c57538c4745345f8441c9f>,\n",
       " <Future: pending, key: main-3867d1b532e58a510c4771444c3096be>,\n",
       " <Future: pending, key: main-f56ce339070337ac62b60264dbed4204>,\n",
       " <Future: pending, key: main-74cd624b5aef309106a8f6b95f201c83>,\n",
       " <Future: pending, key: main-9907cfa5a5054a0691dc8b6e5a92dab7>,\n",
       " <Future: pending, key: main-a30c2c40cf424e188873d7ddbcf37e48>,\n",
       " <Future: pending, key: main-9cb338c9f5d5c13b64d6fe561b6a4b84>,\n",
       " <Future: pending, key: main-50d4ae02c2f1e26d235ce593ecf7c351>,\n",
       " <Future: pending, key: main-8cbc2d0fec70bb303b2490f642fbcf7c>,\n",
       " <Future: pending, key: main-1f4c1908659c8b3df9466fd6661e3516>,\n",
       " <Future: pending, key: main-35f5d7d1c21f582a34562fd513122c03>]"
      ]
     },
     "execution_count": 5,
     "metadata": {},
     "output_type": "execute_result"
    }
   ],
   "source": [
    "futures"
   ]
  },
  {
   "cell_type": "code",
   "execution_count": null,
   "id": "99fb39c7-f5c1-4d44-92df-b1a94309a76a",
   "metadata": {},
   "outputs": [],
   "source": [
    "# Getting results\n",
    "results = client.gather(futures)"
   ]
  },
  {
   "cell_type": "code",
   "execution_count": null,
   "id": "2aa104ec-b8bc-406e-a690-ccc6a03a8064",
   "metadata": {},
   "outputs": [],
   "source": [
    "# Closing client\n",
    "client.close()\n",
    "cluster.close()"
   ]
  },
  {
   "cell_type": "code",
   "execution_count": null,
   "id": "e7eccd97-9915-4715-ae3c-23d065c72172",
   "metadata": {},
   "outputs": [],
   "source": [
    "# Saving results\n",
    "torch.save(obj = results,\n",
    "           f = \"simulation_causalklgp_ntrial={0}_n={1}_frontdoor={2}_minimise={3}_addbase={4}.pt\".format(ntrial,\n",
    "                                                                                             n,\n",
    "                                                                                             front_door,\n",
    "                                                                                             minimise,\n",
    "                                                                                             add_base_kernel_BO)\n",
    "          )"
   ]
  }
 ],
 "metadata": {
  "kernelspec": {
   "display_name": "Python 3 (ipykernel)",
   "language": "python",
   "name": "python3"
  },
  "language_info": {
   "codemirror_mode": {
    "name": "ipython",
    "version": 3
   },
   "file_extension": ".py",
   "mimetype": "text/x-python",
   "name": "python",
   "nbconvert_exporter": "python",
   "pygments_lexer": "ipython3",
   "version": "3.12.5"
  }
 },
 "nbformat": 4,
 "nbformat_minor": 5
}
