{
 "cells": [
  {
   "cell_type": "code",
   "execution_count": 1,
   "id": "ffd17711-8211-4a6c-a143-bfd23ca70ed6",
   "metadata": {},
   "outputs": [],
   "source": [
    "# Imports\n",
    "import torch\n",
    "import os \n",
    "import sys\n",
    "from dask_jobqueue import SLURMCluster\n",
    "from distributed import Client\n",
    "from pathlib import Path\n",
    "\n",
    "import do_simulation_causalklgp as file"
   ]
  },
  {
   "cell_type": "code",
   "execution_count": 2,
   "id": "fbc39ade-9681-449d-bda2-588ad33554c9",
   "metadata": {},
   "outputs": [],
   "source": [
    "# Args setup\n",
    "ntrial = 50\n",
    "n = 500\n",
    "n_int = 100\n",
    "niter = 1000\n",
    "front_door = True\n",
    "minimise =  False\n",
    "calibrate = False\n",
    "sample_split = True\n",
    "add_base_kernel_BO = True"
   ]
  },
  {
   "cell_type": "code",
   "execution_count": 3,
   "id": "1af96fcf-2028-4154-af52-ca94c6de9876",
   "metadata": {},
   "outputs": [],
   "source": [
    "# Cluster creation\n",
    "cluster = SLURMCluster(\n",
    "    n_workers=0,\n",
    "    memory=\"32GB\",\n",
    "    processes=1,\n",
    "    cores=1,\n",
    "    scheduler_options={\n",
    "        \"dashboard_address\": \":11111\",\n",
    "        \"allowed_failures\": 10\n",
    "    },\n",
    "    job_cpu=1,\n",
    "    walltime=\"3:0:0\",\n",
    "    \n",
    "    job_extra_directives = [\"-p medium,fast,cpu\"],\n",
    ")\n",
    "cluster.adapt(minimum=0, maximum=200)\n",
    "client = Client(cluster)"
   ]
  },
  {
   "cell_type": "code",
   "execution_count": 4,
   "id": "512e36b3-47b6-4200-bb66-ce2050429a25",
   "metadata": {},
   "outputs": [],
   "source": [
    "# Submitting jobs\n",
    "futures = []\n",
    "for seed in range(ntrial):\n",
    "        f = client.submit(file.main,\n",
    "                              seed,\n",
    "                              n,n_int,\n",
    "                              niter = niter,\n",
    "                              front_door = front_door,\n",
    "                              minimise = minimise,\n",
    "                              calibrate = calibrate,\n",
    "                              sample_split = sample_split,\n",
    "                              add_base_kernel_BO = add_base_kernel_BO\n",
    "                             )\n",
    "        futures += [f]"
   ]
  },
  {
   "cell_type": "code",
   "execution_count": 5,
   "id": "8445a1bd-d2e2-4ed4-8f03-e2f3d035ad1d",
   "metadata": {},
   "outputs": [
    {
     "data": {
      "text/plain": [
       "[<Future: pending, key: main-1c5e277288a3047886cf62f280d48f37>,\n",
       " <Future: pending, key: main-c1c06afa4a7a75d5c9584c4e7627655f>,\n",
       " <Future: pending, key: main-d8ec07a665b3f1093c4dd7f1e43d65a2>,\n",
       " <Future: pending, key: main-7e2b124f61ca24e6e41c6c0aff26ace4>,\n",
       " <Future: pending, key: main-5ada68ed01f054d1612fb32bd6f8d01e>,\n",
       " <Future: pending, key: main-c8508554c690b17ded3f68d9cf5cfcdd>,\n",
       " <Future: pending, key: main-a0ec0de3f08154a2c57ade7b2de19ecd>,\n",
       " <Future: pending, key: main-912d182fc31a1827b59e97cba42fda68>,\n",
       " <Future: pending, key: main-f38de47a4a9a52c2fa3729f0796eb16e>,\n",
       " <Future: pending, key: main-29d673639d63dad5cba33acd332b2aed>,\n",
       " <Future: pending, key: main-70f45b4286d40d0ef1ac01a464fa6b63>,\n",
       " <Future: pending, key: main-7b3a6bfa29ee857877f8150152bd1f0e>,\n",
       " <Future: pending, key: main-91af11034628fddc935d5857fa328df8>,\n",
       " <Future: pending, key: main-10110fd5ea638a69ab413cfe8fe469e9>,\n",
       " <Future: pending, key: main-1c6c72a8342f4002c653ab611c71eddd>,\n",
       " <Future: pending, key: main-e99a3f7c0411776420e5a0066bfe3fe7>,\n",
       " <Future: pending, key: main-3e12762f71ee1b7b21a9dddcb8f80d62>,\n",
       " <Future: pending, key: main-999543c57138f044bbd692a3952ebc0b>,\n",
       " <Future: pending, key: main-b6f82dca67cb56666ba7354e45472ec9>,\n",
       " <Future: pending, key: main-69bf31388d5ca117aee3991cdf093fee>,\n",
       " <Future: pending, key: main-e444ac78fcf5fe49e452908dd81ffd1d>,\n",
       " <Future: pending, key: main-c96893226af6c7569cf59b6fbc3ebfe7>,\n",
       " <Future: pending, key: main-500e7a5052769142c90d8175013789d7>,\n",
       " <Future: pending, key: main-8a273d90c138f116adeb30050841461a>,\n",
       " <Future: pending, key: main-c755e39fbe1e67e4edc50983a30fc0d7>,\n",
       " <Future: pending, key: main-6a163677ec68bfb89ca47f96048d906e>,\n",
       " <Future: pending, key: main-c26a821837740e76704b1af0a5d12a35>,\n",
       " <Future: pending, key: main-8df5183824b2e82d39b7d0b9c8e86424>,\n",
       " <Future: pending, key: main-29609c4450b5223fbbff26f47ba1199b>,\n",
       " <Future: pending, key: main-5f9f98406b889c9323f34cbbd82953d2>,\n",
       " <Future: pending, key: main-06f543ceea08a22fbc29093924e8e35a>,\n",
       " <Future: pending, key: main-be51d6fceb3bd10418a3186bd98c229a>,\n",
       " <Future: pending, key: main-7af33cad06942c73fb308b22f42d5e4b>,\n",
       " <Future: pending, key: main-2fc63bf8931b4b65a05e6c1b0cd6143e>,\n",
       " <Future: pending, key: main-4288dffe6843f83cb9ff280f4685f8bb>,\n",
       " <Future: pending, key: main-83a4eec67e9c25cee5b912e6ae2f5ce3>,\n",
       " <Future: pending, key: main-75d68fe1e3ee6878237afdb872f43839>,\n",
       " <Future: pending, key: main-f6722b46a28c09ebf67b45a123f25872>,\n",
       " <Future: pending, key: main-67138d52f5e9f63e54b3ecea745984f3>,\n",
       " <Future: pending, key: main-c5fbdf329f63e4448e672d0f2670a603>,\n",
       " <Future: pending, key: main-2513e49bd45260e31502b9201efa06dd>,\n",
       " <Future: pending, key: main-274fd686655ad21347062e14919b876b>,\n",
       " <Future: pending, key: main-77425c31e73a9ad0bcbaf15fae783949>,\n",
       " <Future: pending, key: main-03f72a03e2e205f2f768e47897c303b8>,\n",
       " <Future: pending, key: main-3df94b9c8f17004c2d99d790b60a49ba>,\n",
       " <Future: pending, key: main-ff2e9b1f53345e408c7ad5455f005df8>,\n",
       " <Future: pending, key: main-5e8e6920588aae93d24b493a14e91fb4>,\n",
       " <Future: pending, key: main-c83ff2b64d92276ee5303ee385f11577>,\n",
       " <Future: pending, key: main-588b1babde3a71488b638e7b6465a8f1>,\n",
       " <Future: pending, key: main-746ac6180949b58f1ddc9662ce249432>]"
      ]
     },
     "execution_count": 5,
     "metadata": {},
     "output_type": "execute_result"
    }
   ],
   "source": [
    "futures"
   ]
  },
  {
   "cell_type": "code",
   "execution_count": 6,
   "id": "99fb39c7-f5c1-4d44-92df-b1a94309a76a",
   "metadata": {},
   "outputs": [],
   "source": [
    "# Getting results\n",
    "results = client.gather(futures)"
   ]
  },
  {
   "cell_type": "code",
   "execution_count": 7,
   "id": "2aa104ec-b8bc-406e-a690-ccc6a03a8064",
   "metadata": {},
   "outputs": [],
   "source": [
    "# Closing client\n",
    "client.close()\n",
    "cluster.close()"
   ]
  },
  {
   "cell_type": "code",
   "execution_count": 8,
   "id": "e7eccd97-9915-4715-ae3c-23d065c72172",
   "metadata": {},
   "outputs": [],
   "source": [
    "# Saving results\n",
    "torch.save(obj = results,\n",
    "           f = \"simulation_causalklgp_ntrial={0}_n={1}_frontdoor={2}_minimise={3}_addbase={4}.pt\".format(ntrial,\n",
    "                                                                                             n,\n",
    "                                                                                             front_door,\n",
    "                                                                                             minimise,\n",
    "                                                                                             add_base_kernel_BO)\n",
    "          )"
   ]
  }
 ],
 "metadata": {
  "kernelspec": {
   "display_name": "Python 3 (ipykernel)",
   "language": "python",
   "name": "python3"
  },
  "language_info": {
   "codemirror_mode": {
    "name": "ipython",
    "version": 3
   },
   "file_extension": ".py",
   "mimetype": "text/x-python",
   "name": "python",
   "nbconvert_exporter": "python",
   "pygments_lexer": "ipython3",
   "version": "3.12.5"
  }
 },
 "nbformat": 4,
 "nbformat_minor": 5
}
