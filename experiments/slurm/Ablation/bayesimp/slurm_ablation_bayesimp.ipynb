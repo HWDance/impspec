{
 "cells": [
  {
   "cell_type": "code",
   "execution_count": 1,
   "id": "46268684-f281-4b9c-90f1-392537f18dbf",
   "metadata": {},
   "outputs": [],
   "source": [
    "# Imports\n",
    "import torch\n",
    "import os \n",
    "import sys\n",
    "from dask_jobqueue import SLURMCluster\n",
    "from distributed import Client\n",
    "from pathlib import Path\n",
    "\n",
    "import do_ablation_bayesimp as file"
   ]
  },
  {
   "cell_type": "code",
   "execution_count": 2,
   "id": "a8c24b2e-ac59-421b-ac72-e790d04a8471",
   "metadata": {},
   "outputs": [],
   "source": [
    "# Args setup\n",
    "ntrial = 50\n",
    "n = 100\n",
    "ntest = 100\n",
    "d = 5\n",
    "noise = 0.5\n",
    "niter = 1000\n",
    "optimise_mu = [False, False, True]\n",
    "exact = [False, True, True]\n",
    "mc_samples = 100\n",
    "kernel = \"gaussian\""
   ]
  },
  {
   "cell_type": "code",
   "execution_count": 3,
   "id": "fb863671-3c55-4e69-9537-cf846582a6da",
   "metadata": {},
   "outputs": [],
   "source": [
    "# Cluster creation\n",
    "cluster = SLURMCluster(\n",
    "    n_workers=0,\n",
    "    memory=\"32GB\",\n",
    "    processes=1,\n",
    "    cores=1,\n",
    "    scheduler_options={\n",
    "        \"dashboard_address\": \":11111\",\n",
    "        \"allowed_failures\": 10\n",
    "    },\n",
    "    job_cpu=1,\n",
    "    walltime=\"3:0:0\",\n",
    "    job_extra_directives = [\"-p medium,fast,cpu\"],\n",
    ")\n",
    "cluster.adapt(minimum=0, maximum=200)\n",
    "client = Client(cluster)"
   ]
  },
  {
   "cell_type": "code",
   "execution_count": 4,
   "id": "c50cdf79-4a43-4cdc-8918-e82792b554b4",
   "metadata": {},
   "outputs": [],
   "source": [
    "# Submitting jobs\n",
    "futures = []\n",
    "for i in range(len(optimise_mu)):           \n",
    "    for seed in range(ntrial):\n",
    "            f = client.submit(file.main,seed,n,ntest,d,noise,\n",
    "                             optimise_mu = optimise_mu[i], exact = exact[i],\n",
    "                             mc_samples = mc_samples, kernel = kernel,\n",
    "                             niter = niter)\n",
    "            futures += [f]"
   ]
  },
  {
   "cell_type": "code",
   "execution_count": 5,
   "id": "a248d795-5e4d-4ac4-8a21-5f84775f9ef2",
   "metadata": {},
   "outputs": [],
   "source": [
    "# Check on futures\n",
    "#futures"
   ]
  },
  {
   "cell_type": "code",
   "execution_count": 6,
   "id": "f18c8218-4374-4884-83fa-f4a28f8cbbbf",
   "metadata": {},
   "outputs": [],
   "source": [
    "# Getting results\n",
    "results = client.gather(futures)"
   ]
  },
  {
   "cell_type": "code",
   "execution_count": 7,
   "id": "555c9e87-bb97-4c84-83ef-ba7d92cb0b9e",
   "metadata": {},
   "outputs": [],
   "source": [
    "# Closing client\n",
    "client.close()\n",
    "cluster.close()"
   ]
  },
  {
   "cell_type": "code",
   "execution_count": 8,
   "id": "a7a97995-514a-4818-8654-36f536bb6efa",
   "metadata": {},
   "outputs": [],
   "source": [
    "# Saving results\n",
    "torch.save(obj = results,\n",
    "           f = \"ablation_bayesimp_ntrial={0}_n={1}_d={2}_noise={3}_kernel={4}.pt\".format(ntrial,n,d,noise,kernel))"
   ]
  }
 ],
 "metadata": {
  "kernelspec": {
   "display_name": "Python 3 (ipykernel)",
   "language": "python",
   "name": "python3"
  },
  "language_info": {
   "codemirror_mode": {
    "name": "ipython",
    "version": 3
   },
   "file_extension": ".py",
   "mimetype": "text/x-python",
   "name": "python",
   "nbconvert_exporter": "python",
   "pygments_lexer": "ipython3",
   "version": "3.12.5"
  }
 },
 "nbformat": 4,
 "nbformat_minor": 5
}
