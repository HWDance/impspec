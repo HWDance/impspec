{
 "cells": [
  {
   "cell_type": "code",
   "execution_count": 3,
   "id": "46268684-f281-4b9c-90f1-392537f18dbf",
   "metadata": {},
   "outputs": [],
   "source": [
    "# Imports\n",
    "import torch\n",
    "import os \n",
    "import sys\n",
    "from dask_jobqueue import SLURMCluster\n",
    "from distributed import Client\n",
    "from pathlib import Path\n",
    "\n",
    "import do_ablation_bayesimp as file"
   ]
  },
  {
   "cell_type": "code",
   "execution_count": 16,
   "id": "a8c24b2e-ac59-421b-ac72-e790d04a8471",
   "metadata": {},
   "outputs": [],
   "source": [
    "# Args setup\n",
    "ntrial = 50\n",
    "n = 100\n",
    "ntest = 100\n",
    "d = 5\n",
    "noise = 0.1\n",
    "niter = 1000\n",
    "optimise_mu = [True, True]\n",
    "exact = [False, True]\n",
    "mc_samples = 100\n",
    "kernel = \"gammaexp\""
   ]
  },
  {
   "cell_type": "code",
   "execution_count": 17,
   "id": "fb863671-3c55-4e69-9537-cf846582a6da",
   "metadata": {},
   "outputs": [
    {
     "name": "stderr",
     "output_type": "stream",
     "text": [
      "/nfs/ghome/live/danceh/.local/mambaforge/envs/causalgp/lib/python3.12/site-packages/distributed/node.py:187: UserWarning: Port 11111 is already in use.\n",
      "Perhaps you already have a cluster running?\n",
      "Hosting the HTTP server on port 37295 instead\n",
      "  warnings.warn(\n",
      "2024-09-22 21:38:14,820 - distributed.batched - INFO - Batched Comm Closed <TCP (closed)  local=tcp://192.168.234.109:36991 remote=tcp://192.168.234.109:41218>\n",
      "Traceback (most recent call last):\n",
      "  File \"/nfs/ghome/live/danceh/.local/mambaforge/envs/causalgp/lib/python3.12/site-packages/distributed/batched.py\", line 115, in _background_send\n",
      "    nbytes = yield coro\n",
      "             ^^^^^^^^^^\n",
      "  File \"/nfs/ghome/live/danceh/.local/mambaforge/envs/causalgp/lib/python3.12/site-packages/tornado/gen.py\", line 766, in run\n",
      "    value = future.result()\n",
      "            ^^^^^^^^^^^^^^^\n",
      "  File \"/nfs/ghome/live/danceh/.local/mambaforge/envs/causalgp/lib/python3.12/site-packages/distributed/comm/tcp.py\", line 262, in write\n",
      "    raise CommClosedError()\n",
      "distributed.comm.core.CommClosedError\n"
     ]
    }
   ],
   "source": [
    "# Cluster creation\n",
    "cluster = SLURMCluster(\n",
    "    n_workers=0,\n",
    "    memory=\"32GB\",\n",
    "    processes=1,\n",
    "    cores=1,\n",
    "    scheduler_options={\n",
    "        \"dashboard_address\": \":11111\",\n",
    "        \"allowed_failures\": 10\n",
    "    },\n",
    "    job_cpu=1,\n",
    "    walltime=\"3:0:0\",\n",
    "    job_extra_directives = [\"-p medium,fast,cpu\"],\n",
    ")\n",
    "cluster.adapt(minimum=0, maximum=200)\n",
    "client = Client(cluster)"
   ]
  },
  {
   "cell_type": "code",
   "execution_count": 18,
   "id": "c50cdf79-4a43-4cdc-8918-e82792b554b4",
   "metadata": {},
   "outputs": [],
   "source": [
    "# Submitting jobs\n",
    "futures = []\n",
    "for i in range(len(optimise_mu)):           \n",
    "    for seed in range(ntrial):\n",
    "            f = client.submit(file.main,seed,n,ntest,d,noise,\n",
    "                             optimise_mu = optimise_mu[i], exact = exact[i],\n",
    "                             mc_samples = mc_samples, kernel = kernel,\n",
    "                             niter = niter)\n",
    "            futures += [f]"
   ]
  },
  {
   "cell_type": "code",
   "execution_count": 5,
   "id": "a248d795-5e4d-4ac4-8a21-5f84775f9ef2",
   "metadata": {},
   "outputs": [],
   "source": [
    "# Check on futures\n",
    "#futures"
   ]
  },
  {
   "cell_type": "code",
   "execution_count": 19,
   "id": "f18c8218-4374-4884-83fa-f4a28f8cbbbf",
   "metadata": {},
   "outputs": [],
   "source": [
    "# Getting results\n",
    "results = client.gather(futures)"
   ]
  },
  {
   "cell_type": "code",
   "execution_count": 20,
   "id": "555c9e87-bb97-4c84-83ef-ba7d92cb0b9e",
   "metadata": {},
   "outputs": [],
   "source": [
    "# Closing client\n",
    "client.close()\n",
    "cluster.close()"
   ]
  },
  {
   "cell_type": "code",
   "execution_count": 21,
   "id": "7a3ac498-c027-4afe-8149-cf049bc4a696",
   "metadata": {},
   "outputs": [],
   "source": [
    "# Saving results\n",
    "torch.save(obj = results,\n",
    "           f = \"ablation_bayesimp_ntrial={0}_n={1}_d={2}_noise={3}_kernel={4}.pt\".format(ntrial,n,d,noise,kernel))"
   ]
  }
 ],
 "metadata": {
  "kernelspec": {
   "display_name": "Python 3 (ipykernel)",
   "language": "python",
   "name": "python3"
  },
  "language_info": {
   "codemirror_mode": {
    "name": "ipython",
    "version": 3
   },
   "file_extension": ".py",
   "mimetype": "text/x-python",
   "name": "python",
   "nbconvert_exporter": "python",
   "pygments_lexer": "ipython3",
   "version": "3.12.5"
  }
 },
 "nbformat": 4,
 "nbformat_minor": 5
}
