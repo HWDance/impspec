{
 "cells": [
  {
   "cell_type": "code",
   "execution_count": 1,
   "id": "46268684-f281-4b9c-90f1-392537f18dbf",
   "metadata": {},
   "outputs": [],
   "source": [
    "# Imports\n",
    "import torch\n",
    "import os \n",
    "import sys\n",
    "from dask_jobqueue import SLURMCluster\n",
    "from distributed import Client\n",
    "from pathlib import Path\n",
    "\n",
    "import do_ablation_baselinegp as file"
   ]
  },
  {
   "cell_type": "code",
   "execution_count": 9,
   "id": "a8c24b2e-ac59-421b-ac72-e790d04a8471",
   "metadata": {},
   "outputs": [],
   "source": [
    "# Args setup\n",
    "ntrial = 50\n",
    "n = 100\n",
    "ntest = 100\n",
    "d = 5\n",
    "noise = 0.5\n",
    "niter = 1000\n",
    "error_samples = 100\n",
    "gp_samples = 1000\n",
    "kernel = \"gammaexp\""
   ]
  },
  {
   "cell_type": "code",
   "execution_count": 10,
   "id": "fb863671-3c55-4e69-9537-cf846582a6da",
   "metadata": {},
   "outputs": [],
   "source": [
    "# Cluster creation\n",
    "cluster = SLURMCluster(\n",
    "    n_workers=0,\n",
    "    memory=\"32GB\",\n",
    "    processes=1,\n",
    "    cores=1,\n",
    "    scheduler_options={\n",
    "        \"dashboard_address\": \":11111\",\n",
    "        \"allowed_failures\": 10\n",
    "    },\n",
    "    job_cpu=1,\n",
    "    walltime=\"3:0:0\",\n",
    "    job_extra_directives = [\"-p medium,fast,cpu\"],\n",
    ")\n",
    "cluster.adapt(minimum=0, maximum=200)\n",
    "client = Client(cluster)"
   ]
  },
  {
   "cell_type": "code",
   "execution_count": 11,
   "id": "c50cdf79-4a43-4cdc-8918-e82792b554b4",
   "metadata": {},
   "outputs": [],
   "source": [
    "# Submitting jobs\n",
    "futures = []\n",
    "for seed in range(ntrial):\n",
    "            f = client.submit(file.main,seed,n,ntest,d,noise,\n",
    "                             error_samples = error_samples, gp_samples = gp_samples,\n",
    "                             niter = niter, kernel = kernel)\n",
    "            futures += [f]"
   ]
  },
  {
   "cell_type": "code",
   "execution_count": 12,
   "id": "a248d795-5e4d-4ac4-8a21-5f84775f9ef2",
   "metadata": {},
   "outputs": [
    {
     "data": {
      "text/plain": [
       "[<Future: pending, key: main-df5600526210253a924d0cc480cecb3b>,\n",
       " <Future: pending, key: main-1c25a9d22c4a1d676aa6e90cc2c26561>,\n",
       " <Future: pending, key: main-b349a7d3428326eb27b97129b631afa5>,\n",
       " <Future: pending, key: main-4f3263a77e69848bc7319c094801c799>,\n",
       " <Future: pending, key: main-982d599686582bb16df0ed316c1a92a3>,\n",
       " <Future: pending, key: main-40634e47802eb16f03ebc0cf594674f2>,\n",
       " <Future: pending, key: main-71553e5a0f9ebc9c0d6b6aa77eed4c06>,\n",
       " <Future: pending, key: main-a732d186f502806711f6ff2ae1619207>,\n",
       " <Future: pending, key: main-cfc2562a60b68d048b3224555ef6241b>,\n",
       " <Future: pending, key: main-570e437015974ed32d5f6681451c5607>,\n",
       " <Future: pending, key: main-a2fcb39e60919d10c274ffb295d86907>,\n",
       " <Future: pending, key: main-1b8d26511ef46c117557fb183125677a>,\n",
       " <Future: pending, key: main-44dd78d0c69712a65b2fad5a27efddac>,\n",
       " <Future: pending, key: main-2fe86b428db7b2c2eeb9a75e1a694bbd>,\n",
       " <Future: pending, key: main-adf8699c5ac27b3df40268d90af6c182>,\n",
       " <Future: pending, key: main-83384e4ec394b689e596d273d81b72d5>,\n",
       " <Future: pending, key: main-5deae52be137f6e43137022f633ab850>,\n",
       " <Future: pending, key: main-d4c8f637d05ab89f0645151efdc3df24>,\n",
       " <Future: pending, key: main-c14da4f894a2ca30daef999b8f4eb31b>,\n",
       " <Future: pending, key: main-c8e50838587a81e4b40ec4eacc46c583>,\n",
       " <Future: pending, key: main-249d7d76ff9210b7af15eab0c082da8b>,\n",
       " <Future: pending, key: main-4da40db4bdc65af3aa3d1a65e2bbe249>,\n",
       " <Future: pending, key: main-0fe579962fe03377de0eed2dfbf3ef1a>,\n",
       " <Future: pending, key: main-89d6f5d0df91b849d1049c71d471efc6>,\n",
       " <Future: pending, key: main-7d8770ff2cc9abe83ee83d93cac345ea>,\n",
       " <Future: pending, key: main-c723701c39c191705253e6cd9268b3cb>,\n",
       " <Future: pending, key: main-8a059a639d8b8324f89ada9fd286e63f>,\n",
       " <Future: pending, key: main-29093ac2c57c9048b91180ae298d7deb>,\n",
       " <Future: pending, key: main-c41eb2ccab70e3c84576895ea6295099>,\n",
       " <Future: pending, key: main-d42719d805d613fb5f83f8722c755697>,\n",
       " <Future: pending, key: main-7825b2d0adc7a3ea90234aaac98534c0>,\n",
       " <Future: pending, key: main-486c7929ce028ee0a7cfb25d2a02d718>,\n",
       " <Future: pending, key: main-919235bd99b189dc3db9c539b373e178>,\n",
       " <Future: pending, key: main-349f198229d1b55e0e8a98279cda97ba>,\n",
       " <Future: pending, key: main-7e675af75f5c8f12e802cb4fa6d17346>,\n",
       " <Future: pending, key: main-de4deaa90538bbe3c996bce2f337641d>,\n",
       " <Future: pending, key: main-018b601740514f988ac0a8bc01ff62dc>,\n",
       " <Future: pending, key: main-77a02ebaad263dc51323fa632dc3998e>,\n",
       " <Future: pending, key: main-563723da308d98bd3315e64aadacb1e6>,\n",
       " <Future: pending, key: main-6438ed5ba452c8c45513cb36820c9eef>,\n",
       " <Future: pending, key: main-fffa928712e3b693fd96b1ea6f49e427>,\n",
       " <Future: pending, key: main-4cb7aa48088020fda4bcff286bc22599>,\n",
       " <Future: pending, key: main-0d9213139989d7660030dfac2905b7cc>,\n",
       " <Future: pending, key: main-ca16e1124db32835caccffc30977d786>,\n",
       " <Future: pending, key: main-a9f12de70cdc314c098c5ac6e09f62e5>,\n",
       " <Future: pending, key: main-3fa15cc80773f37b33238014622f33e3>,\n",
       " <Future: pending, key: main-873a5bbf4c4438bd2efbb7ef2431efac>,\n",
       " <Future: pending, key: main-f850af3d833405242ea67ac3205da7ce>,\n",
       " <Future: pending, key: main-af8195d3c1ff98acc4a285880c935253>,\n",
       " <Future: pending, key: main-d497ab096b343197313a116b4aeac0ec>]"
      ]
     },
     "execution_count": 12,
     "metadata": {},
     "output_type": "execute_result"
    }
   ],
   "source": [
    "# Check on futures\n",
    "futures"
   ]
  },
  {
   "cell_type": "code",
   "execution_count": 13,
   "id": "f18c8218-4374-4884-83fa-f4a28f8cbbbf",
   "metadata": {},
   "outputs": [],
   "source": [
    "# Getting results\n",
    "results = client.gather(futures)"
   ]
  },
  {
   "cell_type": "code",
   "execution_count": 14,
   "id": "555c9e87-bb97-4c84-83ef-ba7d92cb0b9e",
   "metadata": {},
   "outputs": [],
   "source": [
    "# Closing client\n",
    "client.close()\n",
    "cluster.close()"
   ]
  },
  {
   "cell_type": "code",
   "execution_count": 15,
   "id": "7a3ac498-c027-4afe-8149-cf049bc4a696",
   "metadata": {},
   "outputs": [],
   "source": [
    "# Saving results\n",
    "torch.save(obj = results,\n",
    "           f = \"ablation_baselinegp_ntrial={0}_n={1}_d={2}_noise={3}_kernel={4}.pt\".format(ntrial,n,d,noise,kernel))"
   ]
  }
 ],
 "metadata": {
  "kernelspec": {
   "display_name": "Python 3 (ipykernel)",
   "language": "python",
   "name": "python3"
  },
  "language_info": {
   "codemirror_mode": {
    "name": "ipython",
    "version": 3
   },
   "file_extension": ".py",
   "mimetype": "text/x-python",
   "name": "python",
   "nbconvert_exporter": "python",
   "pygments_lexer": "ipython3",
   "version": "3.12.5"
  }
 },
 "nbformat": 4,
 "nbformat_minor": 5
}
